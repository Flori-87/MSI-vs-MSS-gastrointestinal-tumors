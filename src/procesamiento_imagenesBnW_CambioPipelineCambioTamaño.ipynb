{
 "cells": [
  {
   "cell_type": "code",
   "execution_count": 1,
   "metadata": {},
   "outputs": [],
   "source": [
    "from PIL import Image\n",
    "import pandas as pd\n",
    "import glob\n",
    "import re\n",
    "import matplotlib.pyplot as plt\n",
    "import cv2\n",
    "import os\n",
    "from image_processing import *"
   ]
  },
  {
   "cell_type": "markdown",
   "metadata": {},
   "source": [
    "**Parto del pickle de 2000 imagenes BnW**"
   ]
  },
  {
   "cell_type": "code",
   "execution_count": 2,
   "metadata": {},
   "outputs": [
    {
     "data": {
      "text/html": [
       "<div>\n",
       "<style scoped>\n",
       "    .dataframe tbody tr th:only-of-type {\n",
       "        vertical-align: middle;\n",
       "    }\n",
       "\n",
       "    .dataframe tbody tr th {\n",
       "        vertical-align: top;\n",
       "    }\n",
       "\n",
       "    .dataframe thead th {\n",
       "        text-align: right;\n",
       "    }\n",
       "</style>\n",
       "<table border=\"1\" class=\"dataframe\">\n",
       "  <thead>\n",
       "    <tr style=\"text-align: right;\">\n",
       "      <th></th>\n",
       "      <th>label</th>\n",
       "      <th>image_array</th>\n",
       "    </tr>\n",
       "  </thead>\n",
       "  <tbody>\n",
       "    <tr>\n",
       "      <th>0</th>\n",
       "      <td>MSI</td>\n",
       "      <td>[[154, 179, 144, 124, 152, 146, 167, 201, 180,...</td>\n",
       "    </tr>\n",
       "    <tr>\n",
       "      <th>1</th>\n",
       "      <td>MSI</td>\n",
       "      <td>[[160, 146, 134, 96, 67, 69, 78, 96, 124, 155,...</td>\n",
       "    </tr>\n",
       "    <tr>\n",
       "      <th>2</th>\n",
       "      <td>MSI</td>\n",
       "      <td>[[246, 241, 236, 216, 173, 164, 158, 162, 164,...</td>\n",
       "    </tr>\n",
       "    <tr>\n",
       "      <th>3</th>\n",
       "      <td>MSI</td>\n",
       "      <td>[[123, 151, 178, 134, 135, 139, 142, 139, 102,...</td>\n",
       "    </tr>\n",
       "    <tr>\n",
       "      <th>4</th>\n",
       "      <td>MSI</td>\n",
       "      <td>[[128, 160, 172, 204, 192, 147, 146, 136, 127,...</td>\n",
       "    </tr>\n",
       "  </tbody>\n",
       "</table>\n",
       "</div>"
      ],
      "text/plain": [
       "  label                                        image_array\n",
       "0   MSI  [[154, 179, 144, 124, 152, 146, 167, 201, 180,...\n",
       "1   MSI  [[160, 146, 134, 96, 67, 69, 78, 96, 124, 155,...\n",
       "2   MSI  [[246, 241, 236, 216, 173, 164, 158, 162, 164,...\n",
       "3   MSI  [[123, 151, 178, 134, 135, 139, 142, 139, 102,...\n",
       "4   MSI  [[128, 160, 172, 204, 192, 147, 146, 136, 127,..."
      ]
     },
     "execution_count": 2,
     "metadata": {},
     "output_type": "execute_result"
    }
   ],
   "source": [
    "subset = pd.read_pickle(\"../output/final_subset_BnW.pkl\")\n",
    "subset.head()"
   ]
  },
  {
   "cell_type": "markdown",
   "metadata": {},
   "source": [
    "**Bajo tamaño imagen**"
   ]
  },
  {
   "cell_type": "code",
   "execution_count": 3,
   "metadata": {},
   "outputs": [],
   "source": [
    "size = (25,25)\n",
    "subset[\"image_array\"] = subset[\"image_array\"].apply(sizeImage, args=(size, False,))"
   ]
  },
  {
   "cell_type": "code",
   "execution_count": 4,
   "metadata": {},
   "outputs": [
    {
     "data": {
      "text/html": [
       "<div>\n",
       "<style scoped>\n",
       "    .dataframe tbody tr th:only-of-type {\n",
       "        vertical-align: middle;\n",
       "    }\n",
       "\n",
       "    .dataframe tbody tr th {\n",
       "        vertical-align: top;\n",
       "    }\n",
       "\n",
       "    .dataframe thead th {\n",
       "        text-align: right;\n",
       "    }\n",
       "</style>\n",
       "<table border=\"1\" class=\"dataframe\">\n",
       "  <thead>\n",
       "    <tr style=\"text-align: right;\">\n",
       "      <th></th>\n",
       "      <th>label</th>\n",
       "      <th>image_array</th>\n",
       "    </tr>\n",
       "  </thead>\n",
       "  <tbody>\n",
       "    <tr>\n",
       "      <th>0</th>\n",
       "      <td>MSI</td>\n",
       "      <td>[[151, 136, 178, 137, 127, 172, 131, 145, 171,...</td>\n",
       "    </tr>\n",
       "    <tr>\n",
       "      <th>1</th>\n",
       "      <td>MSI</td>\n",
       "      <td>[[88, 122, 103, 151, 147, 131, 150, 101, 111, ...</td>\n",
       "    </tr>\n",
       "    <tr>\n",
       "      <th>2</th>\n",
       "      <td>MSI</td>\n",
       "      <td>[[148, 155, 148, 153, 100, 197, 177, 96, 182, ...</td>\n",
       "    </tr>\n",
       "    <tr>\n",
       "      <th>3</th>\n",
       "      <td>MSI</td>\n",
       "      <td>[[94, 97, 96, 111, 234, 121, 193, 115, 103, 14...</td>\n",
       "    </tr>\n",
       "    <tr>\n",
       "      <th>4</th>\n",
       "      <td>MSI</td>\n",
       "      <td>[[160, 150, 169, 146, 231, 125, 164, 139, 108,...</td>\n",
       "    </tr>\n",
       "    <tr>\n",
       "      <th>...</th>\n",
       "      <td>...</td>\n",
       "      <td>...</td>\n",
       "    </tr>\n",
       "    <tr>\n",
       "      <th>1995</th>\n",
       "      <td>MSS</td>\n",
       "      <td>[[110, 239, 154, 98, 68, 77, 126, 163, 163, 23...</td>\n",
       "    </tr>\n",
       "    <tr>\n",
       "      <th>1996</th>\n",
       "      <td>MSS</td>\n",
       "      <td>[[195, 156, 155, 128, 181, 241, 166, 139, 196,...</td>\n",
       "    </tr>\n",
       "    <tr>\n",
       "      <th>1997</th>\n",
       "      <td>MSS</td>\n",
       "      <td>[[98, 96, 122, 90, 118, 102, 98, 152, 94, 132,...</td>\n",
       "    </tr>\n",
       "    <tr>\n",
       "      <th>1998</th>\n",
       "      <td>MSS</td>\n",
       "      <td>[[129, 194, 117, 159, 101, 83, 201, 187, 151, ...</td>\n",
       "    </tr>\n",
       "    <tr>\n",
       "      <th>1999</th>\n",
       "      <td>MSS</td>\n",
       "      <td>[[168, 149, 195, 162, 81, 100, 130, 142, 129, ...</td>\n",
       "    </tr>\n",
       "  </tbody>\n",
       "</table>\n",
       "<p>2000 rows × 2 columns</p>\n",
       "</div>"
      ],
      "text/plain": [
       "     label                                        image_array\n",
       "0      MSI  [[151, 136, 178, 137, 127, 172, 131, 145, 171,...\n",
       "1      MSI  [[88, 122, 103, 151, 147, 131, 150, 101, 111, ...\n",
       "2      MSI  [[148, 155, 148, 153, 100, 197, 177, 96, 182, ...\n",
       "3      MSI  [[94, 97, 96, 111, 234, 121, 193, 115, 103, 14...\n",
       "4      MSI  [[160, 150, 169, 146, 231, 125, 164, 139, 108,...\n",
       "...    ...                                                ...\n",
       "1995   MSS  [[110, 239, 154, 98, 68, 77, 126, 163, 163, 23...\n",
       "1996   MSS  [[195, 156, 155, 128, 181, 241, 166, 139, 196,...\n",
       "1997   MSS  [[98, 96, 122, 90, 118, 102, 98, 152, 94, 132,...\n",
       "1998   MSS  [[129, 194, 117, 159, 101, 83, 201, 187, 151, ...\n",
       "1999   MSS  [[168, 149, 195, 162, 81, 100, 130, 142, 129, ...\n",
       "\n",
       "[2000 rows x 2 columns]"
      ]
     },
     "execution_count": 4,
     "metadata": {},
     "output_type": "execute_result"
    }
   ],
   "source": [
    "subset"
   ]
  },
  {
   "cell_type": "code",
   "execution_count": 5,
   "metadata": {},
   "outputs": [
    {
     "data": {
      "text/plain": [
       "(25, 25)"
      ]
     },
     "execution_count": 5,
     "metadata": {},
     "output_type": "execute_result"
    }
   ],
   "source": [
    "subset[\"image_array\"][0].shape"
   ]
  },
  {
   "cell_type": "code",
   "execution_count": 6,
   "metadata": {},
   "outputs": [],
   "source": [
    "subset.to_pickle(\"../output/subset_BnW_25x25.pkl\")"
   ]
  },
  {
   "cell_type": "markdown",
   "metadata": {},
   "source": [
    "**Normalizo**"
   ]
  },
  {
   "cell_type": "code",
   "execution_count": 7,
   "metadata": {},
   "outputs": [],
   "source": [
    "subset[\"image_array\"] = subset[\"image_array\"].apply(normalizeImage)"
   ]
  },
  {
   "cell_type": "code",
   "execution_count": 8,
   "metadata": {},
   "outputs": [
    {
     "data": {
      "text/html": [
       "<div>\n",
       "<style scoped>\n",
       "    .dataframe tbody tr th:only-of-type {\n",
       "        vertical-align: middle;\n",
       "    }\n",
       "\n",
       "    .dataframe tbody tr th {\n",
       "        vertical-align: top;\n",
       "    }\n",
       "\n",
       "    .dataframe thead th {\n",
       "        text-align: right;\n",
       "    }\n",
       "</style>\n",
       "<table border=\"1\" class=\"dataframe\">\n",
       "  <thead>\n",
       "    <tr style=\"text-align: right;\">\n",
       "      <th></th>\n",
       "      <th>label</th>\n",
       "      <th>image_array</th>\n",
       "    </tr>\n",
       "  </thead>\n",
       "  <tbody>\n",
       "    <tr>\n",
       "      <th>0</th>\n",
       "      <td>MSI</td>\n",
       "      <td>[[0.705607476635514, 0.6355140186915887, 0.831...</td>\n",
       "    </tr>\n",
       "    <tr>\n",
       "      <th>1</th>\n",
       "      <td>MSI</td>\n",
       "      <td>[[0.4, 0.5545454545454546, 0.4681818181818182,...</td>\n",
       "    </tr>\n",
       "    <tr>\n",
       "      <th>2</th>\n",
       "      <td>MSI</td>\n",
       "      <td>[[0.5873015873015873, 0.6150793650793651, 0.58...</td>\n",
       "    </tr>\n",
       "    <tr>\n",
       "      <th>3</th>\n",
       "      <td>MSI</td>\n",
       "      <td>[[0.3836734693877551, 0.39591836734693875, 0.3...</td>\n",
       "    </tr>\n",
       "    <tr>\n",
       "      <th>4</th>\n",
       "      <td>MSI</td>\n",
       "      <td>[[0.6866952789699571, 0.6437768240343348, 0.72...</td>\n",
       "    </tr>\n",
       "  </tbody>\n",
       "</table>\n",
       "</div>"
      ],
      "text/plain": [
       "  label                                        image_array\n",
       "0   MSI  [[0.705607476635514, 0.6355140186915887, 0.831...\n",
       "1   MSI  [[0.4, 0.5545454545454546, 0.4681818181818182,...\n",
       "2   MSI  [[0.5873015873015873, 0.6150793650793651, 0.58...\n",
       "3   MSI  [[0.3836734693877551, 0.39591836734693875, 0.3...\n",
       "4   MSI  [[0.6866952789699571, 0.6437768240343348, 0.72..."
      ]
     },
     "execution_count": 8,
     "metadata": {},
     "output_type": "execute_result"
    }
   ],
   "source": [
    "subset.head()"
   ]
  },
  {
   "cell_type": "code",
   "execution_count": 9,
   "metadata": {},
   "outputs": [],
   "source": [
    "subset.to_pickle(\"../output/subset_BnW_25x25Normalized.pkl\")"
   ]
  },
  {
   "cell_type": "code",
   "execution_count": null,
   "metadata": {},
   "outputs": [],
   "source": []
  }
 ],
 "metadata": {
  "kernelspec": {
   "display_name": "Python 3",
   "language": "python",
   "name": "python3"
  },
  "language_info": {
   "codemirror_mode": {
    "name": "ipython",
    "version": 3
   },
   "file_extension": ".py",
   "mimetype": "text/x-python",
   "name": "python",
   "nbconvert_exporter": "python",
   "pygments_lexer": "ipython3",
   "version": "3.7.5"
  }
 },
 "nbformat": 4,
 "nbformat_minor": 4
}
