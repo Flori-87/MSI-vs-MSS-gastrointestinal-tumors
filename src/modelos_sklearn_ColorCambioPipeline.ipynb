{
 "cells": [
  {
   "cell_type": "code",
   "execution_count": 2,
   "metadata": {},
   "outputs": [],
   "source": [
    "from tensorflowNN import *"
   ]
  },
  {
   "cell_type": "code",
   "execution_count": 3,
   "metadata": {},
   "outputs": [
    {
     "data": {
      "text/html": [
       "<div>\n",
       "<style scoped>\n",
       "    .dataframe tbody tr th:only-of-type {\n",
       "        vertical-align: middle;\n",
       "    }\n",
       "\n",
       "    .dataframe tbody tr th {\n",
       "        vertical-align: top;\n",
       "    }\n",
       "\n",
       "    .dataframe thead th {\n",
       "        text-align: right;\n",
       "    }\n",
       "</style>\n",
       "<table border=\"1\" class=\"dataframe\">\n",
       "  <thead>\n",
       "    <tr style=\"text-align: right;\">\n",
       "      <th></th>\n",
       "      <th>label</th>\n",
       "      <th>image_array</th>\n",
       "      <th>image_array_Denoise</th>\n",
       "    </tr>\n",
       "  </thead>\n",
       "  <tbody>\n",
       "    <tr>\n",
       "      <th>0</th>\n",
       "      <td>0</td>\n",
       "      <td>[[[208, 154, 195], [115, 66, 113], [195, 94, 1...</td>\n",
       "      <td>[[[0.8628318584070797, 0.6150442477876106, 0.7...</td>\n",
       "    </tr>\n",
       "    <tr>\n",
       "      <th>1</th>\n",
       "      <td>0</td>\n",
       "      <td>[[[195, 118, 169], [117, 55, 115], [211, 151, ...</td>\n",
       "      <td>[[[0.9512195121951219, 0.5756097560975609, 0.8...</td>\n",
       "    </tr>\n",
       "    <tr>\n",
       "      <th>2</th>\n",
       "      <td>0</td>\n",
       "      <td>[[[247, 210, 231], [254, 227, 239], [251, 213,...</td>\n",
       "      <td>[[[0.9686274509803922, 0.8235294117647058, 0.9...</td>\n",
       "    </tr>\n",
       "    <tr>\n",
       "      <th>3</th>\n",
       "      <td>0</td>\n",
       "      <td>[[[128, 64, 123], [102, 56, 109], [172, 116, 1...</td>\n",
       "      <td>[[[0.5432098765432098, 0.30864197530864196, 0....</td>\n",
       "    </tr>\n",
       "    <tr>\n",
       "      <th>4</th>\n",
       "      <td>0</td>\n",
       "      <td>[[[219, 170, 204], [169, 105, 159], [202, 125,...</td>\n",
       "      <td>[[[0.9864864864864865, 0.7657657657657657, 0.9...</td>\n",
       "    </tr>\n",
       "  </tbody>\n",
       "</table>\n",
       "</div>"
      ],
      "text/plain": [
       "   label                                        image_array  \\\n",
       "0      0  [[[208, 154, 195], [115, 66, 113], [195, 94, 1...   \n",
       "1      0  [[[195, 118, 169], [117, 55, 115], [211, 151, ...   \n",
       "2      0  [[[247, 210, 231], [254, 227, 239], [251, 213,...   \n",
       "3      0  [[[128, 64, 123], [102, 56, 109], [172, 116, 1...   \n",
       "4      0  [[[219, 170, 204], [169, 105, 159], [202, 125,...   \n",
       "\n",
       "                                 image_array_Denoise  \n",
       "0  [[[0.8628318584070797, 0.6150442477876106, 0.7...  \n",
       "1  [[[0.9512195121951219, 0.5756097560975609, 0.8...  \n",
       "2  [[[0.9686274509803922, 0.8235294117647058, 0.9...  \n",
       "3  [[[0.5432098765432098, 0.30864197530864196, 0....  \n",
       "4  [[[0.9864864864864865, 0.7657657657657657, 0.9...  "
      ]
     },
     "metadata": {},
     "output_type": "display_data"
    }
   ],
   "source": [
    "path_file = \"../output/subset_Color_48x48NormalizedFilter.pkl\"\n",
    "subset = readPickle(path_file)"
   ]
  },
  {
   "cell_type": "code",
   "execution_count": 4,
   "metadata": {},
   "outputs": [
    {
     "data": {
      "text/html": [
       "<div>\n",
       "<style scoped>\n",
       "    .dataframe tbody tr th:only-of-type {\n",
       "        vertical-align: middle;\n",
       "    }\n",
       "\n",
       "    .dataframe tbody tr th {\n",
       "        vertical-align: top;\n",
       "    }\n",
       "\n",
       "    .dataframe thead th {\n",
       "        text-align: right;\n",
       "    }\n",
       "</style>\n",
       "<table border=\"1\" class=\"dataframe\">\n",
       "  <thead>\n",
       "    <tr style=\"text-align: right;\">\n",
       "      <th></th>\n",
       "      <th>label</th>\n",
       "      <th>image_array</th>\n",
       "      <th>image_array_Denoise</th>\n",
       "    </tr>\n",
       "  </thead>\n",
       "  <tbody>\n",
       "    <tr>\n",
       "      <th>0</th>\n",
       "      <td>0</td>\n",
       "      <td>[[[208, 154, 195], [115, 66, 113], [195, 94, 1...</td>\n",
       "      <td>[[[0.8628318584070797, 0.6150442477876106, 0.7...</td>\n",
       "    </tr>\n",
       "    <tr>\n",
       "      <th>1</th>\n",
       "      <td>0</td>\n",
       "      <td>[[[195, 118, 169], [117, 55, 115], [211, 151, ...</td>\n",
       "      <td>[[[0.9512195121951219, 0.5756097560975609, 0.8...</td>\n",
       "    </tr>\n",
       "    <tr>\n",
       "      <th>2</th>\n",
       "      <td>0</td>\n",
       "      <td>[[[247, 210, 231], [254, 227, 239], [251, 213,...</td>\n",
       "      <td>[[[0.9686274509803922, 0.8235294117647058, 0.9...</td>\n",
       "    </tr>\n",
       "    <tr>\n",
       "      <th>3</th>\n",
       "      <td>0</td>\n",
       "      <td>[[[128, 64, 123], [102, 56, 109], [172, 116, 1...</td>\n",
       "      <td>[[[0.5432098765432098, 0.30864197530864196, 0....</td>\n",
       "    </tr>\n",
       "    <tr>\n",
       "      <th>4</th>\n",
       "      <td>0</td>\n",
       "      <td>[[[219, 170, 204], [169, 105, 159], [202, 125,...</td>\n",
       "      <td>[[[0.9864864864864865, 0.7657657657657657, 0.9...</td>\n",
       "    </tr>\n",
       "    <tr>\n",
       "      <th>...</th>\n",
       "      <td>...</td>\n",
       "      <td>...</td>\n",
       "      <td>...</td>\n",
       "    </tr>\n",
       "    <tr>\n",
       "      <th>3995</th>\n",
       "      <td>1</td>\n",
       "      <td>[[[220, 179, 204], [199, 164, 193], [172, 111,...</td>\n",
       "      <td>[[[0.8906882591093117, 0.7125506072874493, 0.8...</td>\n",
       "    </tr>\n",
       "    <tr>\n",
       "      <th>3996</th>\n",
       "      <td>1</td>\n",
       "      <td>[[[240, 235, 242], [237, 235, 242], [239, 234,...</td>\n",
       "      <td>[[[0.9917355371900827, 0.9710743801652892, 1.0...</td>\n",
       "    </tr>\n",
       "    <tr>\n",
       "      <th>3997</th>\n",
       "      <td>1</td>\n",
       "      <td>[[[209, 136, 216], [188, 137, 189], [229, 176,...</td>\n",
       "      <td>[[[0.8931623931623932, 0.5811965811965812, 0.9...</td>\n",
       "    </tr>\n",
       "    <tr>\n",
       "      <th>3998</th>\n",
       "      <td>1</td>\n",
       "      <td>[[[211, 126, 173], [221, 148, 191], [213, 140,...</td>\n",
       "      <td>[[[0.8612244897959184, 0.5142857142857142, 0.7...</td>\n",
       "    </tr>\n",
       "    <tr>\n",
       "      <th>3999</th>\n",
       "      <td>1</td>\n",
       "      <td>[[[165, 120, 165], [208, 156, 204], [194, 141,...</td>\n",
       "      <td>[[[0.8151260504201681, 0.5042016806722689, 0.6...</td>\n",
       "    </tr>\n",
       "  </tbody>\n",
       "</table>\n",
       "<p>4000 rows × 3 columns</p>\n",
       "</div>"
      ],
      "text/plain": [
       "      label                                        image_array  \\\n",
       "0         0  [[[208, 154, 195], [115, 66, 113], [195, 94, 1...   \n",
       "1         0  [[[195, 118, 169], [117, 55, 115], [211, 151, ...   \n",
       "2         0  [[[247, 210, 231], [254, 227, 239], [251, 213,...   \n",
       "3         0  [[[128, 64, 123], [102, 56, 109], [172, 116, 1...   \n",
       "4         0  [[[219, 170, 204], [169, 105, 159], [202, 125,...   \n",
       "...     ...                                                ...   \n",
       "3995      1  [[[220, 179, 204], [199, 164, 193], [172, 111,...   \n",
       "3996      1  [[[240, 235, 242], [237, 235, 242], [239, 234,...   \n",
       "3997      1  [[[209, 136, 216], [188, 137, 189], [229, 176,...   \n",
       "3998      1  [[[211, 126, 173], [221, 148, 191], [213, 140,...   \n",
       "3999      1  [[[165, 120, 165], [208, 156, 204], [194, 141,...   \n",
       "\n",
       "                                    image_array_Denoise  \n",
       "0     [[[0.8628318584070797, 0.6150442477876106, 0.7...  \n",
       "1     [[[0.9512195121951219, 0.5756097560975609, 0.8...  \n",
       "2     [[[0.9686274509803922, 0.8235294117647058, 0.9...  \n",
       "3     [[[0.5432098765432098, 0.30864197530864196, 0....  \n",
       "4     [[[0.9864864864864865, 0.7657657657657657, 0.9...  \n",
       "...                                                 ...  \n",
       "3995  [[[0.8906882591093117, 0.7125506072874493, 0.8...  \n",
       "3996  [[[0.9917355371900827, 0.9710743801652892, 1.0...  \n",
       "3997  [[[0.8931623931623932, 0.5811965811965812, 0.9...  \n",
       "3998  [[[0.8612244897959184, 0.5142857142857142, 0.7...  \n",
       "3999  [[[0.8151260504201681, 0.5042016806722689, 0.6...  \n",
       "\n",
       "[4000 rows x 3 columns]"
      ]
     },
     "execution_count": 4,
     "metadata": {},
     "output_type": "execute_result"
    }
   ],
   "source": [
    "subset"
   ]
  },
  {
   "cell_type": "code",
   "execution_count": 5,
   "metadata": {},
   "outputs": [
    {
     "name": "stdout",
     "output_type": "stream",
     "text": [
      "The shape of X is: (4000, 48, 48, 3)\n"
     ]
    }
   ],
   "source": [
    "pandas_seriesX = subset[\"image_array\"]\n",
    "X = createX(pandas_seriesX)"
   ]
  },
  {
   "cell_type": "code",
   "execution_count": 5,
   "metadata": {},
   "outputs": [
    {
     "data": {
      "text/plain": [
       "'\\nname_column = \"label\"\\ny = createY(subset, name_column)\\n'"
      ]
     },
     "execution_count": 5,
     "metadata": {},
     "output_type": "execute_result"
    }
   ],
   "source": [
    "\"\"\"\n",
    "name_column = \"label\"\n",
    "y = createY(subset, name_column)\n",
    "\"\"\""
   ]
  },
  {
   "cell_type": "code",
   "execution_count": 6,
   "metadata": {},
   "outputs": [],
   "source": [
    "y = subset[\"label\"]"
   ]
  },
  {
   "cell_type": "code",
   "execution_count": 7,
   "metadata": {},
   "outputs": [],
   "source": [
    "y = np.array(y)"
   ]
  },
  {
   "cell_type": "code",
   "execution_count": 8,
   "metadata": {},
   "outputs": [
    {
     "data": {
      "text/plain": [
       "array([0, 0, 0, ..., 1, 1, 1])"
      ]
     },
     "execution_count": 8,
     "metadata": {},
     "output_type": "execute_result"
    }
   ],
   "source": [
    "y"
   ]
  },
  {
   "cell_type": "code",
   "execution_count": 9,
   "metadata": {},
   "outputs": [],
   "source": [
    "test_size=0.2\n",
    "X_train, X_test, y_train, y_test = splitTrainTest(X,y, test_size)"
   ]
  },
  {
   "cell_type": "code",
   "execution_count": 10,
   "metadata": {},
   "outputs": [],
   "source": [
    "num_classes= 2\n",
    "img_rows, img_cols = 48, 48"
   ]
  },
  {
   "cell_type": "code",
   "execution_count": 11,
   "metadata": {},
   "outputs": [
    {
     "name": "stdout",
     "output_type": "stream",
     "text": [
      "X_train shape: (3200, 48, 48, 3)\n",
      "3200 train samples\n",
      "800 test samples\n"
     ]
    }
   ],
   "source": [
    "#Siempre debug = False para imagenes en BnW\n",
    "debug = True \n",
    "X_train, X_test, y_train, y_test, input_shape = prepareDataNN(X_train, X_test, y_train, y_test, debug, num_classes, img_rows, img_cols)"
   ]
  },
  {
   "cell_type": "code",
   "execution_count": 12,
   "metadata": {},
   "outputs": [],
   "source": [
    "model = architectureNN(input_shape, num_classes)"
   ]
  },
  {
   "cell_type": "code",
   "execution_count": 13,
   "metadata": {},
   "outputs": [
    {
     "name": "stdout",
     "output_type": "stream",
     "text": [
      "Train on 3200 samples, validate on 800 samples\n",
      "Epoch 1/20\n",
      "3200/3200 [==============================] - 21s 7ms/step - loss: 0.7270 - accuracy: 0.5003 - val_loss: 0.6932 - val_accuracy: 0.5025\n",
      "Epoch 2/20\n",
      "3200/3200 [==============================] - 21s 7ms/step - loss: 0.6960 - accuracy: 0.4903 - val_loss: 0.6932 - val_accuracy: 0.5025\n",
      "Epoch 3/20\n",
      "3200/3200 [==============================] - 22s 7ms/step - loss: 0.6955 - accuracy: 0.4941 - val_loss: 0.6931 - val_accuracy: 0.5125\n",
      "Epoch 4/20\n",
      "3200/3200 [==============================] - 21s 7ms/step - loss: 0.6940 - accuracy: 0.5031 - val_loss: 0.6932 - val_accuracy: 0.4975\n",
      "Epoch 5/20\n",
      "3200/3200 [==============================] - 21s 7ms/step - loss: 0.6962 - accuracy: 0.5153 - val_loss: 0.6932 - val_accuracy: 0.4963\n",
      "Epoch 6/20\n",
      "3200/3200 [==============================] - 22s 7ms/step - loss: 0.6939 - accuracy: 0.5041 - val_loss: 0.6933 - val_accuracy: 0.5050\n",
      "Epoch 7/20\n",
      "3200/3200 [==============================] - 21s 7ms/step - loss: 0.6937 - accuracy: 0.5163 - val_loss: 0.6931 - val_accuracy: 0.5038\n",
      "Epoch 8/20\n",
      "3200/3200 [==============================] - 21s 6ms/step - loss: 0.6929 - accuracy: 0.5153 - val_loss: 0.6933 - val_accuracy: 0.5063\n",
      "Epoch 9/20\n",
      "3200/3200 [==============================] - 21s 7ms/step - loss: 0.6913 - accuracy: 0.5334 - val_loss: 0.6933 - val_accuracy: 0.4950\n",
      "Epoch 10/20\n",
      "3200/3200 [==============================] - 22s 7ms/step - loss: 0.6850 - accuracy: 0.5653 - val_loss: 0.6934 - val_accuracy: 0.5050\n",
      "Epoch 11/20\n",
      "3200/3200 [==============================] - 21s 7ms/step - loss: 0.6693 - accuracy: 0.5925 - val_loss: 0.6937 - val_accuracy: 0.5138\n",
      "Epoch 12/20\n",
      "3200/3200 [==============================] - 22s 7ms/step - loss: 0.6424 - accuracy: 0.6447 - val_loss: 0.7080 - val_accuracy: 0.5150\n",
      "Epoch 13/20\n",
      "3200/3200 [==============================] - 21s 7ms/step - loss: 0.5895 - accuracy: 0.6919 - val_loss: 0.7155 - val_accuracy: 0.5250\n",
      "Epoch 14/20\n",
      "3200/3200 [==============================] - 22s 7ms/step - loss: 0.5125 - accuracy: 0.7528 - val_loss: 0.7664 - val_accuracy: 0.5312\n",
      "Epoch 15/20\n",
      "3200/3200 [==============================] - 20s 6ms/step - loss: 0.4344 - accuracy: 0.8000 - val_loss: 0.8392 - val_accuracy: 0.5362\n",
      "Epoch 16/20\n",
      "3200/3200 [==============================] - 21s 6ms/step - loss: 0.3785 - accuracy: 0.8441 - val_loss: 0.8558 - val_accuracy: 0.5175\n",
      "Epoch 17/20\n",
      "3200/3200 [==============================] - 20s 6ms/step - loss: 0.2820 - accuracy: 0.8922 - val_loss: 1.2887 - val_accuracy: 0.5163\n",
      "Epoch 18/20\n",
      "3200/3200 [==============================] - 20s 6ms/step - loss: 0.2224 - accuracy: 0.9147 - val_loss: 1.0753 - val_accuracy: 0.5475\n",
      "Epoch 19/20\n",
      "3200/3200 [==============================] - 22s 7ms/step - loss: 0.1827 - accuracy: 0.9353 - val_loss: 1.1683 - val_accuracy: 0.5362\n",
      "Epoch 20/20\n",
      "3200/3200 [==============================] - 20s 6ms/step - loss: 0.1448 - accuracy: 0.9466 - val_loss: 1.3852 - val_accuracy: 0.5362\n"
     ]
    }
   ],
   "source": [
    "# Fit the NN\n",
    "batch_size = 20\n",
    "epochs = 20\n",
    "model = fitModel(model, X_train, y_train, X_test, y_test, batch_size, epochs)"
   ]
  },
  {
   "cell_type": "code",
   "execution_count": 14,
   "metadata": {},
   "outputs": [
    {
     "name": "stdout",
     "output_type": "stream",
     "text": [
      "Test loss: 1.3851556062698365\n",
      "Test accuracy: 0.5362499952316284\n"
     ]
    }
   ],
   "source": [
    "score = model.evaluate(X_test, y_test, verbose=0)\n",
    "print('Test loss:', score[0])\n",
    "print('Test accuracy:', score[1])"
   ]
  },
  {
   "cell_type": "code",
   "execution_count": 28,
   "metadata": {},
   "outputs": [
    {
     "name": "stdout",
     "output_type": "stream",
     "text": [
      "Probs -> MSI:0.75352 MSS:0.24648\n"
     ]
    }
   ],
   "source": [
    "img = X_test[259]\n",
    "pred = model.predict(np.expand_dims(img,axis=0))[0]\n",
    "print(\"Probs -> MSI:{0:.5f} MSS:{1:.5f}\".format(pred[0],pred[1]))"
   ]
  },
  {
   "cell_type": "code",
   "execution_count": 29,
   "metadata": {},
   "outputs": [
    {
     "data": {
      "text/plain": [
       "array([0., 1.], dtype=float32)"
      ]
     },
     "execution_count": 29,
     "metadata": {},
     "output_type": "execute_result"
    }
   ],
   "source": [
    "y_test[259]"
   ]
  },
  {
   "cell_type": "code",
   "execution_count": null,
   "metadata": {},
   "outputs": [],
   "source": []
  }
 ],
 "metadata": {
  "kernelspec": {
   "display_name": "Python 3",
   "language": "python",
   "name": "python3"
  },
  "language_info": {
   "codemirror_mode": {
    "name": "ipython",
    "version": 3
   },
   "file_extension": ".py",
   "mimetype": "text/x-python",
   "name": "python",
   "nbconvert_exporter": "python",
   "pygments_lexer": "ipython3",
   "version": "3.7.5"
  }
 },
 "nbformat": 4,
 "nbformat_minor": 4
}
