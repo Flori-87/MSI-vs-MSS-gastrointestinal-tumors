{
 "cells": [
  {
   "cell_type": "code",
   "execution_count": 1,
   "metadata": {},
   "outputs": [
    {
     "name": "stderr",
     "output_type": "stream",
     "text": [
      "Using TensorFlow backend.\n"
     ]
    }
   ],
   "source": [
    "from tensorflowNN import *"
   ]
  },
  {
   "cell_type": "code",
   "execution_count": 2,
   "metadata": {},
   "outputs": [
    {
     "data": {
      "text/html": [
       "<div>\n",
       "<style scoped>\n",
       "    .dataframe tbody tr th:only-of-type {\n",
       "        vertical-align: middle;\n",
       "    }\n",
       "\n",
       "    .dataframe tbody tr th {\n",
       "        vertical-align: top;\n",
       "    }\n",
       "\n",
       "    .dataframe thead th {\n",
       "        text-align: right;\n",
       "    }\n",
       "</style>\n",
       "<table border=\"1\" class=\"dataframe\">\n",
       "  <thead>\n",
       "    <tr style=\"text-align: right;\">\n",
       "      <th></th>\n",
       "      <th>label</th>\n",
       "      <th>image_array</th>\n",
       "    </tr>\n",
       "  </thead>\n",
       "  <tbody>\n",
       "    <tr>\n",
       "      <th>0</th>\n",
       "      <td>MSI</td>\n",
       "      <td>[[[207, 131, 178], [216, 161, 201], [178, 126,...</td>\n",
       "    </tr>\n",
       "    <tr>\n",
       "      <th>1</th>\n",
       "      <td>MSI</td>\n",
       "      <td>[[[216, 136, 187], [205, 121, 173], [195, 108,...</td>\n",
       "    </tr>\n",
       "    <tr>\n",
       "      <th>2</th>\n",
       "      <td>MSI</td>\n",
       "      <td>[[[254, 246, 244], [253, 238, 243], [255, 229,...</td>\n",
       "    </tr>\n",
       "    <tr>\n",
       "      <th>3</th>\n",
       "      <td>MSI</td>\n",
       "      <td>[[[159, 101, 152], [186, 129, 182], [210, 155,...</td>\n",
       "    </tr>\n",
       "    <tr>\n",
       "      <th>4</th>\n",
       "      <td>MSI</td>\n",
       "      <td>[[[173, 105, 156], [203, 141, 182], [203, 159,...</td>\n",
       "    </tr>\n",
       "  </tbody>\n",
       "</table>\n",
       "</div>"
      ],
      "text/plain": [
       "  label                                        image_array\n",
       "0   MSI  [[[207, 131, 178], [216, 161, 201], [178, 126,...\n",
       "1   MSI  [[[216, 136, 187], [205, 121, 173], [195, 108,...\n",
       "2   MSI  [[[254, 246, 244], [253, 238, 243], [255, 229,...\n",
       "3   MSI  [[[159, 101, 152], [186, 129, 182], [210, 155,...\n",
       "4   MSI  [[[173, 105, 156], [203, 141, 182], [203, 159,..."
      ]
     },
     "metadata": {},
     "output_type": "display_data"
    }
   ],
   "source": [
    "path_file = \"../output/final_subset_Color.pkl\"\n",
    "subset = readPickle(path_file)"
   ]
  },
  {
   "cell_type": "code",
   "execution_count": 3,
   "metadata": {},
   "outputs": [
    {
     "name": "stdout",
     "output_type": "stream",
     "text": [
      "The shape of X is: (2000, 224, 224, 3)\n"
     ]
    }
   ],
   "source": [
    "pandas_seriesX = subset[\"image_array\"]\n",
    "X = createX(pandas_seriesX)"
   ]
  },
  {
   "cell_type": "code",
   "execution_count": 4,
   "metadata": {},
   "outputs": [
    {
     "name": "stdout",
     "output_type": "stream",
     "text": [
      "1    1000\n",
      "0    1000\n",
      "dtype: int64\n",
      "The shape of y is: (2000,)\n"
     ]
    }
   ],
   "source": [
    "name_column = \"label\"\n",
    "y = createY(subset, name_column)"
   ]
  },
  {
   "cell_type": "code",
   "execution_count": 5,
   "metadata": {},
   "outputs": [],
   "source": [
    "test_size=0.2\n",
    "X_train, X_test, y_train, y_test = splitTrainTest(X,y, test_size)"
   ]
  },
  {
   "cell_type": "code",
   "execution_count": 6,
   "metadata": {},
   "outputs": [],
   "source": [
    "num_classes= 2\n",
    "img_rows, img_cols = 224, 224"
   ]
  },
  {
   "cell_type": "code",
   "execution_count": 7,
   "metadata": {},
   "outputs": [
    {
     "name": "stdout",
     "output_type": "stream",
     "text": [
      "X_train shape: (1600, 224, 224, 3)\n",
      "1600 train samples\n",
      "400 test samples\n"
     ]
    }
   ],
   "source": [
    "#Siempre debug = False para imagenes en BnW\n",
    "debug = True \n",
    "X_train, X_test, y_train, y_test, input_shape = prepareDataNN(X_train, X_test, y_train, y_test, debug, num_classes, img_rows, img_cols)"
   ]
  },
  {
   "cell_type": "code",
   "execution_count": 8,
   "metadata": {},
   "outputs": [],
   "source": [
    "model = architectureNN(input_shape, num_classes)"
   ]
  },
  {
   "cell_type": "code",
   "execution_count": 9,
   "metadata": {},
   "outputs": [
    {
     "name": "stdout",
     "output_type": "stream",
     "text": [
      "Train on 1600 samples, validate on 400 samples\n",
      "Epoch 1/10\n",
      "1600/1600 [==============================] - 253s 158ms/step - loss: 2.9147 - accuracy: 0.4956 - val_loss: 0.7213 - val_accuracy: 0.5100\n",
      "Epoch 2/10\n",
      "1600/1600 [==============================] - 251s 157ms/step - loss: 0.7099 - accuracy: 0.4731 - val_loss: 0.7071 - val_accuracy: 0.4875\n",
      "Epoch 3/10\n",
      "1600/1600 [==============================] - 262s 164ms/step - loss: 0.6932 - accuracy: 0.4906 - val_loss: 0.7072 - val_accuracy: 0.4875\n",
      "Epoch 4/10\n",
      "1600/1600 [==============================] - 267s 167ms/step - loss: 0.6932 - accuracy: 0.5006 - val_loss: 0.7072 - val_accuracy: 0.4875\n",
      "Epoch 5/10\n",
      "1600/1600 [==============================] - 268s 168ms/step - loss: 0.6932 - accuracy: 0.4906 - val_loss: 0.7072 - val_accuracy: 0.4875\n",
      "Epoch 6/10\n",
      "1600/1600 [==============================] - 271s 170ms/step - loss: 0.6932 - accuracy: 0.5031 - val_loss: 0.7072 - val_accuracy: 0.4875\n",
      "Epoch 7/10\n",
      "1600/1600 [==============================] - 267s 167ms/step - loss: 0.6933 - accuracy: 0.4856 - val_loss: 0.7073 - val_accuracy: 0.4875\n",
      "Epoch 8/10\n",
      "1600/1600 [==============================] - 271s 170ms/step - loss: 0.6932 - accuracy: 0.4856 - val_loss: 0.7073 - val_accuracy: 0.4875\n",
      "Epoch 9/10\n",
      "1600/1600 [==============================] - 264s 165ms/step - loss: 0.6933 - accuracy: 0.4919 - val_loss: 0.7073 - val_accuracy: 0.4875\n",
      "Epoch 10/10\n",
      "1600/1600 [==============================] - 265s 166ms/step - loss: 0.6932 - accuracy: 0.5031 - val_loss: 0.7072 - val_accuracy: 0.4875\n"
     ]
    }
   ],
   "source": [
    "# Fit the NN\n",
    "batch_size = 20\n",
    "epochs = 10\n",
    "model = fitModel(model, X_train, y_train, X_test, y_test, batch_size, epochs)"
   ]
  },
  {
   "cell_type": "code",
   "execution_count": 10,
   "metadata": {},
   "outputs": [
    {
     "name": "stdout",
     "output_type": "stream",
     "text": [
      "Test loss: 0.707241735458374\n",
      "Test accuracy: 0.48750001192092896\n"
     ]
    }
   ],
   "source": [
    "score = model.evaluate(X_test, y_test, verbose=0)\n",
    "print('Test loss:', score[0])\n",
    "print('Test accuracy:', score[1])"
   ]
  },
  {
   "cell_type": "code",
   "execution_count": 11,
   "metadata": {},
   "outputs": [
    {
     "name": "stdout",
     "output_type": "stream",
     "text": [
      "Probs -> MSI:0.49740 MSS:0.50260\n"
     ]
    }
   ],
   "source": [
    "img = X_test[30]\n",
    "pred = model.predict(np.expand_dims(img,axis=0))[0]\n",
    "print(\"Probs -> MSI:{0:.5f} MSS:{1:.5f}\".format(pred[0],pred[1]))"
   ]
  },
  {
   "cell_type": "code",
   "execution_count": null,
   "metadata": {},
   "outputs": [],
   "source": []
  }
 ],
 "metadata": {
  "kernelspec": {
   "display_name": "Python 3",
   "language": "python",
   "name": "python3"
  },
  "language_info": {
   "codemirror_mode": {
    "name": "ipython",
    "version": 3
   },
   "file_extension": ".py",
   "mimetype": "text/x-python",
   "name": "python",
   "nbconvert_exporter": "python",
   "pygments_lexer": "ipython3",
   "version": "3.7.5"
  }
 },
 "nbformat": 4,
 "nbformat_minor": 4
}
