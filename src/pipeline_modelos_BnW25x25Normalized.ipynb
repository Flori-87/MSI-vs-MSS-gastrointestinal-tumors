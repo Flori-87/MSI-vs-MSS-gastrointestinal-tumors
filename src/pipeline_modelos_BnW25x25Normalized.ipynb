{
  "nbformat": 4,
  "nbformat_minor": 0,
  "metadata": {
    "colab": {
      "name": "pipeline_modelos_BnW25x25Normalized.ipynb",
      "provenance": [],
      "collapsed_sections": []
    },
    "kernelspec": {
      "name": "python3",
      "display_name": "Python 3"
    }
  },
  "cells": [
    {
      "cell_type": "code",
      "metadata": {
        "id": "8oy8PYZcIM9j",
        "colab_type": "code",
        "outputId": "6bc22891-3832-4e3e-ceb7-4734e614c552",
        "colab": {
          "base_uri": "https://localhost:8080/",
          "height": 106
        }
      },
      "source": [
        "from os.path import join\n",
        "from google.colab import drive\n",
        "# Montar el DRIVE\n",
        "ROOT = \"/content/drive\"\n",
        "drive.mount(ROOT)# Apuntar a la carpeta de trabajo\n",
        "PROJ = \"My Drive/MSI-MSS_project\" # This is a custom path.\n",
        "PROJECT_PATH = join(ROOT, PROJ)"
      ],
      "execution_count": 0,
      "outputs": [
        {
          "output_type": "stream",
          "text": [
            "Go to this URL in a browser: https://accounts.google.com/o/oauth2/auth?client_id=947318989803-6bn6qk8qdgf4n4g3pfee6491hc0brc4i.apps.googleusercontent.com&redirect_uri=urn%3aietf%3awg%3aoauth%3a2.0%3aoob&response_type=code&scope=email%20https%3a%2f%2fwww.googleapis.com%2fauth%2fdocs.test%20https%3a%2f%2fwww.googleapis.com%2fauth%2fdrive%20https%3a%2f%2fwww.googleapis.com%2fauth%2fdrive.photos.readonly%20https%3a%2f%2fwww.googleapis.com%2fauth%2fpeopleapi.readonly\n",
            "\n",
            "Enter your authorization code:\n",
            "··········\n"
          ],
          "name": "stdout"
        }
      ]
    },
    {
      "cell_type": "code",
      "metadata": {
        "id": "7miUjGqrIevV",
        "colab_type": "code",
        "outputId": "c12e80d9-ac53-4ca4-834b-f8b315f7896b",
        "colab": {
          "base_uri": "https://localhost:8080/",
          "height": 52
        }
      },
      "source": [
        "import pandas as pd\n",
        "import numpy as np\n",
        "from sklearn.svm import LinearSVC, NuSVC, SVC\n",
        "from sklearn.linear_model import PassiveAggressiveClassifier, RidgeClassifier, RidgeClassifierCV, SGDClassifier\n",
        "from sklearn.neighbors import KNeighborsClassifier, RadiusNeighborsClassifier, NearestCentroid\n",
        "from sklearn.gaussian_process import GaussianProcessClassifier\n",
        "from sklearn.tree import DecisionTreeClassifier, ExtraTreeClassifier\n",
        "from sklearn.dummy import DummyClassifier\n",
        "from sklearn.experimental import enable_hist_gradient_boosting\n",
        "from sklearn.ensemble import AdaBoostClassifier, BaggingClassifier, ExtraTreesClassifier, GradientBoostingClassifier, RandomForestClassifier, HistGradientBoostingClassifier\n",
        "from sklearn.neural_network import MLPClassifier\n",
        "import statsmodels.api as sm\n",
        "from sklearn.model_selection import train_test_split\n",
        "from sklearn.model_selection import GridSearchCV\n",
        "from sklearn.metrics import accuracy_score, precision_score, recall_score, f1_score"
      ],
      "execution_count": 0,
      "outputs": [
        {
          "output_type": "stream",
          "text": [
            "/usr/local/lib/python3.6/dist-packages/statsmodels/tools/_testing.py:19: FutureWarning: pandas.util.testing is deprecated. Use the functions in the public API at pandas.testing instead.\n",
            "  import pandas.util.testing as tm\n"
          ],
          "name": "stderr"
        }
      ]
    },
    {
      "cell_type": "code",
      "metadata": {
        "id": "k6TyPio7In_y",
        "colab_type": "code",
        "colab": {}
      },
      "source": [
        "subset = pd.read_pickle(join(PROJECT_PATH,'subset_BnW_25x25Normalized.pkl'))"
      ],
      "execution_count": 0,
      "outputs": []
    },
    {
      "cell_type": "code",
      "metadata": {
        "id": "9L3zF2pZJBQX",
        "colab_type": "code",
        "colab": {}
      },
      "source": [
        "X = np.asarray(list(subset[\"image_array\"]))\n",
        "### NOTA: Cambiar las labels por 0 y 1!!!\n",
        "subset[\"label\"] = pd.Categorical(subset[\"label\"], categories = [\"MSI\",\"MSS\"], ordered = True)\n",
        "y = subset[\"label\"].cat.codes"
      ],
      "execution_count": 0,
      "outputs": []
    },
    {
      "cell_type": "code",
      "metadata": {
        "id": "-_ZTZceXQNZk",
        "colab_type": "code",
        "outputId": "57dd1de2-6ed2-4557-c4a3-b6c1b71204c8",
        "colab": {
          "base_uri": "https://localhost:8080/",
          "height": 34
        }
      },
      "source": [
        "y = np.array(y)\n",
        "y"
      ],
      "execution_count": 0,
      "outputs": [
        {
          "output_type": "execute_result",
          "data": {
            "text/plain": [
              "array([0, 0, 0, ..., 1, 1, 1], dtype=int8)"
            ]
          },
          "metadata": {
            "tags": []
          },
          "execution_count": 7
        }
      ]
    },
    {
      "cell_type": "code",
      "metadata": {
        "id": "XuerOFufO-po",
        "colab_type": "code",
        "outputId": "a4f6f220-e850-4e34-b755-410661125af6",
        "colab": {
          "base_uri": "https://localhost:8080/",
          "height": 34
        }
      },
      "source": [
        "X.shape"
      ],
      "execution_count": 0,
      "outputs": [
        {
          "output_type": "execute_result",
          "data": {
            "text/plain": [
              "(2000, 25, 25)"
            ]
          },
          "metadata": {
            "tags": []
          },
          "execution_count": 8
        }
      ]
    },
    {
      "cell_type": "code",
      "metadata": {
        "id": "UMX5u7gnOjda",
        "colab_type": "code",
        "colab": {}
      },
      "source": [
        "X = X.reshape(X.shape[0], -1)"
      ],
      "execution_count": 0,
      "outputs": []
    },
    {
      "cell_type": "code",
      "metadata": {
        "id": "IGOnohCRO3WY",
        "colab_type": "code",
        "outputId": "1f2a4e89-f992-480c-f60a-dbb3a32b8e91",
        "colab": {
          "base_uri": "https://localhost:8080/",
          "height": 34
        }
      },
      "source": [
        "X.shape"
      ],
      "execution_count": 0,
      "outputs": [
        {
          "output_type": "execute_result",
          "data": {
            "text/plain": [
              "(2000, 625)"
            ]
          },
          "metadata": {
            "tags": []
          },
          "execution_count": 10
        }
      ]
    },
    {
      "cell_type": "code",
      "metadata": {
        "id": "NTdpHu_hUhm_",
        "colab_type": "code",
        "outputId": "74e2f8cc-08a1-4ec2-e8d4-7b24769a42da",
        "colab": {
          "base_uri": "https://localhost:8080/",
          "height": 243
        }
      },
      "source": [
        "X"
      ],
      "execution_count": 0,
      "outputs": [
        {
          "output_type": "execute_result",
          "data": {
            "text/plain": [
              "array([[0.70560748, 0.63551402, 0.8317757 , ..., 0.52336449, 0.6635514 ,\n",
              "        0.86915888],\n",
              "       [0.4       , 0.55454545, 0.46818182, ..., 0.47272727, 0.57727273,\n",
              "        0.66818182],\n",
              "       [0.58730159, 0.61507937, 0.58730159, ..., 0.44047619, 0.70634921,\n",
              "        0.87698413],\n",
              "       ...,\n",
              "       [0.41176471, 0.40336134, 0.51260504, ..., 0.39915966, 0.46218487,\n",
              "        0.62184874],\n",
              "       [0.52439024, 0.78861789, 0.47560976, ..., 0.77642276, 0.79268293,\n",
              "        0.94715447],\n",
              "       [0.672     , 0.596     , 0.78      , ..., 0.668     , 0.568     ,\n",
              "        0.672     ]])"
            ]
          },
          "metadata": {
            "tags": []
          },
          "execution_count": 11
        }
      ]
    },
    {
      "cell_type": "code",
      "metadata": {
        "id": "60Mc6-pvJBTf",
        "colab_type": "code",
        "colab": {}
      },
      "source": [
        "X_train, X_test, y_train, y_test = train_test_split(X, y, test_size=0.2)"
      ],
      "execution_count": 0,
      "outputs": []
    },
    {
      "cell_type": "code",
      "metadata": {
        "id": "onjppWoMJl7J",
        "colab_type": "code",
        "outputId": "138f4f02-503e-4d8b-91f1-a6f09536592b",
        "colab": {
          "base_uri": "https://localhost:8080/",
          "height": 34
        }
      },
      "source": [
        "X_train.shape"
      ],
      "execution_count": 0,
      "outputs": [
        {
          "output_type": "execute_result",
          "data": {
            "text/plain": [
              "(1600, 625)"
            ]
          },
          "metadata": {
            "tags": []
          },
          "execution_count": 13
        }
      ]
    },
    {
      "cell_type": "code",
      "metadata": {
        "id": "h5H0mYhoJBWw",
        "colab_type": "code",
        "outputId": "105c6378-c99e-4cbb-8fb6-144fd3e910b8",
        "colab": {
          "base_uri": "https://localhost:8080/",
          "height": 416
        }
      },
      "source": [
        "models = {\n",
        "    \"PassiveAgg\" : PassiveAggressiveClassifier(),\n",
        "    \"Ridge\": RidgeClassifier(),\n",
        "    \"RidgeCV\":RidgeClassifierCV(),\n",
        "    \"SGD\":SGDClassifier(),\n",
        "    \"LinearSVC\": LinearSVC(),\n",
        "    \"NuSVC\": NuSVC(),\n",
        "    \"SVC\": SVC(),\n",
        "    \"KNeighbors\": KNeighborsClassifier(),\n",
        "    \"RadiusNeighbors\": RadiusNeighborsClassifier(),\n",
        "    \"Centroid\" : NearestCentroid(),\n",
        "    \"DecisionTree\": DecisionTreeClassifier(),\n",
        "    \"ExtraTree\": ExtraTreeClassifier(),\n",
        "    \"Dummy\": DummyClassifier(),\n",
        "    \"Gaussian\": GaussianProcessClassifier(),\n",
        "    \"Ada Boost\": AdaBoostClassifier(),\n",
        "    \"Bagging\": BaggingClassifier(),\n",
        "    \"ExtraTrees\": ExtraTreesClassifier(),\n",
        "    \"GradientBoosting\" : GradientBoostingClassifier(),\n",
        "    \"RandomForest\" : RandomForestClassifier(),\n",
        "    #\"HistGradientBoost\": HistGradientBoostingClassifier(),\n",
        "    #\"NN_MLP\": MLPClassifier()\n",
        "    }\n",
        "\n",
        "for modelName, model in models.items():\n",
        "    print(f\"Training model: {modelName}\")\n",
        "    model.fit(X_train, y_train)\n",
        "\n"
      ],
      "execution_count": 0,
      "outputs": [
        {
          "output_type": "stream",
          "text": [
            "Training model: PassiveAgg\n",
            "Training model: Ridge\n",
            "Training model: RidgeCV\n",
            "Training model: SGD\n",
            "Training model: LinearSVC\n"
          ],
          "name": "stdout"
        },
        {
          "output_type": "stream",
          "text": [
            "/usr/local/lib/python3.6/dist-packages/sklearn/svm/_base.py:947: ConvergenceWarning: Liblinear failed to converge, increase the number of iterations.\n",
            "  \"the number of iterations.\", ConvergenceWarning)\n"
          ],
          "name": "stderr"
        },
        {
          "output_type": "stream",
          "text": [
            "Training model: NuSVC\n",
            "Training model: SVC\n",
            "Training model: KNeighbors\n",
            "Training model: RadiusNeighbors\n",
            "Training model: Centroid\n",
            "Training model: DecisionTree\n",
            "Training model: ExtraTree\n",
            "Training model: Dummy\n",
            "Training model: Gaussian\n"
          ],
          "name": "stdout"
        },
        {
          "output_type": "stream",
          "text": [
            "/usr/local/lib/python3.6/dist-packages/sklearn/dummy.py:132: FutureWarning: The default value of strategy will change from stratified to prior in 0.24.\n",
            "  \"stratified to prior in 0.24.\", FutureWarning)\n"
          ],
          "name": "stderr"
        },
        {
          "output_type": "stream",
          "text": [
            "Training model: Ada Boost\n",
            "Training model: Bagging\n",
            "Training model: ExtraTrees\n",
            "Training model: GradientBoosting\n",
            "Training model: RandomForest\n"
          ],
          "name": "stdout"
        }
      ]
    },
    {
      "cell_type": "code",
      "metadata": {
        "id": "H5inx-0NqmFj",
        "colab_type": "code",
        "outputId": "cdf38e06-9fcd-4642-8cbd-cf4b27f961a3",
        "colab": {
          "base_uri": "https://localhost:8080/",
          "height": 424
        }
      },
      "source": [
        "d = {}\n",
        "for modelName, model in models.items():\n",
        "  try:\n",
        "    d[modelName] = model.predict(X_test)\n",
        "  except:\n",
        "    pass\n",
        "df = pd.DataFrame(d)\n",
        "df[\"gt\"] = y_test\n",
        "df"
      ],
      "execution_count": 0,
      "outputs": [
        {
          "output_type": "execute_result",
          "data": {
            "text/html": [
              "<div>\n",
              "<style scoped>\n",
              "    .dataframe tbody tr th:only-of-type {\n",
              "        vertical-align: middle;\n",
              "    }\n",
              "\n",
              "    .dataframe tbody tr th {\n",
              "        vertical-align: top;\n",
              "    }\n",
              "\n",
              "    .dataframe thead th {\n",
              "        text-align: right;\n",
              "    }\n",
              "</style>\n",
              "<table border=\"1\" class=\"dataframe\">\n",
              "  <thead>\n",
              "    <tr style=\"text-align: right;\">\n",
              "      <th></th>\n",
              "      <th>PassiveAgg</th>\n",
              "      <th>Ridge</th>\n",
              "      <th>RidgeCV</th>\n",
              "      <th>SGD</th>\n",
              "      <th>LinearSVC</th>\n",
              "      <th>NuSVC</th>\n",
              "      <th>SVC</th>\n",
              "      <th>KNeighbors</th>\n",
              "      <th>Centroid</th>\n",
              "      <th>DecisionTree</th>\n",
              "      <th>ExtraTree</th>\n",
              "      <th>Dummy</th>\n",
              "      <th>Gaussian</th>\n",
              "      <th>Ada Boost</th>\n",
              "      <th>Bagging</th>\n",
              "      <th>ExtraTrees</th>\n",
              "      <th>GradientBoosting</th>\n",
              "      <th>RandomForest</th>\n",
              "      <th>gt</th>\n",
              "    </tr>\n",
              "  </thead>\n",
              "  <tbody>\n",
              "    <tr>\n",
              "      <th>0</th>\n",
              "      <td>0</td>\n",
              "      <td>1</td>\n",
              "      <td>1</td>\n",
              "      <td>1</td>\n",
              "      <td>1</td>\n",
              "      <td>1</td>\n",
              "      <td>1</td>\n",
              "      <td>0</td>\n",
              "      <td>1</td>\n",
              "      <td>0</td>\n",
              "      <td>0</td>\n",
              "      <td>0</td>\n",
              "      <td>0</td>\n",
              "      <td>1</td>\n",
              "      <td>1</td>\n",
              "      <td>1</td>\n",
              "      <td>1</td>\n",
              "      <td>1</td>\n",
              "      <td>1</td>\n",
              "    </tr>\n",
              "    <tr>\n",
              "      <th>1</th>\n",
              "      <td>1</td>\n",
              "      <td>1</td>\n",
              "      <td>1</td>\n",
              "      <td>1</td>\n",
              "      <td>1</td>\n",
              "      <td>1</td>\n",
              "      <td>1</td>\n",
              "      <td>0</td>\n",
              "      <td>1</td>\n",
              "      <td>1</td>\n",
              "      <td>1</td>\n",
              "      <td>0</td>\n",
              "      <td>0</td>\n",
              "      <td>1</td>\n",
              "      <td>1</td>\n",
              "      <td>1</td>\n",
              "      <td>1</td>\n",
              "      <td>1</td>\n",
              "      <td>1</td>\n",
              "    </tr>\n",
              "    <tr>\n",
              "      <th>2</th>\n",
              "      <td>0</td>\n",
              "      <td>1</td>\n",
              "      <td>0</td>\n",
              "      <td>1</td>\n",
              "      <td>0</td>\n",
              "      <td>0</td>\n",
              "      <td>0</td>\n",
              "      <td>0</td>\n",
              "      <td>1</td>\n",
              "      <td>1</td>\n",
              "      <td>0</td>\n",
              "      <td>0</td>\n",
              "      <td>0</td>\n",
              "      <td>1</td>\n",
              "      <td>0</td>\n",
              "      <td>0</td>\n",
              "      <td>1</td>\n",
              "      <td>0</td>\n",
              "      <td>0</td>\n",
              "    </tr>\n",
              "    <tr>\n",
              "      <th>3</th>\n",
              "      <td>0</td>\n",
              "      <td>0</td>\n",
              "      <td>0</td>\n",
              "      <td>0</td>\n",
              "      <td>0</td>\n",
              "      <td>0</td>\n",
              "      <td>0</td>\n",
              "      <td>0</td>\n",
              "      <td>1</td>\n",
              "      <td>1</td>\n",
              "      <td>0</td>\n",
              "      <td>1</td>\n",
              "      <td>0</td>\n",
              "      <td>0</td>\n",
              "      <td>0</td>\n",
              "      <td>1</td>\n",
              "      <td>0</td>\n",
              "      <td>0</td>\n",
              "      <td>0</td>\n",
              "    </tr>\n",
              "    <tr>\n",
              "      <th>4</th>\n",
              "      <td>0</td>\n",
              "      <td>0</td>\n",
              "      <td>0</td>\n",
              "      <td>0</td>\n",
              "      <td>0</td>\n",
              "      <td>0</td>\n",
              "      <td>0</td>\n",
              "      <td>0</td>\n",
              "      <td>0</td>\n",
              "      <td>1</td>\n",
              "      <td>0</td>\n",
              "      <td>0</td>\n",
              "      <td>0</td>\n",
              "      <td>0</td>\n",
              "      <td>1</td>\n",
              "      <td>0</td>\n",
              "      <td>0</td>\n",
              "      <td>1</td>\n",
              "      <td>1</td>\n",
              "    </tr>\n",
              "    <tr>\n",
              "      <th>...</th>\n",
              "      <td>...</td>\n",
              "      <td>...</td>\n",
              "      <td>...</td>\n",
              "      <td>...</td>\n",
              "      <td>...</td>\n",
              "      <td>...</td>\n",
              "      <td>...</td>\n",
              "      <td>...</td>\n",
              "      <td>...</td>\n",
              "      <td>...</td>\n",
              "      <td>...</td>\n",
              "      <td>...</td>\n",
              "      <td>...</td>\n",
              "      <td>...</td>\n",
              "      <td>...</td>\n",
              "      <td>...</td>\n",
              "      <td>...</td>\n",
              "      <td>...</td>\n",
              "      <td>...</td>\n",
              "    </tr>\n",
              "    <tr>\n",
              "      <th>395</th>\n",
              "      <td>0</td>\n",
              "      <td>1</td>\n",
              "      <td>1</td>\n",
              "      <td>1</td>\n",
              "      <td>1</td>\n",
              "      <td>1</td>\n",
              "      <td>0</td>\n",
              "      <td>0</td>\n",
              "      <td>0</td>\n",
              "      <td>1</td>\n",
              "      <td>0</td>\n",
              "      <td>1</td>\n",
              "      <td>0</td>\n",
              "      <td>1</td>\n",
              "      <td>1</td>\n",
              "      <td>0</td>\n",
              "      <td>0</td>\n",
              "      <td>0</td>\n",
              "      <td>1</td>\n",
              "    </tr>\n",
              "    <tr>\n",
              "      <th>396</th>\n",
              "      <td>0</td>\n",
              "      <td>0</td>\n",
              "      <td>0</td>\n",
              "      <td>0</td>\n",
              "      <td>0</td>\n",
              "      <td>1</td>\n",
              "      <td>1</td>\n",
              "      <td>0</td>\n",
              "      <td>1</td>\n",
              "      <td>0</td>\n",
              "      <td>1</td>\n",
              "      <td>0</td>\n",
              "      <td>0</td>\n",
              "      <td>1</td>\n",
              "      <td>1</td>\n",
              "      <td>0</td>\n",
              "      <td>0</td>\n",
              "      <td>1</td>\n",
              "      <td>0</td>\n",
              "    </tr>\n",
              "    <tr>\n",
              "      <th>397</th>\n",
              "      <td>1</td>\n",
              "      <td>1</td>\n",
              "      <td>1</td>\n",
              "      <td>1</td>\n",
              "      <td>1</td>\n",
              "      <td>1</td>\n",
              "      <td>1</td>\n",
              "      <td>0</td>\n",
              "      <td>1</td>\n",
              "      <td>0</td>\n",
              "      <td>0</td>\n",
              "      <td>0</td>\n",
              "      <td>0</td>\n",
              "      <td>0</td>\n",
              "      <td>0</td>\n",
              "      <td>1</td>\n",
              "      <td>0</td>\n",
              "      <td>0</td>\n",
              "      <td>1</td>\n",
              "    </tr>\n",
              "    <tr>\n",
              "      <th>398</th>\n",
              "      <td>0</td>\n",
              "      <td>0</td>\n",
              "      <td>0</td>\n",
              "      <td>0</td>\n",
              "      <td>0</td>\n",
              "      <td>1</td>\n",
              "      <td>1</td>\n",
              "      <td>1</td>\n",
              "      <td>0</td>\n",
              "      <td>0</td>\n",
              "      <td>1</td>\n",
              "      <td>1</td>\n",
              "      <td>0</td>\n",
              "      <td>0</td>\n",
              "      <td>0</td>\n",
              "      <td>0</td>\n",
              "      <td>0</td>\n",
              "      <td>0</td>\n",
              "      <td>0</td>\n",
              "    </tr>\n",
              "    <tr>\n",
              "      <th>399</th>\n",
              "      <td>0</td>\n",
              "      <td>0</td>\n",
              "      <td>0</td>\n",
              "      <td>0</td>\n",
              "      <td>0</td>\n",
              "      <td>0</td>\n",
              "      <td>0</td>\n",
              "      <td>0</td>\n",
              "      <td>0</td>\n",
              "      <td>1</td>\n",
              "      <td>0</td>\n",
              "      <td>0</td>\n",
              "      <td>0</td>\n",
              "      <td>1</td>\n",
              "      <td>0</td>\n",
              "      <td>0</td>\n",
              "      <td>1</td>\n",
              "      <td>1</td>\n",
              "      <td>0</td>\n",
              "    </tr>\n",
              "  </tbody>\n",
              "</table>\n",
              "<p>400 rows × 19 columns</p>\n",
              "</div>"
            ],
            "text/plain": [
              "     PassiveAgg  Ridge  RidgeCV  ...  GradientBoosting  RandomForest  gt\n",
              "0             0      1        1  ...                 1             1   1\n",
              "1             1      1        1  ...                 1             1   1\n",
              "2             0      1        0  ...                 1             0   0\n",
              "3             0      0        0  ...                 0             0   0\n",
              "4             0      0        0  ...                 0             1   1\n",
              "..          ...    ...      ...  ...               ...           ...  ..\n",
              "395           0      1        1  ...                 0             0   1\n",
              "396           0      0        0  ...                 0             1   0\n",
              "397           1      1        1  ...                 0             0   1\n",
              "398           0      0        0  ...                 0             0   0\n",
              "399           0      0        0  ...                 1             1   0\n",
              "\n",
              "[400 rows x 19 columns]"
            ]
          },
          "metadata": {
            "tags": []
          },
          "execution_count": 15
        }
      ]
    },
    {
      "cell_type": "code",
      "metadata": {
        "id": "mDtA7uGJrU0R",
        "colab_type": "code",
        "outputId": "fcd428b4-216d-408e-c727-8dc890ee87ab",
        "colab": {
          "base_uri": "https://localhost:8080/",
          "height": 1000
        }
      },
      "source": [
        "for modelName, model in models.items():  \n",
        "  try:  \n",
        "    print(f\"Evaluating model [{modelName}]:\")\n",
        "    print(\"Accuracy\", accuracy_score(df[\"gt\"], df[modelName]))\n",
        "    print(\"Precision\", precision_score(df[\"gt\"], df[modelName]))\n",
        "    print(\"Precision\", precision_score(df[\"gt\"], df[modelName], average='weighted'))\n",
        "    print(\"Recall\", recall_score(df[\"gt\"], df[modelName]))\n",
        "    print(\"Recall\", recall_score(df[\"gt\"], df[modelName], average='weighted'))\n",
        "    print(\"F1Score\",f1_score(df[\"gt\"], df[modelName]),\"\\n\")\n",
        "  except:pass"
      ],
      "execution_count": 0,
      "outputs": [
        {
          "output_type": "stream",
          "text": [
            "Evaluating model [PassiveAgg]:\n",
            "Accuracy 0.4875\n",
            "Precision 0.41975308641975306\n",
            "Precision 0.4639266225473122\n",
            "Recall 0.17708333333333334\n",
            "Recall 0.4875\n",
            "F1Score 0.2490842490842491 \n",
            "\n",
            "Evaluating model [Ridge]:\n",
            "Accuracy 0.4925\n",
            "Precision 0.4708994708994709\n",
            "Precision 0.4921928834725043\n",
            "Recall 0.4635416666666667\n",
            "Recall 0.4925\n",
            "F1Score 0.4671916010498688 \n",
            "\n",
            "Evaluating model [RidgeCV]:\n",
            "Accuracy 0.48\n",
            "Precision 0.4595959595959596\n",
            "Precision 0.48060606060606065\n",
            "Recall 0.4739583333333333\n",
            "Recall 0.48\n",
            "F1Score 0.4666666666666667 \n",
            "\n",
            "Evaluating model [SGD]:\n",
            "Accuracy 0.4825\n",
            "Precision 0.4634146341463415\n",
            "Precision 0.48377235772357724\n",
            "Recall 0.4947916666666667\n",
            "Recall 0.4825\n",
            "F1Score 0.47858942065491183 \n",
            "\n",
            "Evaluating model [LinearSVC]:\n",
            "Accuracy 0.505\n",
            "Precision 0.4807692307692308\n",
            "Precision 0.5014249684741487\n",
            "Recall 0.390625\n",
            "Recall 0.505\n",
            "F1Score 0.43103448275862066 \n",
            "\n",
            "Evaluating model [NuSVC]:\n",
            "Accuracy 0.4675\n",
            "Precision 0.4472361809045226\n",
            "Precision 0.46820570514262855\n",
            "Recall 0.4635416666666667\n",
            "Recall 0.4675\n",
            "F1Score 0.45524296675191817 \n",
            "\n",
            "Evaluating model [SVC]:\n",
            "Accuracy 0.495\n",
            "Precision 0.4734042553191489\n",
            "Precision 0.49459253311922924\n",
            "Recall 0.4635416666666667\n",
            "Recall 0.495\n",
            "F1Score 0.4684210526315789 \n",
            "\n",
            "Evaluating model [KNeighbors]:\n",
            "Accuracy 0.5125\n",
            "Precision 0.47761194029850745\n",
            "Precision 0.4994038814934337\n",
            "Recall 0.16666666666666666\n",
            "Recall 0.5125\n",
            "F1Score 0.24710424710424708 \n",
            "\n",
            "Evaluating model [RadiusNeighbors]:\n",
            "Evaluating model [Centroid]:\n",
            "Accuracy 0.52\n",
            "Precision 0.5\n",
            "Precision 0.5179310344827586\n",
            "Recall 0.4375\n",
            "Recall 0.52\n",
            "F1Score 0.4666666666666667 \n",
            "\n",
            "Evaluating model [DecisionTree]:\n",
            "Accuracy 0.4825\n",
            "Precision 0.46153846153846156\n",
            "Precision 0.48280675422138836\n",
            "Recall 0.46875\n",
            "Recall 0.4825\n",
            "F1Score 0.46511627906976744 \n",
            "\n",
            "Evaluating model [ExtraTree]:\n",
            "Accuracy 0.48\n",
            "Precision 0.45698924731182794\n",
            "Precision 0.47935483870967743\n",
            "Recall 0.4427083333333333\n",
            "Recall 0.48\n",
            "F1Score 0.4497354497354497 \n",
            "\n",
            "Evaluating model [Dummy]:\n",
            "Accuracy 0.5\n",
            "Precision 0.47959183673469385\n",
            "Precision 0.5004001600640257\n",
            "Recall 0.4895833333333333\n",
            "Recall 0.5\n",
            "F1Score 0.4845360824742268 \n",
            "\n",
            "Evaluating model [Gaussian]:\n",
            "Accuracy 0.53\n",
            "Precision 0.5625\n",
            "Precision 0.5441304347826087\n",
            "Recall 0.09375\n",
            "Recall 0.53\n",
            "F1Score 0.16071428571428573 \n",
            "\n",
            "Evaluating model [Ada Boost]:\n",
            "Accuracy 0.5225\n",
            "Precision 0.5021834061135371\n",
            "Precision 0.5268959881508721\n",
            "Recall 0.5989583333333334\n",
            "Recall 0.5225\n",
            "F1Score 0.5463182897862232 \n",
            "\n",
            "Evaluating model [Bagging]:\n",
            "Accuracy 0.5025\n",
            "Precision 0.4744525547445255\n",
            "Precision 0.496634564680414\n",
            "Recall 0.3385416666666667\n",
            "Recall 0.5025\n",
            "F1Score 0.3951367781155015 \n",
            "\n",
            "Evaluating model [ExtraTrees]:\n",
            "Accuracy 0.5425\n",
            "Precision 0.5238095238095238\n",
            "Precision 0.542234258632363\n",
            "Recall 0.515625\n",
            "Recall 0.5425\n",
            "F1Score 0.5196850393700788 \n",
            "\n",
            "Evaluating model [GradientBoosting]:\n",
            "Accuracy 0.5075\n",
            "Precision 0.4888888888888889\n",
            "Precision 0.5110095238095238\n",
            "Recall 0.5729166666666666\n",
            "Recall 0.5075\n",
            "F1Score 0.52757793764988 \n",
            "\n",
            "Evaluating model [RandomForest]:\n",
            "Accuracy 0.495\n",
            "Precision 0.4734042553191489\n",
            "Precision 0.49459253311922924\n",
            "Recall 0.4635416666666667\n",
            "Recall 0.495\n",
            "F1Score 0.4684210526315789 \n",
            "\n"
          ],
          "name": "stdout"
        }
      ]
    }
  ]
}