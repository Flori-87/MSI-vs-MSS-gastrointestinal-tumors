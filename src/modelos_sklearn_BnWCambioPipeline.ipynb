{
 "cells": [
  {
   "cell_type": "code",
   "execution_count": 1,
   "metadata": {},
   "outputs": [
    {
     "name": "stderr",
     "output_type": "stream",
     "text": [
      "Using TensorFlow backend.\n"
     ]
    }
   ],
   "source": [
    "from tensorflowNN import *"
   ]
  },
  {
   "cell_type": "code",
   "execution_count": 2,
   "metadata": {},
   "outputs": [
    {
     "data": {
      "text/html": [
       "<div>\n",
       "<style scoped>\n",
       "    .dataframe tbody tr th:only-of-type {\n",
       "        vertical-align: middle;\n",
       "    }\n",
       "\n",
       "    .dataframe tbody tr th {\n",
       "        vertical-align: top;\n",
       "    }\n",
       "\n",
       "    .dataframe thead th {\n",
       "        text-align: right;\n",
       "    }\n",
       "</style>\n",
       "<table border=\"1\" class=\"dataframe\">\n",
       "  <thead>\n",
       "    <tr style=\"text-align: right;\">\n",
       "      <th></th>\n",
       "      <th>label</th>\n",
       "      <th>image_array</th>\n",
       "    </tr>\n",
       "  </thead>\n",
       "  <tbody>\n",
       "    <tr>\n",
       "      <th>0</th>\n",
       "      <td>MSI</td>\n",
       "      <td>[[154, 179, 144, 124, 152, 146, 167, 201, 180,...</td>\n",
       "    </tr>\n",
       "    <tr>\n",
       "      <th>1</th>\n",
       "      <td>MSI</td>\n",
       "      <td>[[160, 146, 134, 96, 67, 69, 78, 96, 124, 155,...</td>\n",
       "    </tr>\n",
       "    <tr>\n",
       "      <th>2</th>\n",
       "      <td>MSI</td>\n",
       "      <td>[[246, 241, 236, 216, 173, 164, 158, 162, 164,...</td>\n",
       "    </tr>\n",
       "    <tr>\n",
       "      <th>3</th>\n",
       "      <td>MSI</td>\n",
       "      <td>[[123, 151, 178, 134, 135, 139, 142, 139, 102,...</td>\n",
       "    </tr>\n",
       "    <tr>\n",
       "      <th>4</th>\n",
       "      <td>MSI</td>\n",
       "      <td>[[128, 160, 172, 204, 192, 147, 146, 136, 127,...</td>\n",
       "    </tr>\n",
       "  </tbody>\n",
       "</table>\n",
       "</div>"
      ],
      "text/plain": [
       "  label                                        image_array\n",
       "0   MSI  [[154, 179, 144, 124, 152, 146, 167, 201, 180,...\n",
       "1   MSI  [[160, 146, 134, 96, 67, 69, 78, 96, 124, 155,...\n",
       "2   MSI  [[246, 241, 236, 216, 173, 164, 158, 162, 164,...\n",
       "3   MSI  [[123, 151, 178, 134, 135, 139, 142, 139, 102,...\n",
       "4   MSI  [[128, 160, 172, 204, 192, 147, 146, 136, 127,..."
      ]
     },
     "metadata": {},
     "output_type": "display_data"
    }
   ],
   "source": [
    "path_file = \"../output/final_subset_BnW.pkl\"\n",
    "subset = readPickle(path_file)"
   ]
  },
  {
   "cell_type": "code",
   "execution_count": 3,
   "metadata": {},
   "outputs": [
    {
     "name": "stdout",
     "output_type": "stream",
     "text": [
      "The shape of X is: (2000, 224, 224)\n"
     ]
    }
   ],
   "source": [
    "pandas_seriesX = subset[\"image_array\"]\n",
    "X = createX(pandas_seriesX)"
   ]
  },
  {
   "cell_type": "code",
   "execution_count": 4,
   "metadata": {},
   "outputs": [
    {
     "name": "stdout",
     "output_type": "stream",
     "text": [
      "1    1000\n",
      "0    1000\n",
      "dtype: int64\n",
      "The shape of y is: (2000,)\n"
     ]
    }
   ],
   "source": [
    "name_column = \"label\"\n",
    "y = createY(subset, name_column)"
   ]
  },
  {
   "cell_type": "code",
   "execution_count": 5,
   "metadata": {},
   "outputs": [],
   "source": [
    "test_size=0.2\n",
    "X_train, X_test, y_train, y_test = splitTrainTest(X,y, test_size)"
   ]
  },
  {
   "cell_type": "code",
   "execution_count": 6,
   "metadata": {},
   "outputs": [],
   "source": [
    "num_classes= 2\n",
    "img_rows, img_cols = 224, 224"
   ]
  },
  {
   "cell_type": "code",
   "execution_count": 7,
   "metadata": {},
   "outputs": [
    {
     "name": "stdout",
     "output_type": "stream",
     "text": [
      "X_train shape: (1600, 224, 224, 1)\n",
      "1600 train samples\n",
      "400 test samples\n"
     ]
    }
   ],
   "source": [
    "#Siempre debug = False para imagenes en BnW\n",
    "debug = False \n",
    "X_train, X_test, y_train, y_test, input_shape = prepareDataNN(X_train, X_test, y_train, y_test, debug, num_classes, img_rows, img_cols)"
   ]
  },
  {
   "cell_type": "code",
   "execution_count": 8,
   "metadata": {},
   "outputs": [],
   "source": [
    "model = architectureNN(input_shape, num_classes)"
   ]
  },
  {
   "cell_type": "code",
   "execution_count": 9,
   "metadata": {},
   "outputs": [
    {
     "name": "stdout",
     "output_type": "stream",
     "text": [
      "Train on 1600 samples, validate on 400 samples\n",
      "Epoch 1/10\n",
      "1600/1600 [==============================] - 228s 143ms/step - loss: 1.4972 - accuracy: 0.4775 - val_loss: 0.6931 - val_accuracy: 0.5150\n",
      "Epoch 2/10\n",
      "1600/1600 [==============================] - 230s 144ms/step - loss: 0.6950 - accuracy: 0.5000 - val_loss: 0.6931 - val_accuracy: 0.5150\n",
      "Epoch 3/10\n",
      "1600/1600 [==============================] - 228s 142ms/step - loss: 0.6956 - accuracy: 0.5069 - val_loss: 0.6933 - val_accuracy: 0.4850\n",
      "Epoch 4/10\n",
      "1600/1600 [==============================] - 228s 142ms/step - loss: 0.6932 - accuracy: 0.5031 - val_loss: 0.6933 - val_accuracy: 0.4850\n",
      "Epoch 5/10\n",
      "1600/1600 [==============================] - 229s 143ms/step - loss: 0.6932 - accuracy: 0.5038 - val_loss: 0.6933 - val_accuracy: 0.4850\n",
      "Epoch 6/10\n",
      "1600/1600 [==============================] - 230s 144ms/step - loss: 0.6932 - accuracy: 0.4988 - val_loss: 0.6934 - val_accuracy: 0.4850\n",
      "Epoch 7/10\n",
      "1600/1600 [==============================] - 241s 150ms/step - loss: 0.6932 - accuracy: 0.5013 - val_loss: 0.6934 - val_accuracy: 0.4850\n",
      "Epoch 8/10\n",
      "1600/1600 [==============================] - 240s 150ms/step - loss: 0.6932 - accuracy: 0.5038 - val_loss: 0.6934 - val_accuracy: 0.4850\n",
      "Epoch 9/10\n",
      "1600/1600 [==============================] - 244s 152ms/step - loss: 0.6932 - accuracy: 0.5038 - val_loss: 0.6934 - val_accuracy: 0.4850\n",
      "Epoch 10/10\n",
      "1600/1600 [==============================] - 253s 158ms/step - loss: 0.6932 - accuracy: 0.5038 - val_loss: 0.6934 - val_accuracy: 0.4850\n"
     ]
    }
   ],
   "source": [
    "# Fit the NN\n",
    "batch_size = 20\n",
    "epochs = 10\n",
    "model = fitModel(model, X_train, y_train, X_test, y_test, batch_size, epochs)"
   ]
  },
  {
   "cell_type": "code",
   "execution_count": 10,
   "metadata": {},
   "outputs": [
    {
     "name": "stdout",
     "output_type": "stream",
     "text": [
      "Test loss: 0.6934466981887817\n",
      "Test accuracy: 0.48500001430511475\n"
     ]
    }
   ],
   "source": [
    "score = model.evaluate(X_test, y_test, verbose=0)\n",
    "print('Test loss:', score[0])\n",
    "print('Test accuracy:', score[1])"
   ]
  },
  {
   "cell_type": "code",
   "execution_count": 11,
   "metadata": {},
   "outputs": [
    {
     "name": "stdout",
     "output_type": "stream",
     "text": [
      "Probs -> MSI:0.49564 MSS:0.50436\n"
     ]
    }
   ],
   "source": [
    "img = X_test[30]\n",
    "pred = model.predict(np.expand_dims(img,axis=0))[0]\n",
    "print(\"Probs -> MSI:{0:.5f} MSS:{1:.5f}\".format(pred[0],pred[1]))"
   ]
  },
  {
   "cell_type": "code",
   "execution_count": null,
   "metadata": {},
   "outputs": [],
   "source": []
  }
 ],
 "metadata": {
  "kernelspec": {
   "display_name": "Python 3",
   "language": "python",
   "name": "python3"
  },
  "language_info": {
   "codemirror_mode": {
    "name": "ipython",
    "version": 3
   },
   "file_extension": ".py",
   "mimetype": "text/x-python",
   "name": "python",
   "nbconvert_exporter": "python",
   "pygments_lexer": "ipython3",
   "version": "3.7.5"
  }
 },
 "nbformat": 4,
 "nbformat_minor": 4
}
