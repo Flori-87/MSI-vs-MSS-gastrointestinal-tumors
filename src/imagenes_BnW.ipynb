{
 "cells": [
  {
   "cell_type": "code",
   "execution_count": 13,
   "metadata": {},
   "outputs": [],
   "source": [
    "from PIL import Image\n",
    "import pandas as pd\n",
    "import glob\n",
    "import re\n",
    "import matplotlib.pyplot as plt\n",
    "import cv2\n",
    "import os\n",
    "from image_processing import *"
   ]
  },
  {
   "cell_type": "markdown",
   "metadata": {},
   "source": [
    "**Empiezo con el subconjunto de 2000 imagénes**"
   ]
  },
  {
   "cell_type": "code",
   "execution_count": 14,
   "metadata": {},
   "outputs": [],
   "source": [
    "subset = pd.read_csv(\"../output/df_subset.csv\")"
   ]
  },
  {
   "cell_type": "code",
   "execution_count": 18,
   "metadata": {},
   "outputs": [
    {
     "data": {
      "text/html": [
       "<div>\n",
       "<style scoped>\n",
       "    .dataframe tbody tr th:only-of-type {\n",
       "        vertical-align: middle;\n",
       "    }\n",
       "\n",
       "    .dataframe tbody tr th {\n",
       "        vertical-align: top;\n",
       "    }\n",
       "\n",
       "    .dataframe thead th {\n",
       "        text-align: right;\n",
       "    }\n",
       "</style>\n",
       "<table border=\"1\" class=\"dataframe\">\n",
       "  <thead>\n",
       "    <tr style=\"text-align: right;\">\n",
       "      <th></th>\n",
       "      <th>label</th>\n",
       "      <th>image</th>\n",
       "    </tr>\n",
       "  </thead>\n",
       "  <tbody>\n",
       "    <tr>\n",
       "      <th>0</th>\n",
       "      <td>MSI</td>\n",
       "      <td>MSI_0.jpg</td>\n",
       "    </tr>\n",
       "    <tr>\n",
       "      <th>1</th>\n",
       "      <td>MSI</td>\n",
       "      <td>MSI_1.jpg</td>\n",
       "    </tr>\n",
       "    <tr>\n",
       "      <th>2</th>\n",
       "      <td>MSI</td>\n",
       "      <td>MSI_2.jpg</td>\n",
       "    </tr>\n",
       "    <tr>\n",
       "      <th>3</th>\n",
       "      <td>MSI</td>\n",
       "      <td>MSI_3.jpg</td>\n",
       "    </tr>\n",
       "    <tr>\n",
       "      <th>4</th>\n",
       "      <td>MSI</td>\n",
       "      <td>MSI_4.jpg</td>\n",
       "    </tr>\n",
       "    <tr>\n",
       "      <th>...</th>\n",
       "      <td>...</td>\n",
       "      <td>...</td>\n",
       "    </tr>\n",
       "    <tr>\n",
       "      <th>1995</th>\n",
       "      <td>MSS</td>\n",
       "      <td>MSS_995.jpg</td>\n",
       "    </tr>\n",
       "    <tr>\n",
       "      <th>1996</th>\n",
       "      <td>MSS</td>\n",
       "      <td>MSS_996.jpg</td>\n",
       "    </tr>\n",
       "    <tr>\n",
       "      <th>1997</th>\n",
       "      <td>MSS</td>\n",
       "      <td>MSS_997.jpg</td>\n",
       "    </tr>\n",
       "    <tr>\n",
       "      <th>1998</th>\n",
       "      <td>MSS</td>\n",
       "      <td>MSS_998.jpg</td>\n",
       "    </tr>\n",
       "    <tr>\n",
       "      <th>1999</th>\n",
       "      <td>MSS</td>\n",
       "      <td>MSS_999.jpg</td>\n",
       "    </tr>\n",
       "  </tbody>\n",
       "</table>\n",
       "<p>2000 rows × 2 columns</p>\n",
       "</div>"
      ],
      "text/plain": [
       "     label        image\n",
       "0      MSI    MSI_0.jpg\n",
       "1      MSI    MSI_1.jpg\n",
       "2      MSI    MSI_2.jpg\n",
       "3      MSI    MSI_3.jpg\n",
       "4      MSI    MSI_4.jpg\n",
       "...    ...          ...\n",
       "1995   MSS  MSS_995.jpg\n",
       "1996   MSS  MSS_996.jpg\n",
       "1997   MSS  MSS_997.jpg\n",
       "1998   MSS  MSS_998.jpg\n",
       "1999   MSS  MSS_999.jpg\n",
       "\n",
       "[2000 rows x 2 columns]"
      ]
     },
     "execution_count": 18,
     "metadata": {},
     "output_type": "execute_result"
    }
   ],
   "source": [
    "subset.drop(columns = \"Unnamed: 0\", inplace = True)\n",
    "subset"
   ]
  },
  {
   "cell_type": "markdown",
   "metadata": {},
   "source": [
    "**Probar primero con imágenes en blanco y negro**"
   ]
  },
  {
   "cell_type": "code",
   "execution_count": 19,
   "metadata": {},
   "outputs": [],
   "source": [
    "path = \"../input/biopsy_images\"\n",
    "subset[\"image_array\"] = subset[\"image\"].apply(image_BnW, args=(path,))"
   ]
  },
  {
   "cell_type": "code",
   "execution_count": 20,
   "metadata": {},
   "outputs": [],
   "source": [
    "subset = subset.reset_index().drop(columns=\"index\")"
   ]
  },
  {
   "cell_type": "code",
   "execution_count": 21,
   "metadata": {},
   "outputs": [
    {
     "data": {
      "text/html": [
       "<div>\n",
       "<style scoped>\n",
       "    .dataframe tbody tr th:only-of-type {\n",
       "        vertical-align: middle;\n",
       "    }\n",
       "\n",
       "    .dataframe tbody tr th {\n",
       "        vertical-align: top;\n",
       "    }\n",
       "\n",
       "    .dataframe thead th {\n",
       "        text-align: right;\n",
       "    }\n",
       "</style>\n",
       "<table border=\"1\" class=\"dataframe\">\n",
       "  <thead>\n",
       "    <tr style=\"text-align: right;\">\n",
       "      <th></th>\n",
       "      <th>label</th>\n",
       "      <th>image</th>\n",
       "      <th>image_array</th>\n",
       "    </tr>\n",
       "  </thead>\n",
       "  <tbody>\n",
       "    <tr>\n",
       "      <th>0</th>\n",
       "      <td>MSI</td>\n",
       "      <td>MSI_0.jpg</td>\n",
       "      <td>[[154, 179, 144, 124, 152, 146, 167, 201, 180,...</td>\n",
       "    </tr>\n",
       "    <tr>\n",
       "      <th>1</th>\n",
       "      <td>MSI</td>\n",
       "      <td>MSI_1.jpg</td>\n",
       "      <td>[[160, 146, 134, 96, 67, 69, 78, 96, 124, 155,...</td>\n",
       "    </tr>\n",
       "    <tr>\n",
       "      <th>2</th>\n",
       "      <td>MSI</td>\n",
       "      <td>MSI_2.jpg</td>\n",
       "      <td>[[246, 241, 236, 216, 173, 164, 158, 162, 164,...</td>\n",
       "    </tr>\n",
       "    <tr>\n",
       "      <th>3</th>\n",
       "      <td>MSI</td>\n",
       "      <td>MSI_3.jpg</td>\n",
       "      <td>[[123, 151, 178, 134, 135, 139, 142, 139, 102,...</td>\n",
       "    </tr>\n",
       "    <tr>\n",
       "      <th>4</th>\n",
       "      <td>MSI</td>\n",
       "      <td>MSI_4.jpg</td>\n",
       "      <td>[[128, 160, 172, 204, 192, 147, 146, 136, 127,...</td>\n",
       "    </tr>\n",
       "    <tr>\n",
       "      <th>...</th>\n",
       "      <td>...</td>\n",
       "      <td>...</td>\n",
       "      <td>...</td>\n",
       "    </tr>\n",
       "    <tr>\n",
       "      <th>1995</th>\n",
       "      <td>MSS</td>\n",
       "      <td>MSS_995.jpg</td>\n",
       "      <td>[[107, 75, 106, 126, 127, 169, 124, 136, 141, ...</td>\n",
       "    </tr>\n",
       "    <tr>\n",
       "      <th>1996</th>\n",
       "      <td>MSS</td>\n",
       "      <td>MSS_996.jpg</td>\n",
       "      <td>[[226, 236, 203, 160, 211, 240, 244, 239, 232,...</td>\n",
       "    </tr>\n",
       "    <tr>\n",
       "      <th>1997</th>\n",
       "      <td>MSS</td>\n",
       "      <td>MSS_997.jpg</td>\n",
       "      <td>[[68, 64, 62, 67, 71, 56, 77, 90, 100, 108, 10...</td>\n",
       "    </tr>\n",
       "    <tr>\n",
       "      <th>1998</th>\n",
       "      <td>MSS</td>\n",
       "      <td>MSS_998.jpg</td>\n",
       "      <td>[[164, 177, 181, 179, 185, 135, 48, 26, 40, 11...</td>\n",
       "    </tr>\n",
       "    <tr>\n",
       "      <th>1999</th>\n",
       "      <td>MSS</td>\n",
       "      <td>MSS_999.jpg</td>\n",
       "      <td>[[106, 91, 118, 190, 206, 201, 198, 184, 177, ...</td>\n",
       "    </tr>\n",
       "  </tbody>\n",
       "</table>\n",
       "<p>2000 rows × 3 columns</p>\n",
       "</div>"
      ],
      "text/plain": [
       "     label        image                                        image_array\n",
       "0      MSI    MSI_0.jpg  [[154, 179, 144, 124, 152, 146, 167, 201, 180,...\n",
       "1      MSI    MSI_1.jpg  [[160, 146, 134, 96, 67, 69, 78, 96, 124, 155,...\n",
       "2      MSI    MSI_2.jpg  [[246, 241, 236, 216, 173, 164, 158, 162, 164,...\n",
       "3      MSI    MSI_3.jpg  [[123, 151, 178, 134, 135, 139, 142, 139, 102,...\n",
       "4      MSI    MSI_4.jpg  [[128, 160, 172, 204, 192, 147, 146, 136, 127,...\n",
       "...    ...          ...                                                ...\n",
       "1995   MSS  MSS_995.jpg  [[107, 75, 106, 126, 127, 169, 124, 136, 141, ...\n",
       "1996   MSS  MSS_996.jpg  [[226, 236, 203, 160, 211, 240, 244, 239, 232,...\n",
       "1997   MSS  MSS_997.jpg  [[68, 64, 62, 67, 71, 56, 77, 90, 100, 108, 10...\n",
       "1998   MSS  MSS_998.jpg  [[164, 177, 181, 179, 185, 135, 48, 26, 40, 11...\n",
       "1999   MSS  MSS_999.jpg  [[106, 91, 118, 190, 206, 201, 198, 184, 177, ...\n",
       "\n",
       "[2000 rows x 3 columns]"
      ]
     },
     "execution_count": 21,
     "metadata": {},
     "output_type": "execute_result"
    }
   ],
   "source": [
    "subset"
   ]
  },
  {
   "cell_type": "markdown",
   "metadata": {},
   "source": [
    "**Checkear que los arrays son todos del mismo tamaño**"
   ]
  },
  {
   "cell_type": "code",
   "execution_count": 22,
   "metadata": {},
   "outputs": [
    {
     "data": {
      "text/plain": [
       "(224, 224)"
      ]
     },
     "execution_count": 22,
     "metadata": {},
     "output_type": "execute_result"
    }
   ],
   "source": [
    "size = subset[\"image_array\"][0].shape\n",
    "size"
   ]
  },
  {
   "cell_type": "code",
   "execution_count": 23,
   "metadata": {},
   "outputs": [
    {
     "data": {
      "text/html": [
       "<div>\n",
       "<style scoped>\n",
       "    .dataframe tbody tr th:only-of-type {\n",
       "        vertical-align: middle;\n",
       "    }\n",
       "\n",
       "    .dataframe tbody tr th {\n",
       "        vertical-align: top;\n",
       "    }\n",
       "\n",
       "    .dataframe thead th {\n",
       "        text-align: right;\n",
       "    }\n",
       "</style>\n",
       "<table border=\"1\" class=\"dataframe\">\n",
       "  <thead>\n",
       "    <tr style=\"text-align: right;\">\n",
       "      <th></th>\n",
       "      <th>label</th>\n",
       "      <th>image</th>\n",
       "      <th>image_array</th>\n",
       "      <th>shape</th>\n",
       "    </tr>\n",
       "  </thead>\n",
       "  <tbody>\n",
       "    <tr>\n",
       "      <th>0</th>\n",
       "      <td>MSI</td>\n",
       "      <td>MSI_0.jpg</td>\n",
       "      <td>[[154, 179, 144, 124, 152, 146, 167, 201, 180,...</td>\n",
       "      <td>(224, 224)</td>\n",
       "    </tr>\n",
       "    <tr>\n",
       "      <th>1</th>\n",
       "      <td>MSI</td>\n",
       "      <td>MSI_1.jpg</td>\n",
       "      <td>[[160, 146, 134, 96, 67, 69, 78, 96, 124, 155,...</td>\n",
       "      <td>(224, 224)</td>\n",
       "    </tr>\n",
       "    <tr>\n",
       "      <th>2</th>\n",
       "      <td>MSI</td>\n",
       "      <td>MSI_2.jpg</td>\n",
       "      <td>[[246, 241, 236, 216, 173, 164, 158, 162, 164,...</td>\n",
       "      <td>(224, 224)</td>\n",
       "    </tr>\n",
       "    <tr>\n",
       "      <th>3</th>\n",
       "      <td>MSI</td>\n",
       "      <td>MSI_3.jpg</td>\n",
       "      <td>[[123, 151, 178, 134, 135, 139, 142, 139, 102,...</td>\n",
       "      <td>(224, 224)</td>\n",
       "    </tr>\n",
       "    <tr>\n",
       "      <th>4</th>\n",
       "      <td>MSI</td>\n",
       "      <td>MSI_4.jpg</td>\n",
       "      <td>[[128, 160, 172, 204, 192, 147, 146, 136, 127,...</td>\n",
       "      <td>(224, 224)</td>\n",
       "    </tr>\n",
       "  </tbody>\n",
       "</table>\n",
       "</div>"
      ],
      "text/plain": [
       "  label      image                                        image_array  \\\n",
       "0   MSI  MSI_0.jpg  [[154, 179, 144, 124, 152, 146, 167, 201, 180,...   \n",
       "1   MSI  MSI_1.jpg  [[160, 146, 134, 96, 67, 69, 78, 96, 124, 155,...   \n",
       "2   MSI  MSI_2.jpg  [[246, 241, 236, 216, 173, 164, 158, 162, 164,...   \n",
       "3   MSI  MSI_3.jpg  [[123, 151, 178, 134, 135, 139, 142, 139, 102,...   \n",
       "4   MSI  MSI_4.jpg  [[128, 160, 172, 204, 192, 147, 146, 136, 127,...   \n",
       "\n",
       "        shape  \n",
       "0  (224, 224)  \n",
       "1  (224, 224)  \n",
       "2  (224, 224)  \n",
       "3  (224, 224)  \n",
       "4  (224, 224)  "
      ]
     },
     "execution_count": 23,
     "metadata": {},
     "output_type": "execute_result"
    }
   ],
   "source": [
    "subset[\"shape\"] = subset[\"image_array\"].apply(checkSize)\n",
    "subset.head()"
   ]
  },
  {
   "cell_type": "code",
   "execution_count": 24,
   "metadata": {},
   "outputs": [
    {
     "data": {
      "text/plain": [
       "Series([], Name: shape, dtype: int64)"
      ]
     },
     "execution_count": 24,
     "metadata": {},
     "output_type": "execute_result"
    }
   ],
   "source": [
    "subset[\"shape\"][subset[\"shape\"]!=size].value_counts()"
   ]
  },
  {
   "cell_type": "markdown",
   "metadata": {},
   "source": [
    "Todos son de 224x224"
   ]
  },
  {
   "cell_type": "markdown",
   "metadata": {},
   "source": [
    "**Guardar dataframe con los arrays y el label**"
   ]
  },
  {
   "cell_type": "code",
   "execution_count": 25,
   "metadata": {},
   "outputs": [],
   "source": [
    "final_subset = subset[[\"label\",\"image_array\"]]"
   ]
  },
  {
   "cell_type": "code",
   "execution_count": 26,
   "metadata": {},
   "outputs": [
    {
     "data": {
      "text/html": [
       "<div>\n",
       "<style scoped>\n",
       "    .dataframe tbody tr th:only-of-type {\n",
       "        vertical-align: middle;\n",
       "    }\n",
       "\n",
       "    .dataframe tbody tr th {\n",
       "        vertical-align: top;\n",
       "    }\n",
       "\n",
       "    .dataframe thead th {\n",
       "        text-align: right;\n",
       "    }\n",
       "</style>\n",
       "<table border=\"1\" class=\"dataframe\">\n",
       "  <thead>\n",
       "    <tr style=\"text-align: right;\">\n",
       "      <th></th>\n",
       "      <th>label</th>\n",
       "      <th>image_array</th>\n",
       "    </tr>\n",
       "  </thead>\n",
       "  <tbody>\n",
       "    <tr>\n",
       "      <th>0</th>\n",
       "      <td>MSI</td>\n",
       "      <td>[[154, 179, 144, 124, 152, 146, 167, 201, 180,...</td>\n",
       "    </tr>\n",
       "    <tr>\n",
       "      <th>1</th>\n",
       "      <td>MSI</td>\n",
       "      <td>[[160, 146, 134, 96, 67, 69, 78, 96, 124, 155,...</td>\n",
       "    </tr>\n",
       "    <tr>\n",
       "      <th>2</th>\n",
       "      <td>MSI</td>\n",
       "      <td>[[246, 241, 236, 216, 173, 164, 158, 162, 164,...</td>\n",
       "    </tr>\n",
       "    <tr>\n",
       "      <th>3</th>\n",
       "      <td>MSI</td>\n",
       "      <td>[[123, 151, 178, 134, 135, 139, 142, 139, 102,...</td>\n",
       "    </tr>\n",
       "    <tr>\n",
       "      <th>4</th>\n",
       "      <td>MSI</td>\n",
       "      <td>[[128, 160, 172, 204, 192, 147, 146, 136, 127,...</td>\n",
       "    </tr>\n",
       "    <tr>\n",
       "      <th>...</th>\n",
       "      <td>...</td>\n",
       "      <td>...</td>\n",
       "    </tr>\n",
       "    <tr>\n",
       "      <th>1995</th>\n",
       "      <td>MSS</td>\n",
       "      <td>[[107, 75, 106, 126, 127, 169, 124, 136, 141, ...</td>\n",
       "    </tr>\n",
       "    <tr>\n",
       "      <th>1996</th>\n",
       "      <td>MSS</td>\n",
       "      <td>[[226, 236, 203, 160, 211, 240, 244, 239, 232,...</td>\n",
       "    </tr>\n",
       "    <tr>\n",
       "      <th>1997</th>\n",
       "      <td>MSS</td>\n",
       "      <td>[[68, 64, 62, 67, 71, 56, 77, 90, 100, 108, 10...</td>\n",
       "    </tr>\n",
       "    <tr>\n",
       "      <th>1998</th>\n",
       "      <td>MSS</td>\n",
       "      <td>[[164, 177, 181, 179, 185, 135, 48, 26, 40, 11...</td>\n",
       "    </tr>\n",
       "    <tr>\n",
       "      <th>1999</th>\n",
       "      <td>MSS</td>\n",
       "      <td>[[106, 91, 118, 190, 206, 201, 198, 184, 177, ...</td>\n",
       "    </tr>\n",
       "  </tbody>\n",
       "</table>\n",
       "<p>2000 rows × 2 columns</p>\n",
       "</div>"
      ],
      "text/plain": [
       "     label                                        image_array\n",
       "0      MSI  [[154, 179, 144, 124, 152, 146, 167, 201, 180,...\n",
       "1      MSI  [[160, 146, 134, 96, 67, 69, 78, 96, 124, 155,...\n",
       "2      MSI  [[246, 241, 236, 216, 173, 164, 158, 162, 164,...\n",
       "3      MSI  [[123, 151, 178, 134, 135, 139, 142, 139, 102,...\n",
       "4      MSI  [[128, 160, 172, 204, 192, 147, 146, 136, 127,...\n",
       "...    ...                                                ...\n",
       "1995   MSS  [[107, 75, 106, 126, 127, 169, 124, 136, 141, ...\n",
       "1996   MSS  [[226, 236, 203, 160, 211, 240, 244, 239, 232,...\n",
       "1997   MSS  [[68, 64, 62, 67, 71, 56, 77, 90, 100, 108, 10...\n",
       "1998   MSS  [[164, 177, 181, 179, 185, 135, 48, 26, 40, 11...\n",
       "1999   MSS  [[106, 91, 118, 190, 206, 201, 198, 184, 177, ...\n",
       "\n",
       "[2000 rows x 2 columns]"
      ]
     },
     "execution_count": 26,
     "metadata": {},
     "output_type": "execute_result"
    }
   ],
   "source": [
    "final_subset"
   ]
  },
  {
   "cell_type": "code",
   "execution_count": 27,
   "metadata": {},
   "outputs": [],
   "source": [
    "final_subset.to_pickle(\"../output/final_subset_BnW.pkl\")"
   ]
  }
 ],
 "metadata": {
  "kernelspec": {
   "display_name": "Python 3",
   "language": "python",
   "name": "python3"
  },
  "language_info": {
   "codemirror_mode": {
    "name": "ipython",
    "version": 3
   },
   "file_extension": ".py",
   "mimetype": "text/x-python",
   "name": "python",
   "nbconvert_exporter": "python",
   "pygments_lexer": "ipython3",
   "version": "3.7.5"
  }
 },
 "nbformat": 4,
 "nbformat_minor": 4
}
