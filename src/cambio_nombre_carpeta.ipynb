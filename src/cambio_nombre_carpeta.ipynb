{
 "cells": [
  {
   "cell_type": "code",
   "execution_count": 2,
   "metadata": {},
   "outputs": [],
   "source": [
    "import pandas as pd\n",
    "import os\n",
    "import re\n",
    "import shutil\n",
    "from rename_move_files import *"
   ]
  },
  {
   "cell_type": "code",
   "execution_count": 3,
   "metadata": {},
   "outputs": [
    {
     "name": "stdout",
     "output_type": "stream",
     "text": [
      "75039 blk-DIIMCHYEWATG-TCGA-AA-3715-01Z-00-DX1.jpg\n",
      "117273 blk-WAIVQLAAWVDN-TCGA-CA-6718-01Z-00-DX1.jpg\n"
     ]
    }
   ],
   "source": [
    "# cambio nombre a todos los archivos de MSI y MSS\n",
    "path_comun = \"/home/flori/ironhack/projects/final-project\"\n",
    "pathMSI = f\"{path_comun}/MSIMUT_JPEG\"\n",
    "pathMSS = f\"{path_comun}/MSS_JPEG\"\n",
    "MSIfiles = os.listdir(pathMSI)\n",
    "MSSfiles = os.listdir(pathMSS)\n",
    "print(len(MSIfiles),MSIfiles[0])\n",
    "print(len(MSSfiles),MSSfiles[0])"
   ]
  },
  {
   "cell_type": "code",
   "execution_count": 4,
   "metadata": {},
   "outputs": [
    {
     "data": {
      "text/plain": [
       "'Number of files that have been renamed: 75039'"
      ]
     },
     "execution_count": 4,
     "metadata": {},
     "output_type": "execute_result"
    }
   ],
   "source": [
    "renameFiles(pathMSI, MSIfiles, \"MSI\")"
   ]
  },
  {
   "cell_type": "code",
   "execution_count": 5,
   "metadata": {},
   "outputs": [
    {
     "data": {
      "text/plain": [
       "'Number of files that have been renamed: 117273'"
      ]
     },
     "execution_count": 5,
     "metadata": {},
     "output_type": "execute_result"
    }
   ],
   "source": [
    "renameFiles(pathMSS, MSSfiles, \"MSS\")"
   ]
  },
  {
   "cell_type": "markdown",
   "metadata": {},
   "source": [
    "**Una vez cambiado el nombre de todos los archivos (los 75039 de MSI y los 117273 de MSS) voy a cambiarlos de carpeta**"
   ]
  },
  {
   "cell_type": "code",
   "execution_count": 6,
   "metadata": {},
   "outputs": [],
   "source": [
    "# create a new folder which will contain all images. Each image will be renamed such as MSI/1 or MSS/2\n",
    "new_path = \"../input/biopsy_images\"\n",
    "if not os.path.isdir(new_path):\n",
    "    os.makedirs(new_path)"
   ]
  },
  {
   "cell_type": "code",
   "execution_count": 8,
   "metadata": {},
   "outputs": [],
   "source": [
    "#Declaro de nuevo estas variables para que tengan los nombres de los archivos actualizados\n",
    "MSIfiles = os.listdir(pathMSI)\n",
    "MSSfiles = os.listdir(pathMSS)"
   ]
  },
  {
   "cell_type": "code",
   "execution_count": 9,
   "metadata": {},
   "outputs": [
    {
     "name": "stdout",
     "output_type": "stream",
     "text": [
      "Number of files that have been moved: 75039\n",
      "Number of files that have been moved: 117273\n"
     ]
    }
   ],
   "source": [
    "# Una vez cambiados los nombres de los archivos vamos a moverlos a la nueva carpeta creada\n",
    "moveFiles(pathMSI, MSIfiles, new_path)\n",
    "moveFiles(pathMSS, MSSfiles, new_path)"
   ]
  },
  {
   "cell_type": "code",
   "execution_count": 10,
   "metadata": {},
   "outputs": [
    {
     "name": "stdout",
     "output_type": "stream",
     "text": [
      "0 0\n",
      "192312\n"
     ]
    }
   ],
   "source": [
    "# Para ver si todo ha ido bien, voy a checkear el numero de archivos en el path antiguo y en el path nuevo\n",
    "MSIfiles = os.listdir(pathMSI)\n",
    "MSSfiles = os.listdir(pathMSS)\n",
    "print(len(MSIfiles), len(MSSfiles))\n",
    "print(len(os.listdir(new_path)))"
   ]
  }
 ],
 "metadata": {
  "kernelspec": {
   "display_name": "Python 3",
   "language": "python",
   "name": "python3"
  },
  "language_info": {
   "codemirror_mode": {
    "name": "ipython",
    "version": 3
   },
   "file_extension": ".py",
   "mimetype": "text/x-python",
   "name": "python",
   "nbconvert_exporter": "python",
   "pygments_lexer": "ipython3",
   "version": "3.7.5"
  }
 },
 "nbformat": 4,
 "nbformat_minor": 4
}
