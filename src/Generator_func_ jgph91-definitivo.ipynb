{
 "cells": [
  {
   "cell_type": "code",
   "execution_count": 89,
   "metadata": {},
   "outputs": [],
   "source": [
    "import cv2\n",
    "import pandas as pd\n",
    "import numpy as np\n",
    "import matplotlib.pyplot as plt\n",
    "import time\n",
    "from sklearn.model_selection import train_test_split\n",
    "from sklearn.metrics import classification_report, confusion_matrix\n",
    "import seaborn as sn\n",
    "from __future__ import print_function\n",
    "import keras\n",
    "from keras import utils\n",
    "from keras.models import Sequential\n",
    "from keras.layers.convolutional import Conv2D\n",
    "from keras.layers.convolutional import MaxPooling2D\n",
    "from keras.layers.core import Activation, Flatten, Dropout, Dense\n",
    "from keras.layers.normalization import BatchNormalization\n",
    "from keras import backend as K\n",
    "from keras.models import load_model\n",
    "from keras.callbacks import ModelCheckpoint\n",
    "import keras\n",
    "from sklearn.metrics import roc_curve, roc_auc_score"
   ]
  },
  {
   "cell_type": "code",
   "execution_count": 42,
   "metadata": {},
   "outputs": [],
   "source": [
    "# Constants\n",
    "\n",
    "#paths\n",
    "ROOT_IMG = '../input/biopsy_images/'\n",
    "DATASET = \"../output/new_subset6000.csv\"\n",
    "ROOT_MODELS = 'Models/'\n",
    "\n",
    "#img size\n",
    "IMG_ROWS = 224\n",
    "IMG_COLS = 224\n",
    "IMG_COLORS = 3\n",
    "\n",
    "#Num images to use\n",
    "#202599\n",
    "IMG_NUM=6000\n",
    "\n",
    "# Train-Test distribution\n",
    "TRAIN_RATIO=0.2\n",
    "#RANDOM_STATE=42\n",
    "\n",
    "# fit parameters\n",
    "BATCH_SIZE = 40\n",
    "EPOCHS = 100"
   ]
  },
  {
   "cell_type": "code",
   "execution_count": 43,
   "metadata": {},
   "outputs": [],
   "source": [
    "# Shape ofe the images\n",
    "input_shape = ( IMG_ROWS, IMG_COLS, IMG_COLORS)\n",
    "# Number of labels\n",
    "num_classes = 2"
   ]
  },
  {
   "cell_type": "code",
   "execution_count": 44,
   "metadata": {},
   "outputs": [
    {
     "data": {
      "text/plain": [
       "\"\\n#NN topology\\nmodel = Sequential()\\nmodel.add(Conv2D(32, kernel_size=(3, 3),\\n                 activation='relu',\\n                 input_shape=input_shape))\\nmodel.add(Conv2D(64, (3, 3), activation='relu'))\\nmodel.add(MaxPooling2D(pool_size=(2, 2)))\\nmodel.add(Dropout(0.25))\\nmodel.add(Flatten())\\nmodel.add(Dense(128, activation='relu'))\\nmodel.add(Dropout(0.5))\\nmodel.add(Dense(num_classes, activation='sigmoid'))\\n\\nmodel.compile(optimizer='adam', loss='binary_crossentropy', metrics=['accuracy'])\\n\""
      ]
     },
     "execution_count": 44,
     "metadata": {},
     "output_type": "execute_result"
    }
   ],
   "source": [
    "\"\"\"\n",
    "#NN topology\n",
    "model = Sequential()\n",
    "model.add(Conv2D(32, kernel_size=(3, 3),\n",
    "                 activation='relu',\n",
    "                 input_shape=input_shape))\n",
    "model.add(Conv2D(64, (3, 3), activation='relu'))\n",
    "model.add(MaxPooling2D(pool_size=(2, 2)))\n",
    "model.add(Dropout(0.25))\n",
    "model.add(Flatten())\n",
    "model.add(Dense(128, activation='relu'))\n",
    "model.add(Dropout(0.5))\n",
    "model.add(Dense(num_classes, activation='sigmoid'))\n",
    "\n",
    "model.compile(optimizer='adam', loss='binary_crossentropy', metrics=['accuracy'])\n",
    "\"\"\""
   ]
  },
  {
   "cell_type": "code",
   "execution_count": 45,
   "metadata": {},
   "outputs": [],
   "source": [
    "#NN topology\n",
    "model = Sequential()\n",
    "\n",
    "chanDim = -1\n",
    "if K.image_data_format() == \"channels_first\":\n",
    "    chanDim = 1\n",
    "    \n",
    "model.add(Conv2D(32, (3, 3), padding=\"same\", input_shape=input_shape))\n",
    "model.add(Activation(\"relu\"))\n",
    "model.add(BatchNormalization(axis=chanDim))\n",
    "model.add(MaxPooling2D(pool_size=(3, 3)))\n",
    "model.add(Dropout(0.25))\n",
    "model.add(Conv2D(64, (3, 3), padding=\"same\"))\n",
    "model.add(Activation(\"relu\"))\n",
    "model.add(BatchNormalization(axis=chanDim))\n",
    "model.add(Conv2D(64, (3, 3), padding=\"same\"))\n",
    "model.add(Activation(\"relu\"))\n",
    "model.add(BatchNormalization(axis=chanDim))\n",
    "model.add(MaxPooling2D(pool_size=(2, 2)))\n",
    "model.add(Dropout(0.25))\n",
    "model.add(Conv2D(128, (3, 3), padding=\"same\"))\n",
    "model.add(Activation(\"relu\"))\n",
    "model.add(BatchNormalization(axis=chanDim))\n",
    "model.add(Conv2D(128, (3, 3), padding=\"same\"))\n",
    "model.add(Activation(\"relu\"))\n",
    "model.add(BatchNormalization(axis=chanDim))\n",
    "model.add(MaxPooling2D(pool_size=(2, 2)))\n",
    "model.add(Dropout(0.25))\n",
    "model.add(Flatten())\n",
    "model.add(Dense(1024))\n",
    "model.add(Activation(\"relu\"))\n",
    "model.add(BatchNormalization())\n",
    "model.add(Dropout(0.5))\n",
    "model.add(Dense(num_classes))\n",
    "model.add(Activation(\"softmax\"))\n",
    "\n",
    "\n",
    "model.compile(loss=keras.losses.categorical_crossentropy,\n",
    "              optimizer=keras.optimizers.Adadelta(),\n",
    "              metrics=['accuracy'])"
   ]
  },
  {
   "cell_type": "code",
   "execution_count": 46,
   "metadata": {},
   "outputs": [],
   "source": [
    "df=pd.read_csv(DATASET)\n",
    "df=df[0:IMG_NUM]\n",
    "#df=df[COLUMNS]\n",
    "#df=df.replace(-1,0)"
   ]
  },
  {
   "cell_type": "code",
   "execution_count": 47,
   "metadata": {},
   "outputs": [
    {
     "data": {
      "text/plain": [
       "0       0\n",
       "1       0\n",
       "2       0\n",
       "3       0\n",
       "4       0\n",
       "       ..\n",
       "5995    1\n",
       "5996    1\n",
       "5997    1\n",
       "5998    1\n",
       "5999    1\n",
       "Name: label, Length: 6000, dtype: int64"
      ]
     },
     "execution_count": 47,
     "metadata": {},
     "output_type": "execute_result"
    }
   ],
   "source": [
    "df[\"label\"] = df[\"label\"].replace(\"MSI\",0)\n",
    "df[\"label\"] = df[\"label\"].replace(\"MSS\",1)\n",
    "df[\"label\"]"
   ]
  },
  {
   "cell_type": "code",
   "execution_count": 48,
   "metadata": {},
   "outputs": [
    {
     "data": {
      "text/plain": [
       "1    3000\n",
       "0    3000\n",
       "Name: label, dtype: int64"
      ]
     },
     "execution_count": 48,
     "metadata": {},
     "output_type": "execute_result"
    }
   ],
   "source": [
    "df[\"label\"].value_counts()"
   ]
  },
  {
   "cell_type": "code",
   "execution_count": 49,
   "metadata": {},
   "outputs": [],
   "source": [
    "#y"
   ]
  },
  {
   "cell_type": "code",
   "execution_count": 50,
   "metadata": {},
   "outputs": [],
   "source": [
    "#y[0]"
   ]
  },
  {
   "cell_type": "code",
   "execution_count": 51,
   "metadata": {},
   "outputs": [],
   "source": [
    "\"\"\"\n",
    "X_train, X_test, y_train, y_test = train_test_split(\n",
    "                df.image_id, df.drop(columns=['image_id']), test_size=TRAIN_RATIO, random_state=RANDOM_STATE)\n",
    "\"\"\"\n",
    "X_train, X_test, y_train, y_test = train_test_split(df.image, df.label, test_size=TRAIN_RATIO)"
   ]
  },
  {
   "cell_type": "code",
   "execution_count": 52,
   "metadata": {},
   "outputs": [],
   "source": [
    "# generator to feed the fit\n",
    "def generator(data,target,bs,rootImg,mode='train'):\n",
    "    images=[]\n",
    "    labels=[]\n",
    "    count=0\n",
    "    while True:\n",
    "        images.append(cv2.imread(rootImg+data.iloc[count]))\n",
    "        if target.iloc[count] == 1:\n",
    "            labels.append([0,1])\n",
    "        else:\n",
    "            labels.append([1,0])\n",
    "        count+=1\n",
    "        if len(labels)==bs:\n",
    "            images=np.array(images)\n",
    "            labels=np.array(labels)\n",
    "            if mode == \"eval\":\n",
    "              yield images\n",
    "            else:\n",
    "              yield images, labels\n",
    "            images=[]\n",
    "            labels=[]\n",
    "        if count==data.shape[0]:\n",
    "            if mode == \"eval\":\n",
    "                break\n",
    "            else:\n",
    "                count=0"
   ]
  },
  {
   "cell_type": "code",
   "execution_count": 53,
   "metadata": {},
   "outputs": [],
   "source": [
    "# Save the model at the end of every epoch if val_accuracy is better \n",
    "filepath='Checkpoint_{epoch:02d}_{val_accuracy:.2f}'\n",
    "checkpoint = ModelCheckpoint(filepath, monitor='val_accuracy', verbose=1, save_best_only=True, mode='max')\n",
    "callbacks_list = [checkpoint]"
   ]
  },
  {
   "cell_type": "code",
   "execution_count": 54,
   "metadata": {},
   "outputs": [
    {
     "data": {
      "text/plain": [
       "\"\\n# Ask keras which format to use depending on used backend and arrange data as expected\\nif K.image_data_format() == 'channels_first':\\n    X_train = X_train.reshape(X_train.shape[0], IMG_COLORS, IMG_ROWS, IMG_COLS)\\n    X_test = X_test.reshape(X_test.shape[0], IMG_COLORS, IMG_ROWS, IMG_COLS)\\n    input_shape = (IMG_COLORS, IMG_ROWS, IMG_COLS)\\nelse:\\n    X_train = X_train.reshape(X_train.shape[0], IMG_ROWS, IMG_COLS, IMG_COLORS)\\n    X_test = X_test.reshape(X_test.shape[0], IMG_ROWS, IMG_COLS, IMG_COLORS)\\n    input_shape = (IMG_ROWS, IMG_COLS, IMG_COLORS)\\n\\n# Incoming data is in uint8. Cast the input data images to be floats in range [0.0-1.0]  \\nX_train = X_train.astype('float32') / 255\\nX_test = X_test.astype('float32') / 255\\n\\nprint('X_train shape:', X_train.shape)\\nprint(X_train.shape[0], 'train samples')\\nprint(X_test.shape[0], 'test samples')\\n\\n# convert class vectors to binary class matrices\\ny_train = keras.utils.to_categorical(y_train, num_classes)\\ny_test = keras.utils.to_categorical(y_test, num_classes)\\n\""
      ]
     },
     "execution_count": 54,
     "metadata": {},
     "output_type": "execute_result"
    }
   ],
   "source": [
    "\"\"\"\n",
    "# Ask keras which format to use depending on used backend and arrange data as expected\n",
    "if K.image_data_format() == 'channels_first':\n",
    "    X_train = X_train.reshape(X_train.shape[0], IMG_COLORS, IMG_ROWS, IMG_COLS)\n",
    "    X_test = X_test.reshape(X_test.shape[0], IMG_COLORS, IMG_ROWS, IMG_COLS)\n",
    "    input_shape = (IMG_COLORS, IMG_ROWS, IMG_COLS)\n",
    "else:\n",
    "    X_train = X_train.reshape(X_train.shape[0], IMG_ROWS, IMG_COLS, IMG_COLORS)\n",
    "    X_test = X_test.reshape(X_test.shape[0], IMG_ROWS, IMG_COLS, IMG_COLORS)\n",
    "    input_shape = (IMG_ROWS, IMG_COLS, IMG_COLORS)\n",
    "\n",
    "# Incoming data is in uint8. Cast the input data images to be floats in range [0.0-1.0]  \n",
    "X_train = X_train.astype('float32') / 255\n",
    "X_test = X_test.astype('float32') / 255\n",
    "\n",
    "print('X_train shape:', X_train.shape)\n",
    "print(X_train.shape[0], 'train samples')\n",
    "print(X_test.shape[0], 'test samples')\n",
    "\n",
    "# convert class vectors to binary class matrices\n",
    "y_train = keras.utils.to_categorical(y_train, num_classes)\n",
    "y_test = keras.utils.to_categorical(y_test, num_classes)\n",
    "\"\"\""
   ]
  },
  {
   "cell_type": "code",
   "execution_count": 55,
   "metadata": {},
   "outputs": [
    {
     "name": "stdout",
     "output_type": "stream",
     "text": [
      "Epoch 1/100\n",
      "120/120 [==============================] - 388s 3s/step - loss: 1.0735 - accuracy: 0.5018 - val_loss: 2.3010 - val_accuracy: 0.5625\n",
      "\n",
      "Epoch 00001: val_accuracy improved from -inf to 0.56250, saving model to Checkpoint_01_0.56\n",
      "Epoch 2/100\n",
      "120/120 [==============================] - 356s 3s/step - loss: 0.8667 - accuracy: 0.5227 - val_loss: 0.6565 - val_accuracy: 0.6292\n",
      "\n",
      "Epoch 00002: val_accuracy improved from 0.56250 to 0.62917, saving model to Checkpoint_02_0.63\n",
      "Epoch 3/100\n",
      "120/120 [==============================] - 367s 3s/step - loss: 0.8240 - accuracy: 0.5417 - val_loss: 0.9229 - val_accuracy: 0.4042\n",
      "\n",
      "Epoch 00003: val_accuracy did not improve from 0.62917\n",
      "Epoch 4/100\n",
      "120/120 [==============================] - 1568s 13s/step - loss: 0.8742 - accuracy: 0.5206 - val_loss: 1.5344 - val_accuracy: 0.5625\n",
      "\n",
      "Epoch 00004: val_accuracy did not improve from 0.62917\n",
      "Epoch 5/100\n",
      "120/120 [==============================] - 410s 3s/step - loss: 0.8368 - accuracy: 0.5333 - val_loss: 1.1370 - val_accuracy: 0.4542\n",
      "\n",
      "Epoch 00005: val_accuracy did not improve from 0.62917\n",
      "Epoch 6/100\n",
      "120/120 [==============================] - 403s 3s/step - loss: 0.7822 - accuracy: 0.5568 - val_loss: 0.6621 - val_accuracy: 0.4958\n",
      "\n",
      "Epoch 00006: val_accuracy did not improve from 0.62917\n",
      "Epoch 7/100\n",
      "120/120 [==============================] - 403s 3s/step - loss: 0.7706 - accuracy: 0.5555 - val_loss: 3.8569 - val_accuracy: 0.5583\n",
      "\n",
      "Epoch 00007: val_accuracy did not improve from 0.62917\n",
      "Epoch 8/100\n",
      "120/120 [==============================] - 404s 3s/step - loss: 0.7202 - accuracy: 0.5885 - val_loss: 1.6605 - val_accuracy: 0.5000\n",
      "\n",
      "Epoch 00008: val_accuracy did not improve from 0.62917\n",
      "Epoch 9/100\n",
      "120/120 [==============================] - 404s 3s/step - loss: 0.7005 - accuracy: 0.6164 - val_loss: 0.9752 - val_accuracy: 0.5083\n",
      "\n",
      "Epoch 00009: val_accuracy did not improve from 0.62917\n",
      "Epoch 10/100\n",
      "120/120 [==============================] - 404s 3s/step - loss: 0.6777 - accuracy: 0.6393 - val_loss: 0.9798 - val_accuracy: 0.5458\n",
      "\n",
      "Epoch 00010: val_accuracy did not improve from 0.62917\n",
      "Epoch 11/100\n",
      "120/120 [==============================] - 404s 3s/step - loss: 0.6829 - accuracy: 0.6221 - val_loss: 0.5655 - val_accuracy: 0.5792\n",
      "\n",
      "Epoch 00011: val_accuracy did not improve from 0.62917\n",
      "Epoch 12/100\n",
      "120/120 [==============================] - 403s 3s/step - loss: 0.6359 - accuracy: 0.6701 - val_loss: 0.8437 - val_accuracy: 0.5625\n",
      "\n",
      "Epoch 00012: val_accuracy did not improve from 0.62917\n",
      "Epoch 13/100\n",
      "120/120 [==============================] - 404s 3s/step - loss: 0.6164 - accuracy: 0.6953 - val_loss: 3.1884 - val_accuracy: 0.5083\n",
      "\n",
      "Epoch 00013: val_accuracy did not improve from 0.62917\n",
      "Epoch 14/100\n",
      "120/120 [==============================] - 404s 3s/step - loss: 0.5562 - accuracy: 0.7289 - val_loss: 1.2985 - val_accuracy: 0.4958\n",
      "\n",
      "Epoch 00014: val_accuracy did not improve from 0.62917\n",
      "Epoch 15/100\n",
      "120/120 [==============================] - 404s 3s/step - loss: 0.5246 - accuracy: 0.7458 - val_loss: 0.7572 - val_accuracy: 0.5417\n",
      "\n",
      "Epoch 00015: val_accuracy did not improve from 0.62917\n",
      "Epoch 16/100\n",
      "120/120 [==============================] - 404s 3s/step - loss: 0.4821 - accuracy: 0.7857 - val_loss: 0.7825 - val_accuracy: 0.5500\n",
      "\n",
      "Epoch 00016: val_accuracy did not improve from 0.62917\n",
      "Epoch 17/100\n",
      "120/120 [==============================] - 403s 3s/step - loss: 0.4393 - accuracy: 0.8016 - val_loss: 1.8215 - val_accuracy: 0.5208\n",
      "\n",
      "Epoch 00017: val_accuracy did not improve from 0.62917\n",
      "Epoch 18/100\n",
      "120/120 [==============================] - 403s 3s/step - loss: 0.3807 - accuracy: 0.8375 - val_loss: 1.4623 - val_accuracy: 0.5708\n",
      "\n",
      "Epoch 00018: val_accuracy did not improve from 0.62917\n",
      "Epoch 19/100\n",
      "120/120 [==============================] - 404s 3s/step - loss: 0.3478 - accuracy: 0.8583 - val_loss: 1.7839 - val_accuracy: 0.5417\n",
      "\n",
      "Epoch 00019: val_accuracy did not improve from 0.62917\n",
      "Epoch 20/100\n",
      "120/120 [==============================] - 404s 3s/step - loss: 0.2909 - accuracy: 0.8799 - val_loss: 1.0168 - val_accuracy: 0.5583\n",
      "\n",
      "Epoch 00020: val_accuracy did not improve from 0.62917\n",
      "Epoch 21/100\n",
      "120/120 [==============================] - 403s 3s/step - loss: 0.2530 - accuracy: 0.9003 - val_loss: 0.8920 - val_accuracy: 0.5667\n",
      "\n",
      "Epoch 00021: val_accuracy did not improve from 0.62917\n",
      "Epoch 22/100\n",
      "120/120 [==============================] - 404s 3s/step - loss: 0.2157 - accuracy: 0.9190 - val_loss: 0.5067 - val_accuracy: 0.5792\n",
      "\n",
      "Epoch 00022: val_accuracy did not improve from 0.62917\n",
      "Epoch 23/100\n",
      "120/120 [==============================] - 404s 3s/step - loss: 0.1983 - accuracy: 0.9201 - val_loss: 1.9476 - val_accuracy: 0.4958\n",
      "\n",
      "Epoch 00023: val_accuracy did not improve from 0.62917\n",
      "Epoch 24/100\n",
      "120/120 [==============================] - 404s 3s/step - loss: 0.1466 - accuracy: 0.9453 - val_loss: 1.4625 - val_accuracy: 0.5667\n",
      "\n",
      "Epoch 00024: val_accuracy did not improve from 0.62917\n",
      "Epoch 25/100\n",
      "120/120 [==============================] - 404s 3s/step - loss: 0.1574 - accuracy: 0.9409 - val_loss: 1.8882 - val_accuracy: 0.5500\n",
      "\n",
      "Epoch 00025: val_accuracy did not improve from 0.62917\n",
      "Epoch 26/100\n",
      "120/120 [==============================] - 404s 3s/step - loss: 0.1131 - accuracy: 0.9599 - val_loss: 0.6742 - val_accuracy: 0.5708\n",
      "\n",
      "Epoch 00026: val_accuracy did not improve from 0.62917\n",
      "Epoch 27/100\n",
      "120/120 [==============================] - 404s 3s/step - loss: 0.1078 - accuracy: 0.9594 - val_loss: 0.7015 - val_accuracy: 0.5792\n",
      "\n",
      "Epoch 00027: val_accuracy did not improve from 0.62917\n",
      "Epoch 28/100\n",
      "120/120 [==============================] - 404s 3s/step - loss: 0.0868 - accuracy: 0.9680 - val_loss: 2.1928 - val_accuracy: 0.5167\n",
      "\n",
      "Epoch 00028: val_accuracy did not improve from 0.62917\n",
      "Epoch 29/100\n",
      "120/120 [==============================] - 403s 3s/step - loss: 0.0827 - accuracy: 0.9682 - val_loss: 2.4746 - val_accuracy: 0.5708\n",
      "\n",
      "Epoch 00029: val_accuracy did not improve from 0.62917\n",
      "Epoch 30/100\n",
      "120/120 [==============================] - 404s 3s/step - loss: 0.0833 - accuracy: 0.9685 - val_loss: 2.6518 - val_accuracy: 0.5333\n",
      "\n",
      "Epoch 00030: val_accuracy did not improve from 0.62917\n",
      "Epoch 31/100\n",
      "120/120 [==============================] - 404s 3s/step - loss: 0.0612 - accuracy: 0.9779 - val_loss: 0.9899 - val_accuracy: 0.6083\n",
      "\n",
      "Epoch 00031: val_accuracy did not improve from 0.62917\n",
      "Epoch 32/100\n",
      "120/120 [==============================] - 404s 3s/step - loss: 0.0556 - accuracy: 0.9794 - val_loss: 0.1494 - val_accuracy: 0.6250\n",
      "\n",
      "Epoch 00032: val_accuracy did not improve from 0.62917\n",
      "Epoch 33/100\n",
      "120/120 [==============================] - 404s 3s/step - loss: 0.0644 - accuracy: 0.9792 - val_loss: 2.9243 - val_accuracy: 0.5333\n",
      "\n",
      "Epoch 00033: val_accuracy did not improve from 0.62917\n",
      "Epoch 34/100\n",
      "120/120 [==============================] - 403s 3s/step - loss: 0.0524 - accuracy: 0.9831 - val_loss: 3.1389 - val_accuracy: 0.5875\n",
      "\n",
      "Epoch 00034: val_accuracy did not improve from 0.62917\n",
      "Epoch 35/100\n",
      "120/120 [==============================] - 404s 3s/step - loss: 0.0547 - accuracy: 0.9797 - val_loss: 3.2711 - val_accuracy: 0.4625\n",
      "\n",
      "Epoch 00035: val_accuracy did not improve from 0.62917\n",
      "Epoch 36/100\n",
      "120/120 [==============================] - 404s 3s/step - loss: 0.0507 - accuracy: 0.9828 - val_loss: 0.9767 - val_accuracy: 0.6000\n",
      "\n",
      "Epoch 00036: val_accuracy did not improve from 0.62917\n",
      "Epoch 37/100\n",
      "120/120 [==============================] - 404s 3s/step - loss: 0.0374 - accuracy: 0.9875 - val_loss: 3.1874 - val_accuracy: 0.5708\n",
      "\n",
      "Epoch 00037: val_accuracy did not improve from 0.62917\n",
      "Epoch 38/100\n",
      "120/120 [==============================] - 403s 3s/step - loss: 0.0360 - accuracy: 0.9880 - val_loss: 1.3624 - val_accuracy: 0.5875\n",
      "\n",
      "Epoch 00038: val_accuracy did not improve from 0.62917\n",
      "Epoch 39/100\n",
      "120/120 [==============================] - 404s 3s/step - loss: 0.0387 - accuracy: 0.9875 - val_loss: 1.9525 - val_accuracy: 0.5417\n",
      "\n",
      "Epoch 00039: val_accuracy did not improve from 0.62917\n",
      "Epoch 40/100\n",
      "120/120 [==============================] - 405s 3s/step - loss: 0.0360 - accuracy: 0.9854 - val_loss: 1.1037 - val_accuracy: 0.5792\n",
      "\n",
      "Epoch 00040: val_accuracy did not improve from 0.62917\n",
      "Epoch 41/100\n",
      "120/120 [==============================] - 405s 3s/step - loss: 0.0498 - accuracy: 0.9826 - val_loss: 0.8568 - val_accuracy: 0.6292\n",
      "\n",
      "Epoch 00041: val_accuracy did not improve from 0.62917\n",
      "Epoch 42/100\n",
      "120/120 [==============================] - 404s 3s/step - loss: 0.0442 - accuracy: 0.9852 - val_loss: 1.8874 - val_accuracy: 0.5500\n",
      "\n",
      "Epoch 00042: val_accuracy did not improve from 0.62917\n",
      "Epoch 43/100\n",
      "120/120 [==============================] - 404s 3s/step - loss: 0.0204 - accuracy: 0.9945 - val_loss: 1.5707 - val_accuracy: 0.5500\n",
      "\n",
      "Epoch 00043: val_accuracy did not improve from 0.62917\n",
      "Epoch 44/100\n",
      "120/120 [==============================] - 405s 3s/step - loss: 0.0325 - accuracy: 0.9906 - val_loss: 2.6600 - val_accuracy: 0.5500\n",
      "\n",
      "Epoch 00044: val_accuracy did not improve from 0.62917\n",
      "Epoch 45/100\n",
      "120/120 [==============================] - 404s 3s/step - loss: 0.0349 - accuracy: 0.9883 - val_loss: 2.5539 - val_accuracy: 0.5125\n",
      "\n",
      "Epoch 00045: val_accuracy did not improve from 0.62917\n",
      "Epoch 46/100\n",
      "120/120 [==============================] - 404s 3s/step - loss: 0.0248 - accuracy: 0.9943 - val_loss: 1.1885 - val_accuracy: 0.5583\n",
      "\n",
      "Epoch 00046: val_accuracy did not improve from 0.62917\n",
      "Epoch 47/100\n",
      "120/120 [==============================] - 404s 3s/step - loss: 0.0257 - accuracy: 0.9904 - val_loss: 1.0341 - val_accuracy: 0.5917\n",
      "\n",
      "Epoch 00047: val_accuracy did not improve from 0.62917\n",
      "Epoch 48/100\n",
      "120/120 [==============================] - 405s 3s/step - loss: 0.0365 - accuracy: 0.9862 - val_loss: 1.2646 - val_accuracy: 0.5625\n",
      "\n",
      "Epoch 00048: val_accuracy did not improve from 0.62917\n",
      "Epoch 49/100\n",
      "120/120 [==============================] - 405s 3s/step - loss: 0.0215 - accuracy: 0.9914 - val_loss: 2.5811 - val_accuracy: 0.5458\n",
      "\n",
      "Epoch 00049: val_accuracy did not improve from 0.62917\n",
      "Epoch 50/100\n",
      "120/120 [==============================] - 404s 3s/step - loss: 0.0233 - accuracy: 0.9922 - val_loss: 2.4019 - val_accuracy: 0.5458\n",
      "\n",
      "Epoch 00050: val_accuracy did not improve from 0.62917\n",
      "Epoch 51/100\n",
      "120/120 [==============================] - 404s 3s/step - loss: 0.0258 - accuracy: 0.9896 - val_loss: 1.6848 - val_accuracy: 0.5625\n",
      "\n",
      "Epoch 00051: val_accuracy did not improve from 0.62917\n",
      "Epoch 52/100\n",
      "120/120 [==============================] - 404s 3s/step - loss: 0.0266 - accuracy: 0.9911 - val_loss: 2.3927 - val_accuracy: 0.5542\n",
      "\n",
      "Epoch 00052: val_accuracy did not improve from 0.62917\n",
      "Epoch 53/100\n",
      "120/120 [==============================] - 404s 3s/step - loss: 0.0355 - accuracy: 0.9878 - val_loss: 2.3229 - val_accuracy: 0.5000\n",
      "\n",
      "Epoch 00053: val_accuracy did not improve from 0.62917\n",
      "Epoch 54/100\n",
      "120/120 [==============================] - 405s 3s/step - loss: 0.0315 - accuracy: 0.9904 - val_loss: 3.4147 - val_accuracy: 0.5583\n",
      "\n",
      "Epoch 00054: val_accuracy did not improve from 0.62917\n",
      "Epoch 55/100\n",
      "120/120 [==============================] - 405s 3s/step - loss: 0.0269 - accuracy: 0.9917 - val_loss: 3.2346 - val_accuracy: 0.5875\n",
      "\n",
      "Epoch 00055: val_accuracy did not improve from 0.62917\n",
      "Epoch 56/100\n",
      "120/120 [==============================] - 404s 3s/step - loss: 0.0193 - accuracy: 0.9943 - val_loss: 1.1549 - val_accuracy: 0.5917\n",
      "\n",
      "Epoch 00056: val_accuracy did not improve from 0.62917\n",
      "Epoch 57/100\n",
      "120/120 [==============================] - 404s 3s/step - loss: 0.0286 - accuracy: 0.9914 - val_loss: 3.2233 - val_accuracy: 0.5375\n",
      "\n",
      "Epoch 00057: val_accuracy did not improve from 0.62917\n",
      "Epoch 58/100\n",
      "120/120 [==============================] - 404s 3s/step - loss: 0.0236 - accuracy: 0.9906 - val_loss: 1.9980 - val_accuracy: 0.5292\n",
      "\n",
      "Epoch 00058: val_accuracy did not improve from 0.62917\n",
      "Epoch 59/100\n",
      "120/120 [==============================] - 404s 3s/step - loss: 0.0198 - accuracy: 0.9937 - val_loss: 3.3641 - val_accuracy: 0.4917\n",
      "\n",
      "Epoch 00059: val_accuracy did not improve from 0.62917\n",
      "Epoch 60/100\n",
      "120/120 [==============================] - 404s 3s/step - loss: 0.0299 - accuracy: 0.9885 - val_loss: 3.1124 - val_accuracy: 0.4875\n",
      "\n",
      "Epoch 00060: val_accuracy did not improve from 0.62917\n",
      "Epoch 61/100\n",
      "120/120 [==============================] - 404s 3s/step - loss: 0.0204 - accuracy: 0.9930 - val_loss: 0.3967 - val_accuracy: 0.5708\n",
      "\n",
      "Epoch 00061: val_accuracy did not improve from 0.62917\n",
      "Epoch 62/100\n",
      "120/120 [==============================] - 405s 3s/step - loss: 0.0239 - accuracy: 0.9914 - val_loss: 2.5479 - val_accuracy: 0.5458\n",
      "\n",
      "Epoch 00062: val_accuracy did not improve from 0.62917\n",
      "Epoch 63/100\n",
      "120/120 [==============================] - 404s 3s/step - loss: 0.0250 - accuracy: 0.9917 - val_loss: 2.9402 - val_accuracy: 0.5542\n",
      "\n",
      "Epoch 00063: val_accuracy did not improve from 0.62917\n",
      "Epoch 64/100\n",
      "120/120 [==============================] - 404s 3s/step - loss: 0.0121 - accuracy: 0.9966 - val_loss: 4.6755 - val_accuracy: 0.5792\n",
      "\n",
      "Epoch 00064: val_accuracy did not improve from 0.62917\n",
      "Epoch 65/100\n",
      "120/120 [==============================] - 404s 3s/step - loss: 0.0118 - accuracy: 0.9964 - val_loss: 3.7427 - val_accuracy: 0.5542\n",
      "\n",
      "Epoch 00065: val_accuracy did not improve from 0.62917\n",
      "Epoch 66/100\n",
      "120/120 [==============================] - 404s 3s/step - loss: 0.0233 - accuracy: 0.9935 - val_loss: 1.6494 - val_accuracy: 0.5708\n",
      "\n",
      "Epoch 00066: val_accuracy did not improve from 0.62917\n",
      "Epoch 67/100\n",
      "120/120 [==============================] - 404s 3s/step - loss: 0.0195 - accuracy: 0.9917 - val_loss: 3.3790 - val_accuracy: 0.5625\n",
      "\n",
      "Epoch 00067: val_accuracy did not improve from 0.62917\n",
      "Epoch 68/100\n",
      "120/120 [==============================] - 404s 3s/step - loss: 0.0142 - accuracy: 0.9945 - val_loss: 2.6162 - val_accuracy: 0.5833\n",
      "\n",
      "Epoch 00068: val_accuracy did not improve from 0.62917\n",
      "Epoch 69/100\n",
      "120/120 [==============================] - 405s 3s/step - loss: 0.0139 - accuracy: 0.9951 - val_loss: 5.9616 - val_accuracy: 0.5917\n",
      "\n",
      "Epoch 00069: val_accuracy did not improve from 0.62917\n",
      "Epoch 70/100\n",
      "120/120 [==============================] - 404s 3s/step - loss: 0.0163 - accuracy: 0.9940 - val_loss: 2.6035 - val_accuracy: 0.5292\n",
      "\n",
      "Epoch 00070: val_accuracy did not improve from 0.62917\n",
      "Epoch 71/100\n",
      "120/120 [==============================] - 404s 3s/step - loss: 0.0153 - accuracy: 0.9945 - val_loss: 1.0032 - val_accuracy: 0.5958\n",
      "\n",
      "Epoch 00071: val_accuracy did not improve from 0.62917\n",
      "Epoch 72/100\n",
      "120/120 [==============================] - 404s 3s/step - loss: 0.0102 - accuracy: 0.9964 - val_loss: 1.8858 - val_accuracy: 0.5958\n",
      "\n",
      "Epoch 00072: val_accuracy did not improve from 0.62917\n",
      "Epoch 73/100\n",
      "120/120 [==============================] - 404s 3s/step - loss: 0.0100 - accuracy: 0.9964 - val_loss: 1.8623 - val_accuracy: 0.5125\n",
      "\n",
      "Epoch 00073: val_accuracy did not improve from 0.62917\n",
      "Epoch 74/100\n",
      "120/120 [==============================] - 404s 3s/step - loss: 0.0107 - accuracy: 0.9958 - val_loss: 4.0227 - val_accuracy: 0.5167\n",
      "\n",
      "Epoch 00074: val_accuracy did not improve from 0.62917\n",
      "Epoch 75/100\n",
      "120/120 [==============================] - 404s 3s/step - loss: 0.0163 - accuracy: 0.9961 - val_loss: 2.5063 - val_accuracy: 0.5125\n",
      "\n",
      "Epoch 00075: val_accuracy did not improve from 0.62917\n",
      "Epoch 76/100\n",
      "120/120 [==============================] - 405s 3s/step - loss: 0.0133 - accuracy: 0.9958 - val_loss: 2.0240 - val_accuracy: 0.5625\n",
      "\n",
      "Epoch 00076: val_accuracy did not improve from 0.62917\n",
      "Epoch 77/100\n",
      "120/120 [==============================] - 405s 3s/step - loss: 0.0116 - accuracy: 0.9961 - val_loss: 1.3715 - val_accuracy: 0.5792\n",
      "\n",
      "Epoch 00077: val_accuracy did not improve from 0.62917\n",
      "Epoch 78/100\n",
      "120/120 [==============================] - 404s 3s/step - loss: 0.0081 - accuracy: 0.9969 - val_loss: 2.9134 - val_accuracy: 0.5667\n",
      "\n",
      "Epoch 00078: val_accuracy did not improve from 0.62917\n",
      "Epoch 79/100\n",
      "120/120 [==============================] - 404s 3s/step - loss: 0.0140 - accuracy: 0.9953 - val_loss: 3.5233 - val_accuracy: 0.5500\n",
      "\n",
      "Epoch 00079: val_accuracy did not improve from 0.62917\n",
      "Epoch 80/100\n",
      "120/120 [==============================] - 404s 3s/step - loss: 0.0148 - accuracy: 0.9951 - val_loss: 1.6648 - val_accuracy: 0.5417\n",
      "\n",
      "Epoch 00080: val_accuracy did not improve from 0.62917\n",
      "Epoch 81/100\n",
      "120/120 [==============================] - 404s 3s/step - loss: 0.0098 - accuracy: 0.9953 - val_loss: 2.1136 - val_accuracy: 0.5458\n",
      "\n",
      "Epoch 00081: val_accuracy did not improve from 0.62917\n",
      "Epoch 82/100\n",
      "120/120 [==============================] - 404s 3s/step - loss: 0.0119 - accuracy: 0.9956 - val_loss: 1.9125 - val_accuracy: 0.6042\n",
      "\n",
      "Epoch 00082: val_accuracy did not improve from 0.62917\n",
      "Epoch 83/100\n",
      "120/120 [==============================] - 404s 3s/step - loss: 0.0116 - accuracy: 0.9958 - val_loss: 2.8228 - val_accuracy: 0.5417\n",
      "\n",
      "Epoch 00083: val_accuracy did not improve from 0.62917\n",
      "Epoch 84/100\n",
      "120/120 [==============================] - 404s 3s/step - loss: 0.0106 - accuracy: 0.9969 - val_loss: 2.9624 - val_accuracy: 0.5667\n",
      "\n",
      "Epoch 00084: val_accuracy did not improve from 0.62917\n",
      "Epoch 85/100\n",
      "120/120 [==============================] - 405s 3s/step - loss: 0.0145 - accuracy: 0.9958 - val_loss: 2.6273 - val_accuracy: 0.5125\n",
      "\n",
      "Epoch 00085: val_accuracy did not improve from 0.62917\n",
      "Epoch 86/100\n",
      "120/120 [==============================] - 404s 3s/step - loss: 0.0100 - accuracy: 0.9958 - val_loss: 0.7018 - val_accuracy: 0.6000\n",
      "\n",
      "Epoch 00086: val_accuracy did not improve from 0.62917\n",
      "Epoch 87/100\n",
      "120/120 [==============================] - 405s 3s/step - loss: 0.0090 - accuracy: 0.9982 - val_loss: 2.5711 - val_accuracy: 0.5792\n",
      "\n",
      "Epoch 00087: val_accuracy did not improve from 0.62917\n",
      "Epoch 88/100\n",
      "120/120 [==============================] - 404s 3s/step - loss: 0.0161 - accuracy: 0.9945 - val_loss: 2.7825 - val_accuracy: 0.5542\n",
      "\n",
      "Epoch 00088: val_accuracy did not improve from 0.62917\n",
      "Epoch 89/100\n",
      "120/120 [==============================] - 404s 3s/step - loss: 0.0055 - accuracy: 0.9987 - val_loss: 3.0339 - val_accuracy: 0.5250\n",
      "\n",
      "Epoch 00089: val_accuracy did not improve from 0.62917\n",
      "Epoch 90/100\n",
      "120/120 [==============================] - 404s 3s/step - loss: 0.0087 - accuracy: 0.9969 - val_loss: 2.7068 - val_accuracy: 0.5292\n",
      "\n",
      "Epoch 00090: val_accuracy did not improve from 0.62917\n",
      "Epoch 91/100\n",
      "120/120 [==============================] - 404s 3s/step - loss: 0.0108 - accuracy: 0.9964 - val_loss: 2.6329 - val_accuracy: 0.5917\n",
      "\n",
      "Epoch 00091: val_accuracy did not improve from 0.62917\n",
      "Epoch 92/100\n",
      "120/120 [==============================] - 404s 3s/step - loss: 0.0085 - accuracy: 0.9969 - val_loss: 2.5997 - val_accuracy: 0.6208\n",
      "\n",
      "Epoch 00092: val_accuracy did not improve from 0.62917\n",
      "Epoch 93/100\n",
      "120/120 [==============================] - 404s 3s/step - loss: 0.0121 - accuracy: 0.9961 - val_loss: 2.8639 - val_accuracy: 0.5750\n",
      "\n",
      "Epoch 00093: val_accuracy did not improve from 0.62917\n",
      "Epoch 94/100\n",
      "120/120 [==============================] - 406s 3s/step - loss: 0.0055 - accuracy: 0.9982 - val_loss: 5.7842 - val_accuracy: 0.5417\n",
      "\n",
      "Epoch 00094: val_accuracy did not improve from 0.62917\n",
      "Epoch 95/100\n",
      "120/120 [==============================] - 405s 3s/step - loss: 0.0067 - accuracy: 0.9974 - val_loss: 4.3576 - val_accuracy: 0.5458\n",
      "\n",
      "Epoch 00095: val_accuracy did not improve from 0.62917\n",
      "Epoch 96/100\n",
      "120/120 [==============================] - 414s 3s/step - loss: 0.0087 - accuracy: 0.9982 - val_loss: 2.2225 - val_accuracy: 0.6292\n",
      "\n",
      "Epoch 00096: val_accuracy did not improve from 0.62917\n",
      "Epoch 97/100\n",
      "120/120 [==============================] - 413s 3s/step - loss: 0.0059 - accuracy: 0.9979 - val_loss: 1.2195 - val_accuracy: 0.5333\n",
      "\n",
      "Epoch 00097: val_accuracy did not improve from 0.62917\n",
      "Epoch 98/100\n",
      "120/120 [==============================] - 405s 3s/step - loss: 0.0105 - accuracy: 0.9971 - val_loss: 1.3711 - val_accuracy: 0.5750\n",
      "\n",
      "Epoch 00098: val_accuracy did not improve from 0.62917\n",
      "Epoch 99/100\n",
      "120/120 [==============================] - 421s 4s/step - loss: 0.0090 - accuracy: 0.9961 - val_loss: 4.7939 - val_accuracy: 0.5583\n",
      "\n",
      "Epoch 00099: val_accuracy did not improve from 0.62917\n",
      "Epoch 100/100\n",
      "120/120 [==============================] - 439s 4s/step - loss: 0.0120 - accuracy: 0.9956 - val_loss: 2.0859 - val_accuracy: 0.5375\n",
      "\n",
      "Epoch 00100: val_accuracy did not improve from 0.62917\n"
     ]
    }
   ],
   "source": [
    "#Fit model\n",
    "trainGen=generator(X_train,y_train,BATCH_SIZE*(1-TRAIN_RATIO),ROOT_IMG)\n",
    "testGen=generator(X_test,y_test,BATCH_SIZE*TRAIN_RATIO,ROOT_IMG)\n",
    "\n",
    "H = model.fit_generator(\n",
    "    trainGen,\n",
    "    steps_per_epoch=IMG_NUM*(1-TRAIN_RATIO)//BATCH_SIZE,\n",
    "    validation_data=testGen,\n",
    "    validation_steps=IMG_NUM*TRAIN_RATIO//BATCH_SIZE,\n",
    "    epochs=EPOCHS,\n",
    "    verbose=1,\n",
    "    callbacks=callbacks_list)"
   ]
  },
  {
   "cell_type": "code",
   "execution_count": 84,
   "metadata": {},
   "outputs": [],
   "source": [
    "#H.history"
   ]
  },
  {
   "cell_type": "code",
   "execution_count": 57,
   "metadata": {},
   "outputs": [
    {
     "data": {
      "image/png": "[encoded data removed]",
      "text/plain": [
       "<Figure size 432x288 with 1 Axes>"
      ]
     },
     "metadata": {
      "needs_background": "light"
     },
     "output_type": "display_data"
    },
    {
     "data": {
      "image/png": "[encoded data removed]",
      "text/plain": [
       "<Figure size 432x288 with 1 Axes>"
      ]
     },
     "metadata": {
      "needs_background": "light"
     },
     "output_type": "display_data"
    }
   ],
   "source": [
    "acc = H.history['accuracy']\n",
    "val_acc = H.history['val_accuracy']\n",
    "loss = H.history['loss']\n",
    "val_loss = H.history['val_loss']\n",
    "epochs = range(1, len(acc) + 1)\n",
    "# Train and validation accuracy\n",
    "plt.plot(epochs, acc, 'b', label='Training accuracy')\n",
    "plt.plot(epochs, val_acc, 'r', label='Validation accuracy')\n",
    "plt.title('Training and Validation accuracy')\n",
    "plt.legend()\n",
    "plt.figure()\n",
    "# Train and validation loss\n",
    "plt.plot(epochs, loss, 'b', label='Training loss')\n",
    "plt.plot(epochs, val_loss, 'r', label='Validation loss')\n",
    "plt.title('Training and Validation loss')\n",
    "plt.legend()\n",
    "plt.show()"
   ]
  },
  {
   "cell_type": "code",
   "execution_count": 58,
   "metadata": {},
   "outputs": [],
   "source": [
    "testGen=generator(X_test,y_test,BATCH_SIZE,ROOT_IMG,mode=\"eval\")"
   ]
  },
  {
   "cell_type": "code",
   "execution_count": 59,
   "metadata": {},
   "outputs": [
    {
     "name": "stdout",
     "output_type": "stream",
     "text": [
      "30/30 [==============================] - 31s 1s/step\n"
     ]
    }
   ],
   "source": [
    "predIdxs = model.predict_generator(testGen,steps=IMG_NUM*TRAIN_RATIO//BATCH_SIZE,verbose=1)"
   ]
  },
  {
   "cell_type": "code",
   "execution_count": 60,
   "metadata": {},
   "outputs": [
    {
     "data": {
      "text/plain": [
       "array([[9.97581720e-01, 2.41829199e-03],\n",
       "       [1.00000000e+00, 8.73045358e-10],\n",
       "       [9.66567934e-01, 3.34320553e-02],\n",
       "       ...,\n",
       "       [3.23190754e-08, 1.00000000e+00],\n",
       "       [9.99997616e-01, 2.33189212e-06],\n",
       "       [1.24714516e-01, 8.75285447e-01]], dtype=float32)"
      ]
     },
     "execution_count": 60,
     "metadata": {},
     "output_type": "execute_result"
    }
   ],
   "source": [
    "predIdxs"
   ]
  },
  {
   "cell_type": "code",
   "execution_count": 63,
   "metadata": {},
   "outputs": [],
   "source": [
    "predIdxs_2 = np.argmax(predIdxs, axis=1)"
   ]
  },
  {
   "cell_type": "code",
   "execution_count": 64,
   "metadata": {},
   "outputs": [
    {
     "data": {
      "text/plain": [
       "array([0, 0, 0, ..., 1, 0, 1])"
      ]
     },
     "execution_count": 64,
     "metadata": {},
     "output_type": "execute_result"
    }
   ],
   "source": [
    "predIdxs_2"
   ]
  },
  {
   "cell_type": "code",
   "execution_count": 66,
   "metadata": {},
   "outputs": [
    {
     "data": {
      "text/plain": [
       "array([0, 0, 1, ..., 1, 0, 1])"
      ]
     },
     "execution_count": 66,
     "metadata": {},
     "output_type": "execute_result"
    }
   ],
   "source": [
    "y_test.values"
   ]
  },
  {
   "cell_type": "code",
   "execution_count": 67,
   "metadata": {},
   "outputs": [
    {
     "data": {
      "text/plain": [
       "'\\nscores = model.evaluate(X_test, y_test, verbose=0)\\nprint(\"Accuracy: %.2f%%\" % (scores[1]*100))\\nprint(\\'Test loss:\\', scores[0])\\nprint(\\'Test accuracy:\\', scores[1])\\n'"
      ]
     },
     "execution_count": 67,
     "metadata": {},
     "output_type": "execute_result"
    }
   ],
   "source": [
    "\"\"\"\n",
    "scores = model.evaluate(X_test, y_test, verbose=0)\n",
    "print(\"Accuracy: %.2f%%\" % (scores[1]*100))\n",
    "print('Test loss:', scores[0])\n",
    "print('Test accuracy:', scores[1])\n",
    "\"\"\""
   ]
  },
  {
   "cell_type": "code",
   "execution_count": 91,
   "metadata": {},
   "outputs": [
    {
     "data": {
      "text/html": [
       "<div>\n",
       "<style scoped>\n",
       "    .dataframe tbody tr th:only-of-type {\n",
       "        vertical-align: middle;\n",
       "    }\n",
       "\n",
       "    .dataframe tbody tr th {\n",
       "        vertical-align: top;\n",
       "    }\n",
       "\n",
       "    .dataframe thead th {\n",
       "        text-align: right;\n",
       "    }\n",
       "</style>\n",
       "<table border=\"1\" class=\"dataframe\">\n",
       "  <thead>\n",
       "    <tr style=\"text-align: right;\">\n",
       "      <th></th>\n",
       "      <th>gt</th>\n",
       "      <th>predicted</th>\n",
       "      <th>proba MSI</th>\n",
       "      <th>proba MSS</th>\n",
       "    </tr>\n",
       "  </thead>\n",
       "  <tbody>\n",
       "    <tr>\n",
       "      <th>0</th>\n",
       "      <td>0</td>\n",
       "      <td>0</td>\n",
       "      <td>0.997582</td>\n",
       "      <td>2.418292e-03</td>\n",
       "    </tr>\n",
       "    <tr>\n",
       "      <th>1</th>\n",
       "      <td>0</td>\n",
       "      <td>0</td>\n",
       "      <td>1.000000</td>\n",
       "      <td>8.730454e-10</td>\n",
       "    </tr>\n",
       "    <tr>\n",
       "      <th>2</th>\n",
       "      <td>1</td>\n",
       "      <td>0</td>\n",
       "      <td>0.966568</td>\n",
       "      <td>3.343206e-02</td>\n",
       "    </tr>\n",
       "    <tr>\n",
       "      <th>3</th>\n",
       "      <td>0</td>\n",
       "      <td>1</td>\n",
       "      <td>0.292470</td>\n",
       "      <td>7.075297e-01</td>\n",
       "    </tr>\n",
       "    <tr>\n",
       "      <th>4</th>\n",
       "      <td>1</td>\n",
       "      <td>1</td>\n",
       "      <td>0.258632</td>\n",
       "      <td>7.413682e-01</td>\n",
       "    </tr>\n",
       "  </tbody>\n",
       "</table>\n",
       "</div>"
      ],
      "text/plain": [
       "   gt  predicted  proba MSI     proba MSS\n",
       "0   0          0   0.997582  2.418292e-03\n",
       "1   0          0   1.000000  8.730454e-10\n",
       "2   1          0   0.966568  3.343206e-02\n",
       "3   0          1   0.292470  7.075297e-01\n",
       "4   1          1   0.258632  7.413682e-01"
      ]
     },
     "metadata": {},
     "output_type": "display_data"
    },
    {
     "data": {
      "text/plain": [
       "<matplotlib.legend.Legend at 0x7feb5a1d0490>"
      ]
     },
     "execution_count": 91,
     "metadata": {},
     "output_type": "execute_result"
    },
    {
     "data": {
      "image/png": "[encoded data removed]",
      "text/plain": [
       "<Figure size 432x288 with 1 Axes>"
      ]
     },
     "metadata": {},
     "output_type": "display_data"
    }
   ],
   "source": [
    "#print(y_score)\n",
    "roc = roc_curve(y_test.values, predIdxs_2)\n",
    "display(pd.DataFrame({\n",
    "    \"gt\":y_test.values,\n",
    "    \"predicted\":predIdxs_2,\n",
    "    \"proba MSI\":predIdxs[:,0],\n",
    "    \"proba MSS\":predIdxs[:,1]\n",
    "}).head())\n",
    "\n",
    "plt.plot(roc[0],roc[1])\n",
    "plt.legend([\"AUC: {}\".format(round(roc_auc_score(y_test.values, predIdxs[:,1]),2))])"
   ]
  },
  {
   "cell_type": "code",
   "execution_count": 106,
   "metadata": {},
   "outputs": [
    {
     "data": {
      "image/png": "[encoded data removed]",
      "text/plain": [
       "<Figure size 504x360 with 2 Axes>"
      ]
     },
     "metadata": {},
     "output_type": "display_data"
    }
   ],
   "source": [
    "cm = confusion_matrix(y_test.values, predIdxs_2)\n",
    "\n",
    "# Visualiamos la matriz de confusión\n",
    "cm_df = pd.DataFrame(cm)  \n",
    "plt.figure(figsize = (7,5))  \n",
    "#sn.set(font_scale=1) #for label size  \n",
    "sn.heatmap(cm_df, annot=True, annot_kws={\"size\": 12}, fmt=\"d\", xticklabels =[\"MSI\",\"MSS\"], yticklabels=[\"MSI\",\"MSS\"]) # font size  \n",
    "plt.yticks(rotation=0) \n",
    "plt.show() "
   ]
  },
  {
   "cell_type": "code",
   "execution_count": 75,
   "metadata": {},
   "outputs": [
    {
     "data": {
      "text/plain": [
       "array([[271, 293],\n",
       "       [219, 417]])"
      ]
     },
     "execution_count": 75,
     "metadata": {},
     "output_type": "execute_result"
    }
   ],
   "source": [
    "cm"
   ]
  },
  {
   "cell_type": "code",
   "execution_count": null,
   "metadata": {},
   "outputs": [],
   "source": [
    "\"\"\"\n",
    "def confusion_matrix(model_dir,weights_dir):\n",
    "    '''Creates the confusion matrix'''\n",
    "\n",
    "    #perform a new test\n",
    "    x_train, x_test, y_train, y_test = train_test_split(np_image_list,image_labels, test_size=0.2, random_state=42)\n",
    "    # load json and create model\n",
    "    json_file = open(model_dir, 'r')\n",
    "    loaded_model_json = json_file.read()\n",
    "    json_file.close()\n",
    "    loaded_model = model_from_json(loaded_model_json)\n",
    "    # load weights into new model\n",
    "    loaded_model.load_weights(weights_dir)\n",
    "    print(\"Loaded model from disk\")\n",
    "\n",
    "    Y_pred = loaded_model.predict(x_test)\n",
    "    Y_true = y_test\n",
    "    Y_pred = loaded_model.predict(x_test)\n",
    "    # Convert predictions classes to one hot vectors \n",
    "    Y_pred_classes = np.argmax(Y_pred,axis = 1) \n",
    "    # Convert validation observations to one hot vectors\n",
    "    print(Y_pred_classes)\n",
    "    Y_true = np.argmax(y_test,axis = 1)\n",
    "    print(Y_true)\n",
    "    # compute the confusion matrix\n",
    "    cm = confusion_matrix(Y_true, Y_pred_classes)\n",
    "    cm = cm.astype('float') / cm.sum(axis=1)[:, np.newaxis]\n",
    "    # plot the confusion matrix\n",
    "    f,ax = plt.subplots(figsize=(8, 8))\n",
    "    sns.heatmap(cm, annot=True, linewidths=0.01,cmap=\"Greens\",linecolor=\"gray\", fmt= '.1f',ax=ax)\n",
    "    plt.xlabel(\"Predicted Label\")\n",
    "    plt.ylabel(\"True Label\")\n",
    "    plt.title(\"Confusion Matrix\")\n",
    "    plt.show()\n",
    "\"\"\""
   ]
  }
 ],
 "metadata": {
  "kernelspec": {
   "display_name": "Python 3",
   "language": "python",
   "name": "python3"
  },
  "language_info": {
   "codemirror_mode": {
    "name": "ipython",
    "version": 3
   },
   "file_extension": ".py",
   "mimetype": "text/x-python",
   "name": "python",
   "nbconvert_exporter": "python",
   "pygments_lexer": "ipython3",
   "version": "3.7.5"
  }
 },
 "nbformat": 4,
 "nbformat_minor": 4
}
