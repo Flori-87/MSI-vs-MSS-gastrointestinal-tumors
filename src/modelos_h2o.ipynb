{
 "cells": [
  {
   "cell_type": "code",
   "execution_count": 21,
   "metadata": {},
   "outputs": [
    {
     "name": "stdout",
     "output_type": "stream",
     "text": [
      "Checking whether there is an H2O instance running at http://localhost:54321 . connected.\n"
     ]
    },
    {
     "data": {
      "text/html": [
       "<div style=\"overflow:auto\"><table style=\"width:50%\"><tr><td>H2O_cluster_uptime:</td>\n",
       "<td>41 mins 02 secs</td></tr>\n",
       "<tr><td>H2O_cluster_timezone:</td>\n",
       "<td>Europe/Madrid</td></tr>\n",
       "<tr><td>H2O_data_parsing_timezone:</td>\n",
       "<td>UTC</td></tr>\n",
       "<tr><td>H2O_cluster_version:</td>\n",
       "<td>3.30.0.2</td></tr>\n",
       "<tr><td>H2O_cluster_version_age:</td>\n",
       "<td>14 days, 18 hours and 46 minutes </td></tr>\n",
       "<tr><td>H2O_cluster_name:</td>\n",
       "<td>H2O_from_python_flori_quyviq</td></tr>\n",
       "<tr><td>H2O_cluster_total_nodes:</td>\n",
       "<td>1</td></tr>\n",
       "<tr><td>H2O_cluster_free_memory:</td>\n",
       "<td>3.562 Gb</td></tr>\n",
       "<tr><td>H2O_cluster_total_cores:</td>\n",
       "<td>8</td></tr>\n",
       "<tr><td>H2O_cluster_allowed_cores:</td>\n",
       "<td>8</td></tr>\n",
       "<tr><td>H2O_cluster_status:</td>\n",
       "<td>locked, healthy</td></tr>\n",
       "<tr><td>H2O_connection_url:</td>\n",
       "<td>http://localhost:54321</td></tr>\n",
       "<tr><td>H2O_connection_proxy:</td>\n",
       "<td>{\"http\": null, \"https\": null}</td></tr>\n",
       "<tr><td>H2O_internal_security:</td>\n",
       "<td>False</td></tr>\n",
       "<tr><td>H2O_API_Extensions:</td>\n",
       "<td>Amazon S3, XGBoost, Algos, AutoML, Core V3, TargetEncoder, Core V4</td></tr>\n",
       "<tr><td>Python_version:</td>\n",
       "<td>3.7.5 final</td></tr></table></div>"
      ],
      "text/plain": [
       "--------------------------  ------------------------------------------------------------------\n",
       "H2O_cluster_uptime:         41 mins 02 secs\n",
       "H2O_cluster_timezone:       Europe/Madrid\n",
       "H2O_data_parsing_timezone:  UTC\n",
       "H2O_cluster_version:        3.30.0.2\n",
       "H2O_cluster_version_age:    14 days, 18 hours and 46 minutes\n",
       "H2O_cluster_name:           H2O_from_python_flori_quyviq\n",
       "H2O_cluster_total_nodes:    1\n",
       "H2O_cluster_free_memory:    3.562 Gb\n",
       "H2O_cluster_total_cores:    8\n",
       "H2O_cluster_allowed_cores:  8\n",
       "H2O_cluster_status:         locked, healthy\n",
       "H2O_connection_url:         http://localhost:54321\n",
       "H2O_connection_proxy:       {\"http\": null, \"https\": null}\n",
       "H2O_internal_security:      False\n",
       "H2O_API_Extensions:         Amazon S3, XGBoost, Algos, AutoML, Core V3, TargetEncoder, Core V4\n",
       "Python_version:             3.7.5 final\n",
       "--------------------------  ------------------------------------------------------------------"
      ]
     },
     "metadata": {},
     "output_type": "display_data"
    }
   ],
   "source": [
    "import pandas as pd\n",
    "from sklearn.model_selection import train_test_split\n",
    "import h2o\n",
    "from h2o.automl import H2OAutoML\n",
    "h2o.init()"
   ]
  },
  {
   "cell_type": "code",
   "execution_count": 71,
   "metadata": {},
   "outputs": [],
   "source": [
    "subset = pd.read_pickle(\"../output/final_subset_BnW.pkl\")"
   ]
  },
  {
   "cell_type": "code",
   "execution_count": 72,
   "metadata": {},
   "outputs": [
    {
     "data": {
      "text/plain": [
       "dtype('uint8')"
      ]
     },
     "execution_count": 72,
     "metadata": {},
     "output_type": "execute_result"
    }
   ],
   "source": [
    "subset[\"image_array\"][0].dtype"
   ]
  },
  {
   "cell_type": "code",
   "execution_count": 73,
   "metadata": {},
   "outputs": [
    {
     "name": "stdout",
     "output_type": "stream",
     "text": [
      "Parse progress: |█████████████████████████████████████████████████████████| 100%\n"
     ]
    }
   ],
   "source": [
    "train = h2o.H2OFrame(subset)"
   ]
  },
  {
   "cell_type": "code",
   "execution_count": 74,
   "metadata": {},
   "outputs": [
    {
     "data": {
      "text/html": [
       "<table>\n",
       "<thead>\n",
       "<tr><th>label  </th><th>image_array  </th></tr>\n",
       "</thead>\n",
       "<tbody>\n",
       "<tr><td>MSI    </td><td>[[154 179 144 ... 159 148 171]\n",
       " [167 155 155 ... 139 167 156]\n",
       " [142 146 179 ... 160 165 132]\n",
       " ...\n",
       " [146 168 143 ... 180 181 182]\n",
       " [160 146 147 ... 157 159 153]\n",
       " [177 154 146 ... 173 161 136]]              </td></tr>\n",
       "<tr><td>MSI    </td><td>[[160 146 134 ... 141 123 137]\n",
       " [130 146 145 ... 115 102 124]\n",
       " [ 95 125 140 ... 118 120 127]\n",
       " ...\n",
       " [104 101 114 ... 147 173 102]\n",
       " [100  78  99 ... 170 173 115]\n",
       " [ 92  80  87 ... 173 161 102]]              </td></tr>\n",
       "<tr><td>MSI    </td><td>[[246 241 236 ... 104 115 100]\n",
       " [230 241 234 ... 103 115 133]\n",
       " [199 220 214 ...  95 111 145]\n",
       " ...\n",
       " [116 104  93 ... 184 134  73]\n",
       " [ 83  73  69 ... 172 124 117]\n",
       " [ 84  82  85 ... 178 115 136]]              </td></tr>\n",
       "<tr><td>MSI    </td><td>[[123 151 178 ... 130 145 142]\n",
       " [137 109  90 ... 103 113 191]\n",
       " [143 116  87 ... 111  68 142]\n",
       " ...\n",
       " [106  73  97 ...  95  99  94]\n",
       " [108 112 123 ... 121 135 125]\n",
       " [110 117 117 ...  84 103 127]]              </td></tr>\n",
       "<tr><td>MSI    </td><td>[[128 160 172 ... 163 183 178]\n",
       " [143 170 190 ... 139 176 187]\n",
       " [145 154 193 ... 125 167 207]\n",
       " ...\n",
       " [120 114 126 ... 166 132 144]\n",
       " [120 119 127 ... 180 144 118]\n",
       " [125 144 154 ... 143 160 112]]              </td></tr>\n",
       "</tbody>\n",
       "</table>"
      ]
     },
     "metadata": {},
     "output_type": "display_data"
    },
    {
     "data": {
      "text/plain": []
     },
     "execution_count": 74,
     "metadata": {},
     "output_type": "execute_result"
    }
   ],
   "source": [
    "train.head(5)"
   ]
  },
  {
   "cell_type": "code",
   "execution_count": 75,
   "metadata": {},
   "outputs": [
    {
     "name": "stdout",
     "output_type": "stream",
     "text": [
      "Rows:2000\n",
      "Cols:2\n",
      "\n",
      "\n"
     ]
    },
    {
     "data": {
      "text/html": [
       "<table>\n",
       "<thead>\n",
       "<tr><th>       </th><th>label  </th><th>image_array  </th></tr>\n",
       "</thead>\n",
       "<tbody>\n",
       "<tr><td>type   </td><td>enum   </td><td>string       </td></tr>\n",
       "<tr><td>mins   </td><td>       </td><td>NaN          </td></tr>\n",
       "<tr><td>mean   </td><td>       </td><td>NaN          </td></tr>\n",
       "<tr><td>maxs   </td><td>       </td><td>NaN          </td></tr>\n",
       "<tr><td>sigma  </td><td>       </td><td>NaN          </td></tr>\n",
       "<tr><td>zeros  </td><td>       </td><td>0            </td></tr>\n",
       "<tr><td>missing</td><td>0      </td><td>0            </td></tr>\n",
       "<tr><td>0      </td><td>MSI    </td><td>[[154 179 144 ... 159 148 171]\n",
       " [167 155 155 ... 139 167 156]\n",
       " [142 146 179 ... 160 165 132]\n",
       " ...\n",
       " [146 168 143 ... 180 181 182]\n",
       " [160 146 147 ... 157 159 153]\n",
       " [177 154 146 ... 173 161 136]]              </td></tr>\n",
       "<tr><td>1      </td><td>MSI    </td><td>[[160 146 134 ... 141 123 137]\n",
       " [130 146 145 ... 115 102 124]\n",
       " [ 95 125 140 ... 118 120 127]\n",
       " ...\n",
       " [104 101 114 ... 147 173 102]\n",
       " [100  78  99 ... 170 173 115]\n",
       " [ 92  80  87 ... 173 161 102]]              </td></tr>\n",
       "<tr><td>2      </td><td>MSI    </td><td>[[246 241 236 ... 104 115 100]\n",
       " [230 241 234 ... 103 115 133]\n",
       " [199 220 214 ...  95 111 145]\n",
       " ...\n",
       " [116 104  93 ... 184 134  73]\n",
       " [ 83  73  69 ... 172 124 117]\n",
       " [ 84  82  85 ... 178 115 136]]              </td></tr>\n",
       "<tr><td>3      </td><td>MSI    </td><td>[[123 151 178 ... 130 145 142]\n",
       " [137 109  90 ... 103 113 191]\n",
       " [143 116  87 ... 111  68 142]\n",
       " ...\n",
       " [106  73  97 ...  95  99  94]\n",
       " [108 112 123 ... 121 135 125]\n",
       " [110 117 117 ...  84 103 127]]              </td></tr>\n",
       "<tr><td>4      </td><td>MSI    </td><td>[[128 160 172 ... 163 183 178]\n",
       " [143 170 190 ... 139 176 187]\n",
       " [145 154 193 ... 125 167 207]\n",
       " ...\n",
       " [120 114 126 ... 166 132 144]\n",
       " [120 119 127 ... 180 144 118]\n",
       " [125 144 154 ... 143 160 112]]              </td></tr>\n",
       "<tr><td>5      </td><td>MSI    </td><td>[[243 247 240 ... 129 115 118]\n",
       " [241 238 245 ... 120 118 105]\n",
       " [242 249 248 ... 139 120  99]\n",
       " ...\n",
       " [ 95 128 165 ... 114 105 109]\n",
       " [107 133 142 ... 153 143 127]\n",
       " [126 120 107 ... 186 179 168]]              </td></tr>\n",
       "<tr><td>6      </td><td>MSI    </td><td>[[ 75  91 138 ... 244 248 247]\n",
       " [ 66 100 124 ... 245 247 248]\n",
       " [ 77 103 122 ... 246 247 249]\n",
       " ...\n",
       " [229 225 232 ... 249 250 251]\n",
       " [227 218 231 ... 248 249 251]\n",
       " [228 226 221 ... 248 249 251]]              </td></tr>\n",
       "<tr><td>7      </td><td>MSI    </td><td>[[139 155 153 ... 178 127  75]\n",
       " [131 154 154 ... 172 123  78]\n",
       " [102 124 147 ... 186 132  92]\n",
       " ...\n",
       " [ 93 101  98 ... 155 128  95]\n",
       " [101 136 140 ... 137 104  79]\n",
       " [108 146 141 ... 122  97 120]]              </td></tr>\n",
       "<tr><td>8      </td><td>MSI    </td><td>[[107  94 111 ... 113 125 123]\n",
       " [110  79 111 ... 124 130 117]\n",
       " [121  74 102 ... 150 129 132]\n",
       " ...\n",
       " [107 133 142 ... 145 144 165]\n",
       " [125 121 115 ... 133 129 156]\n",
       " [160 131 122 ... 157 158 138]]              </td></tr>\n",
       "<tr><td>9      </td><td>MSI    </td><td>[[248 247 246 ... 173 191 170]\n",
       " [248 247 247 ... 188 205 208]\n",
       " [249 248 248 ... 183 210 220]\n",
       " ...\n",
       " [102 132 131 ... 249 229 233]\n",
       " [ 89 147 138 ... 250 253 251]\n",
       " [106 149 144 ... 204 212 205]]              </td></tr>\n",
       "</tbody>\n",
       "</table>"
      ]
     },
     "metadata": {},
     "output_type": "display_data"
    }
   ],
   "source": [
    "train.describe()"
   ]
  },
  {
   "cell_type": "code",
   "execution_count": 76,
   "metadata": {},
   "outputs": [],
   "source": [
    "train[\"image_array\"] = train['image_array'].asnumeric()"
   ]
  },
  {
   "cell_type": "code",
   "execution_count": 77,
   "metadata": {},
   "outputs": [
    {
     "name": "stdout",
     "output_type": "stream",
     "text": [
      "Rows:2000\n",
      "Cols:2\n",
      "\n",
      "\n"
     ]
    },
    {
     "data": {
      "text/html": [
       "<table>\n",
       "<thead>\n",
       "<tr><th>       </th><th>label  </th><th>image_array  </th></tr>\n",
       "</thead>\n",
       "<tbody>\n",
       "<tr><td>type   </td><td>enum   </td><td>int          </td></tr>\n",
       "<tr><td>mins   </td><td>       </td><td>NaN          </td></tr>\n",
       "<tr><td>mean   </td><td>       </td><td>0.0          </td></tr>\n",
       "<tr><td>maxs   </td><td>       </td><td>NaN          </td></tr>\n",
       "<tr><td>sigma  </td><td>       </td><td>-0.0         </td></tr>\n",
       "<tr><td>zeros  </td><td>       </td><td>0            </td></tr>\n",
       "<tr><td>missing</td><td>0      </td><td>2000         </td></tr>\n",
       "<tr><td>0      </td><td>MSI    </td><td>nan          </td></tr>\n",
       "<tr><td>1      </td><td>MSI    </td><td>nan          </td></tr>\n",
       "<tr><td>2      </td><td>MSI    </td><td>nan          </td></tr>\n",
       "<tr><td>3      </td><td>MSI    </td><td>nan          </td></tr>\n",
       "<tr><td>4      </td><td>MSI    </td><td>nan          </td></tr>\n",
       "<tr><td>5      </td><td>MSI    </td><td>nan          </td></tr>\n",
       "<tr><td>6      </td><td>MSI    </td><td>nan          </td></tr>\n",
       "<tr><td>7      </td><td>MSI    </td><td>nan          </td></tr>\n",
       "<tr><td>8      </td><td>MSI    </td><td>nan          </td></tr>\n",
       "<tr><td>9      </td><td>MSI    </td><td>nan          </td></tr>\n",
       "</tbody>\n",
       "</table>"
      ]
     },
     "metadata": {},
     "output_type": "display_data"
    }
   ],
   "source": [
    "train.describe()"
   ]
  },
  {
   "cell_type": "code",
   "execution_count": 26,
   "metadata": {},
   "outputs": [],
   "source": [
    "# Identify predictors and response\n",
    "x = train.columns\n",
    "y = \"label\"\n",
    "x.remove(y)"
   ]
  },
  {
   "cell_type": "code",
   "execution_count": 27,
   "metadata": {},
   "outputs": [],
   "source": [
    "train[y] = train[y].asfactor()"
   ]
  },
  {
   "cell_type": "code",
   "execution_count": null,
   "metadata": {},
   "outputs": [],
   "source": [
    "\n",
    "\n",
    "splits = df_train.split_frame(ratios = [0.8], seed = 1)\n",
    "train = splits[0]\n",
    "test = splits[1]\n",
    "\n",
    ":\n",
    "\n",
    "aml = H2OAutoML(seed = 50, sort_metric='RMSE')\n",
    "aml.train(y = y, training_frame = df_train)\n",
    "\n"
   ]
  },
  {
   "cell_type": "code",
   "execution_count": null,
   "metadata": {},
   "outputs": [],
   "source": []
  },
  {
   "cell_type": "code",
   "execution_count": null,
   "metadata": {},
   "outputs": [],
   "source": [
    "lb = aml.leaderboard\n",
    "lb.head(rows=lb.nrows) "
   ]
  }
 ],
 "metadata": {
  "kernelspec": {
   "display_name": "Python 3",
   "language": "python",
   "name": "python3"
  },
  "language_info": {
   "codemirror_mode": {
    "name": "ipython",
    "version": 3
   },
   "file_extension": ".py",
   "mimetype": "text/x-python",
   "name": "python",
   "nbconvert_exporter": "python",
   "pygments_lexer": "ipython3",
   "version": "3.7.5"
  }
 },
 "nbformat": 4,
 "nbformat_minor": 4
}
