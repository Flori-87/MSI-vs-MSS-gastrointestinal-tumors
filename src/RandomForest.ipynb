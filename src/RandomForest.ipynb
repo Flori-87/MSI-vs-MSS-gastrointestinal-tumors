{
 "cells": [
  {
   "cell_type": "code",
   "execution_count": 29,
   "metadata": {},
   "outputs": [],
   "source": [
    "from sklearn.ensemble import RandomForestClassifier\n",
    "import pandas as pd\n",
    "from sklearn.model_selection import train_test_split\n",
    "import numpy as np\n",
    "from sklearn.metrics import accuracy_score, precision_score, recall_score, f1_score\n",
    "from sklearn.model_selection import GridSearchCV"
   ]
  },
  {
   "cell_type": "code",
   "execution_count": 13,
   "metadata": {},
   "outputs": [],
   "source": [
    "subset = pd.read_pickle(\"../output/subset_Color_48x48NormalizedFilter.pkl\")"
   ]
  },
  {
   "cell_type": "code",
   "execution_count": 14,
   "metadata": {},
   "outputs": [
    {
     "data": {
      "text/html": [
       "<div>\n",
       "<style scoped>\n",
       "    .dataframe tbody tr th:only-of-type {\n",
       "        vertical-align: middle;\n",
       "    }\n",
       "\n",
       "    .dataframe tbody tr th {\n",
       "        vertical-align: top;\n",
       "    }\n",
       "\n",
       "    .dataframe thead th {\n",
       "        text-align: right;\n",
       "    }\n",
       "</style>\n",
       "<table border=\"1\" class=\"dataframe\">\n",
       "  <thead>\n",
       "    <tr style=\"text-align: right;\">\n",
       "      <th></th>\n",
       "      <th>label</th>\n",
       "      <th>image_array</th>\n",
       "      <th>image_array_Denoise</th>\n",
       "    </tr>\n",
       "  </thead>\n",
       "  <tbody>\n",
       "    <tr>\n",
       "      <th>0</th>\n",
       "      <td>0</td>\n",
       "      <td>[[[208, 154, 195], [115, 66, 113], [195, 94, 1...</td>\n",
       "      <td>[[[0.8628318584070797, 0.6150442477876106, 0.7...</td>\n",
       "    </tr>\n",
       "    <tr>\n",
       "      <th>1</th>\n",
       "      <td>0</td>\n",
       "      <td>[[[195, 118, 169], [117, 55, 115], [211, 151, ...</td>\n",
       "      <td>[[[0.9512195121951219, 0.5756097560975609, 0.8...</td>\n",
       "    </tr>\n",
       "    <tr>\n",
       "      <th>2</th>\n",
       "      <td>0</td>\n",
       "      <td>[[[247, 210, 231], [254, 227, 239], [251, 213,...</td>\n",
       "      <td>[[[0.9686274509803922, 0.8235294117647058, 0.9...</td>\n",
       "    </tr>\n",
       "    <tr>\n",
       "      <th>3</th>\n",
       "      <td>0</td>\n",
       "      <td>[[[128, 64, 123], [102, 56, 109], [172, 116, 1...</td>\n",
       "      <td>[[[0.5432098765432098, 0.30864197530864196, 0....</td>\n",
       "    </tr>\n",
       "    <tr>\n",
       "      <th>4</th>\n",
       "      <td>0</td>\n",
       "      <td>[[[219, 170, 204], [169, 105, 159], [202, 125,...</td>\n",
       "      <td>[[[0.9864864864864865, 0.7657657657657657, 0.9...</td>\n",
       "    </tr>\n",
       "  </tbody>\n",
       "</table>\n",
       "</div>"
      ],
      "text/plain": [
       "   label                                        image_array  \\\n",
       "0      0  [[[208, 154, 195], [115, 66, 113], [195, 94, 1...   \n",
       "1      0  [[[195, 118, 169], [117, 55, 115], [211, 151, ...   \n",
       "2      0  [[[247, 210, 231], [254, 227, 239], [251, 213,...   \n",
       "3      0  [[[128, 64, 123], [102, 56, 109], [172, 116, 1...   \n",
       "4      0  [[[219, 170, 204], [169, 105, 159], [202, 125,...   \n",
       "\n",
       "                                 image_array_Denoise  \n",
       "0  [[[0.8628318584070797, 0.6150442477876106, 0.7...  \n",
       "1  [[[0.9512195121951219, 0.5756097560975609, 0.8...  \n",
       "2  [[[0.9686274509803922, 0.8235294117647058, 0.9...  \n",
       "3  [[[0.5432098765432098, 0.30864197530864196, 0....  \n",
       "4  [[[0.9864864864864865, 0.7657657657657657, 0.9...  "
      ]
     },
     "execution_count": 14,
     "metadata": {},
     "output_type": "execute_result"
    }
   ],
   "source": [
    "subset.head()"
   ]
  },
  {
   "cell_type": "code",
   "execution_count": 15,
   "metadata": {},
   "outputs": [
    {
     "data": {
      "text/plain": [
       "(4000, 48, 48, 3)"
      ]
     },
     "execution_count": 15,
     "metadata": {},
     "output_type": "execute_result"
    }
   ],
   "source": [
    "X = np.array(list(subset[\"image_array\"]))\n",
    "X.shape"
   ]
  },
  {
   "cell_type": "code",
   "execution_count": 16,
   "metadata": {},
   "outputs": [
    {
     "data": {
      "text/plain": [
       "(48, 48, 3)"
      ]
     },
     "execution_count": 16,
     "metadata": {},
     "output_type": "execute_result"
    }
   ],
   "source": [
    "X[0].shape"
   ]
  },
  {
   "cell_type": "code",
   "execution_count": 17,
   "metadata": {},
   "outputs": [],
   "source": [
    "X = X.reshape(X.shape[0], -1)"
   ]
  },
  {
   "cell_type": "code",
   "execution_count": 18,
   "metadata": {},
   "outputs": [
    {
     "data": {
      "text/plain": [
       "(4000, 6912)"
      ]
     },
     "execution_count": 18,
     "metadata": {},
     "output_type": "execute_result"
    }
   ],
   "source": [
    "X.shape"
   ]
  },
  {
   "cell_type": "code",
   "execution_count": 19,
   "metadata": {},
   "outputs": [
    {
     "data": {
      "text/plain": [
       "array([0, 0, 0, ..., 1, 1, 1])"
      ]
     },
     "execution_count": 19,
     "metadata": {},
     "output_type": "execute_result"
    }
   ],
   "source": [
    "y = np.array(subset[\"label\"])\n",
    "y"
   ]
  },
  {
   "cell_type": "code",
   "execution_count": 21,
   "metadata": {},
   "outputs": [],
   "source": [
    "X_train, X_test, y_train, y_test = train_test_split(X, y, test_size=0.2)"
   ]
  },
  {
   "cell_type": "code",
   "execution_count": 22,
   "metadata": {},
   "outputs": [],
   "source": [
    "model = RandomForestClassifier()"
   ]
  },
  {
   "cell_type": "code",
   "execution_count": 23,
   "metadata": {},
   "outputs": [
    {
     "data": {
      "text/plain": [
       "RandomForestClassifier(bootstrap=True, ccp_alpha=0.0, class_weight=None,\n",
       "                       criterion='gini', max_depth=None, max_features='auto',\n",
       "                       max_leaf_nodes=None, max_samples=None,\n",
       "                       min_impurity_decrease=0.0, min_impurity_split=None,\n",
       "                       min_samples_leaf=1, min_samples_split=2,\n",
       "                       min_weight_fraction_leaf=0.0, n_estimators=100,\n",
       "                       n_jobs=None, oob_score=False, random_state=None,\n",
       "                       verbose=0, warm_start=False)"
      ]
     },
     "execution_count": 23,
     "metadata": {},
     "output_type": "execute_result"
    }
   ],
   "source": [
    "model.fit(X_train, y_train)"
   ]
  },
  {
   "cell_type": "code",
   "execution_count": 24,
   "metadata": {},
   "outputs": [],
   "source": [
    "y_pred=model.predict(X_test)"
   ]
  },
  {
   "cell_type": "code",
   "execution_count": 28,
   "metadata": {},
   "outputs": [
    {
     "name": "stdout",
     "output_type": "stream",
     "text": [
      "Accuracy 0.52\n",
      "Precision 0.5327868852459017\n",
      "Precision 0.5212374405076678\n",
      "Recall 0.47794117647058826\n",
      "Recall 0.52\n",
      "F1Score 0.5038759689922481 \n",
      "\n"
     ]
    }
   ],
   "source": [
    "print(\"Accuracy\", accuracy_score(y_test, y_pred))\n",
    "print(\"Precision\", precision_score(y_test, y_pred))\n",
    "print(\"Precision\", precision_score(y_test, y_pred, average='weighted'))\n",
    "print(\"Recall\", recall_score(y_test, y_pred))\n",
    "print(\"Recall\", recall_score(y_test, y_pred, average='weighted'))\n",
    "print(\"F1Score\",f1_score(y_test, y_pred),\"\\n\")"
   ]
  },
  {
   "cell_type": "code",
   "execution_count": 30,
   "metadata": {},
   "outputs": [
    {
     "name": "stdout",
     "output_type": "stream",
     "text": [
      "Fitting 5 folds for each of 4 candidates, totalling 20 fits\n"
     ]
    },
    {
     "name": "stderr",
     "output_type": "stream",
     "text": [
      "[Parallel(n_jobs=1)]: Using backend SequentialBackend with 1 concurrent workers.\n",
      "[Parallel(n_jobs=1)]: Done  20 out of  20 | elapsed: 16.3min finished\n",
      "/home/flori/.local/lib/python3.7/site-packages/sklearn/model_selection/_search.py:823: FutureWarning: The parameter 'iid' is deprecated in 0.22 and will be removed in 0.24.\n",
      "  \"removed in 0.24.\", FutureWarning\n"
     ]
    },
    {
     "data": {
      "text/plain": [
       "GridSearchCV(cv=5, error_score=nan,\n",
       "             estimator=RandomForestClassifier(bootstrap=True, ccp_alpha=0.0,\n",
       "                                              class_weight=None,\n",
       "                                              criterion='gini', max_depth=None,\n",
       "                                              max_features='auto',\n",
       "                                              max_leaf_nodes=None,\n",
       "                                              max_samples=None,\n",
       "                                              min_impurity_decrease=0.0,\n",
       "                                              min_impurity_split=None,\n",
       "                                              min_samples_leaf=1,\n",
       "                                              min_samples_split=2,\n",
       "                                              min_weight_fraction_leaf=0.0,\n",
       "                                              n_estimators=100, n_jobs=None,\n",
       "                                              oob_score=False,\n",
       "                                              random_state=None, verbose=0,\n",
       "                                              warm_start=False),\n",
       "             iid=False, n_jobs=None,\n",
       "             param_grid={'n_estimators': [100, 200, 500, 1000]},\n",
       "             pre_dispatch='2*n_jobs', refit=True, return_train_score=False,\n",
       "             scoring='accuracy', verbose=1)"
      ]
     },
     "execution_count": 30,
     "metadata": {},
     "output_type": "execute_result"
    }
   ],
   "source": [
    "params = {'n_estimators':[100, 200, 500, 1000]}\n",
    "\n",
    "\"\"\"\n",
    "n_estimators=100, *, criterion='gini', max_depth=None, min_samples_split=2, \n",
    "min_samples_leaf=1, min_weight_fraction_leaf=0.0, max_features='auto', max_leaf_nodes=None, \n",
    "min_impurity_decrease=0.0, min_impurity_split=None, bootstrap=True, oob_score=False, \n",
    "n_jobs=None, random_state=None, verbose=0, warm_start=False, class_weight=None, ccp_alpha=0.0, max_samples=None\n",
    "\"\"\"\n",
    "\n",
    "\n",
    "\n",
    "tuning_gradient = GridSearchCV(estimator = RandomForestClassifier(min_samples_split=2, min_samples_leaf=1, bootstrap = True),\n",
    "                               param_grid=params, scoring='accuracy',iid=False, cv=5, verbose=1)\n",
    "\n",
    "tuning_gradient.fit(X_train,y_train)"
   ]
  },
  {
   "cell_type": "code",
   "execution_count": 31,
   "metadata": {},
   "outputs": [
    {
     "data": {
      "text/plain": [
       "{'n_estimators': 500}"
      ]
     },
     "execution_count": 31,
     "metadata": {},
     "output_type": "execute_result"
    }
   ],
   "source": [
    "tuning_gradient.best_params_"
   ]
  },
  {
   "cell_type": "code",
   "execution_count": 32,
   "metadata": {},
   "outputs": [],
   "source": [
    "y_pred_grid = tuning_gradient.predict(X_test)"
   ]
  },
  {
   "cell_type": "code",
   "execution_count": 33,
   "metadata": {},
   "outputs": [
    {
     "name": "stdout",
     "output_type": "stream",
     "text": [
      "Accuracy 0.5375\n",
      "Precision 0.5533707865168539\n",
      "Precision 0.5393587407632352\n",
      "Recall 0.48284313725490197\n",
      "Recall 0.5375\n",
      "F1Score 0.5157068062827226 \n",
      "\n"
     ]
    }
   ],
   "source": [
    "print(\"Accuracy\", accuracy_score(y_test, y_pred_grid))\n",
    "print(\"Precision\", precision_score(y_test, y_pred_grid))\n",
    "print(\"Precision\", precision_score(y_test, y_pred_grid, average='weighted'))\n",
    "print(\"Recall\", recall_score(y_test, y_pred_grid))\n",
    "print(\"Recall\", recall_score(y_test, y_pred_grid, average='weighted'))\n",
    "print(\"F1Score\",f1_score(y_test, y_pred_grid),\"\\n\")"
   ]
  },
  {
   "cell_type": "code",
   "execution_count": 34,
   "metadata": {},
   "outputs": [
    {
     "name": "stdout",
     "output_type": "stream",
     "text": [
      "Fitting 5 folds for each of 8 candidates, totalling 40 fits\n"
     ]
    },
    {
     "name": "stderr",
     "output_type": "stream",
     "text": [
      "[Parallel(n_jobs=1)]: Using backend SequentialBackend with 1 concurrent workers.\n",
      "[Parallel(n_jobs=1)]: Done  40 out of  40 | elapsed: 730.7min finished\n",
      "/home/flori/.local/lib/python3.7/site-packages/sklearn/model_selection/_search.py:823: FutureWarning: The parameter 'iid' is deprecated in 0.22 and will be removed in 0.24.\n",
      "  \"removed in 0.24.\", FutureWarning\n"
     ]
    },
    {
     "data": {
      "text/plain": [
       "GridSearchCV(cv=5, error_score=nan,\n",
       "             estimator=RandomForestClassifier(bootstrap=True, ccp_alpha=0.0,\n",
       "                                              class_weight=None,\n",
       "                                              criterion='gini', max_depth=None,\n",
       "                                              max_features='auto',\n",
       "                                              max_leaf_nodes=None,\n",
       "                                              max_samples=None,\n",
       "                                              min_impurity_decrease=0.0,\n",
       "                                              min_impurity_split=None,\n",
       "                                              min_samples_leaf=1,\n",
       "                                              min_samples_split=2,\n",
       "                                              min_weight_fraction_leaf=0.0,\n",
       "                                              n_estimators=500, n_jobs=None,\n",
       "                                              oob_score=False,\n",
       "                                              random_state=None, verbose=0,\n",
       "                                              warm_start=False),\n",
       "             iid=False, n_jobs=None,\n",
       "             param_grid={'criterion': ['gini', 'entropy'],\n",
       "                         'max_features': ['auto', 'sqrt', 'log2', None]},\n",
       "             pre_dispatch='2*n_jobs', refit=True, return_train_score=False,\n",
       "             scoring='accuracy', verbose=1)"
      ]
     },
     "execution_count": 34,
     "metadata": {},
     "output_type": "execute_result"
    }
   ],
   "source": [
    "params = {\"criterion\":[\"gini\", \"entropy\"],\n",
    "         \"max_features\":[\"auto\", \"sqrt\", \"log2\", None]}\n",
    "\n",
    "\"\"\"\n",
    "n_estimators=100, *, criterion='gini', max_depth=None, min_samples_split=2, \n",
    "min_samples_leaf=1, min_weight_fraction_leaf=0.0, max_features='auto', max_leaf_nodes=None, \n",
    "min_impurity_decrease=0.0, min_impurity_split=None, bootstrap=True, oob_score=False, \n",
    "n_jobs=None, random_state=None, verbose=0, warm_start=False, class_weight=None, ccp_alpha=0.0, max_samples=None\n",
    "\"\"\"\n",
    "\n",
    "\n",
    "\n",
    "tuning_gradient = GridSearchCV(estimator = RandomForestClassifier(min_samples_split=2, min_samples_leaf=1, bootstrap = True, n_estimators = 500),\n",
    "                               param_grid=params, scoring='accuracy',iid=False, cv=5, verbose=1)\n",
    "\n",
    "tuning_gradient.fit(X_train,y_train)"
   ]
  },
  {
   "cell_type": "code",
   "execution_count": 35,
   "metadata": {},
   "outputs": [
    {
     "data": {
      "text/plain": [
       "{'criterion': 'gini', 'max_features': None}"
      ]
     },
     "execution_count": 35,
     "metadata": {},
     "output_type": "execute_result"
    }
   ],
   "source": [
    "tuning_gradient.best_params_"
   ]
  },
  {
   "cell_type": "code",
   "execution_count": 36,
   "metadata": {},
   "outputs": [],
   "source": [
    "y_pred_grid = tuning_gradient.predict(X_test)"
   ]
  },
  {
   "cell_type": "code",
   "execution_count": 37,
   "metadata": {},
   "outputs": [
    {
     "name": "stdout",
     "output_type": "stream",
     "text": [
      "Accuracy 0.545\n",
      "Precision 0.5617977528089888\n",
      "Precision 0.5469673043830348\n",
      "Recall 0.49019607843137253\n",
      "Recall 0.545\n",
      "F1Score 0.5235602094240838 \n",
      "\n"
     ]
    }
   ],
   "source": [
    "print(\"Accuracy\", accuracy_score(y_test, y_pred_grid))\n",
    "print(\"Precision\", precision_score(y_test, y_pred_grid))\n",
    "print(\"Precision\", precision_score(y_test, y_pred_grid, average='weighted'))\n",
    "print(\"Recall\", recall_score(y_test, y_pred_grid))\n",
    "print(\"Recall\", recall_score(y_test, y_pred_grid, average='weighted'))\n",
    "print(\"F1Score\",f1_score(y_test, y_pred_grid),\"\\n\")"
   ]
  },
  {
   "cell_type": "code",
   "execution_count": null,
   "metadata": {},
   "outputs": [],
   "source": []
  }
 ],
 "metadata": {
  "kernelspec": {
   "display_name": "Python 3",
   "language": "python",
   "name": "python3"
  },
  "language_info": {
   "codemirror_mode": {
    "name": "ipython",
    "version": 3
   },
   "file_extension": ".py",
   "mimetype": "text/x-python",
   "name": "python",
   "nbconvert_exporter": "python",
   "pygments_lexer": "ipython3",
   "version": "3.7.5"
  }
 },
 "nbformat": 4,
 "nbformat_minor": 4
}
