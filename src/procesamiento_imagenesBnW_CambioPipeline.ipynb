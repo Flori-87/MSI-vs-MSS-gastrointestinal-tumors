{
 "cells": [
  {
   "cell_type": "code",
   "execution_count": 1,
   "metadata": {},
   "outputs": [],
   "source": [
    "from PIL import Image\n",
    "import pandas as pd\n",
    "import glob\n",
    "import re\n",
    "import matplotlib.pyplot as plt\n",
    "import cv2\n",
    "import os\n",
    "from df_array_image import *"
   ]
  },
  {
   "cell_type": "markdown",
   "metadata": {},
   "source": [
    "**Empiezo con el subconjunto de 2000 imagénes**"
   ]
  },
  {
   "cell_type": "code",
   "execution_count": 2,
   "metadata": {},
   "outputs": [
    {
     "data": {
      "text/html": [
       "<div>\n",
       "<style scoped>\n",
       "    .dataframe tbody tr th:only-of-type {\n",
       "        vertical-align: middle;\n",
       "    }\n",
       "\n",
       "    .dataframe tbody tr th {\n",
       "        vertical-align: top;\n",
       "    }\n",
       "\n",
       "    .dataframe thead th {\n",
       "        text-align: right;\n",
       "    }\n",
       "</style>\n",
       "<table border=\"1\" class=\"dataframe\">\n",
       "  <thead>\n",
       "    <tr style=\"text-align: right;\">\n",
       "      <th></th>\n",
       "      <th>label</th>\n",
       "      <th>image</th>\n",
       "    </tr>\n",
       "  </thead>\n",
       "  <tbody>\n",
       "    <tr>\n",
       "      <th>0</th>\n",
       "      <td>MSI</td>\n",
       "      <td>MSI_0.jpg</td>\n",
       "    </tr>\n",
       "    <tr>\n",
       "      <th>1</th>\n",
       "      <td>MSI</td>\n",
       "      <td>MSI_1.jpg</td>\n",
       "    </tr>\n",
       "    <tr>\n",
       "      <th>2</th>\n",
       "      <td>MSI</td>\n",
       "      <td>MSI_2.jpg</td>\n",
       "    </tr>\n",
       "    <tr>\n",
       "      <th>3</th>\n",
       "      <td>MSI</td>\n",
       "      <td>MSI_3.jpg</td>\n",
       "    </tr>\n",
       "    <tr>\n",
       "      <th>4</th>\n",
       "      <td>MSI</td>\n",
       "      <td>MSI_4.jpg</td>\n",
       "    </tr>\n",
       "  </tbody>\n",
       "</table>\n",
       "</div>"
      ],
      "text/plain": [
       "  label      image\n",
       "0   MSI  MSI_0.jpg\n",
       "1   MSI  MSI_1.jpg\n",
       "2   MSI  MSI_2.jpg\n",
       "3   MSI  MSI_3.jpg\n",
       "4   MSI  MSI_4.jpg"
      ]
     },
     "metadata": {},
     "output_type": "display_data"
    }
   ],
   "source": [
    "path_csv = \"../output/df_subset.csv\"\n",
    "subset = open_removeUnnamed_df(path_csv)"
   ]
  },
  {
   "cell_type": "markdown",
   "metadata": {},
   "source": [
    "**Probar primero con imágenes en blanco y negro**"
   ]
  },
  {
   "cell_type": "code",
   "execution_count": 3,
   "metadata": {},
   "outputs": [],
   "source": [
    "# Para ello debug=False\n",
    "debug = False"
   ]
  },
  {
   "cell_type": "code",
   "execution_count": 4,
   "metadata": {},
   "outputs": [
    {
     "name": "stdout",
     "output_type": "stream",
     "text": [
      "Column with arrays from images in gray scale has been added\n"
     ]
    },
    {
     "data": {
      "text/html": [
       "<div>\n",
       "<style scoped>\n",
       "    .dataframe tbody tr th:only-of-type {\n",
       "        vertical-align: middle;\n",
       "    }\n",
       "\n",
       "    .dataframe tbody tr th {\n",
       "        vertical-align: top;\n",
       "    }\n",
       "\n",
       "    .dataframe thead th {\n",
       "        text-align: right;\n",
       "    }\n",
       "</style>\n",
       "<table border=\"1\" class=\"dataframe\">\n",
       "  <thead>\n",
       "    <tr style=\"text-align: right;\">\n",
       "      <th></th>\n",
       "      <th>label</th>\n",
       "      <th>image</th>\n",
       "      <th>image_array</th>\n",
       "    </tr>\n",
       "  </thead>\n",
       "  <tbody>\n",
       "    <tr>\n",
       "      <th>0</th>\n",
       "      <td>MSI</td>\n",
       "      <td>MSI_0.jpg</td>\n",
       "      <td>[[154, 179, 144, 124, 152, 146, 167, 201, 180,...</td>\n",
       "    </tr>\n",
       "    <tr>\n",
       "      <th>1</th>\n",
       "      <td>MSI</td>\n",
       "      <td>MSI_1.jpg</td>\n",
       "      <td>[[160, 146, 134, 96, 67, 69, 78, 96, 124, 155,...</td>\n",
       "    </tr>\n",
       "    <tr>\n",
       "      <th>2</th>\n",
       "      <td>MSI</td>\n",
       "      <td>MSI_2.jpg</td>\n",
       "      <td>[[246, 241, 236, 216, 173, 164, 158, 162, 164,...</td>\n",
       "    </tr>\n",
       "    <tr>\n",
       "      <th>3</th>\n",
       "      <td>MSI</td>\n",
       "      <td>MSI_3.jpg</td>\n",
       "      <td>[[123, 151, 178, 134, 135, 139, 142, 139, 102,...</td>\n",
       "    </tr>\n",
       "    <tr>\n",
       "      <th>4</th>\n",
       "      <td>MSI</td>\n",
       "      <td>MSI_4.jpg</td>\n",
       "      <td>[[128, 160, 172, 204, 192, 147, 146, 136, 127,...</td>\n",
       "    </tr>\n",
       "  </tbody>\n",
       "</table>\n",
       "</div>"
      ],
      "text/plain": [
       "  label      image                                        image_array\n",
       "0   MSI  MSI_0.jpg  [[154, 179, 144, 124, 152, 146, 167, 201, 180,...\n",
       "1   MSI  MSI_1.jpg  [[160, 146, 134, 96, 67, 69, 78, 96, 124, 155,...\n",
       "2   MSI  MSI_2.jpg  [[246, 241, 236, 216, 173, 164, 158, 162, 164,...\n",
       "3   MSI  MSI_3.jpg  [[123, 151, 178, 134, 135, 139, 142, 139, 102,...\n",
       "4   MSI  MSI_4.jpg  [[128, 160, 172, 204, 192, 147, 146, 136, 127,..."
      ]
     },
     "metadata": {},
     "output_type": "display_data"
    }
   ],
   "source": [
    "column_name = \"image\"\n",
    "path_images = \"../input/biopsy_images\"\n",
    "#debug = False\n",
    "subset = addColumn_imageArray(subset, column_name, path_images, debug)"
   ]
  },
  {
   "cell_type": "markdown",
   "metadata": {},
   "source": [
    "**Checkear que los arrays son todos del mismo tamaño**"
   ]
  },
  {
   "cell_type": "code",
   "execution_count": 5,
   "metadata": {},
   "outputs": [
    {
     "name": "stdout",
     "output_type": "stream",
     "text": [
      "Column with image sizes has been added\n"
     ]
    },
    {
     "data": {
      "text/html": [
       "<div>\n",
       "<style scoped>\n",
       "    .dataframe tbody tr th:only-of-type {\n",
       "        vertical-align: middle;\n",
       "    }\n",
       "\n",
       "    .dataframe tbody tr th {\n",
       "        vertical-align: top;\n",
       "    }\n",
       "\n",
       "    .dataframe thead th {\n",
       "        text-align: right;\n",
       "    }\n",
       "</style>\n",
       "<table border=\"1\" class=\"dataframe\">\n",
       "  <thead>\n",
       "    <tr style=\"text-align: right;\">\n",
       "      <th></th>\n",
       "      <th>label</th>\n",
       "      <th>image</th>\n",
       "      <th>image_array</th>\n",
       "      <th>shape</th>\n",
       "    </tr>\n",
       "  </thead>\n",
       "  <tbody>\n",
       "    <tr>\n",
       "      <th>0</th>\n",
       "      <td>MSI</td>\n",
       "      <td>MSI_0.jpg</td>\n",
       "      <td>[[154, 179, 144, 124, 152, 146, 167, 201, 180,...</td>\n",
       "      <td>(224, 224)</td>\n",
       "    </tr>\n",
       "    <tr>\n",
       "      <th>1</th>\n",
       "      <td>MSI</td>\n",
       "      <td>MSI_1.jpg</td>\n",
       "      <td>[[160, 146, 134, 96, 67, 69, 78, 96, 124, 155,...</td>\n",
       "      <td>(224, 224)</td>\n",
       "    </tr>\n",
       "    <tr>\n",
       "      <th>2</th>\n",
       "      <td>MSI</td>\n",
       "      <td>MSI_2.jpg</td>\n",
       "      <td>[[246, 241, 236, 216, 173, 164, 158, 162, 164,...</td>\n",
       "      <td>(224, 224)</td>\n",
       "    </tr>\n",
       "    <tr>\n",
       "      <th>3</th>\n",
       "      <td>MSI</td>\n",
       "      <td>MSI_3.jpg</td>\n",
       "      <td>[[123, 151, 178, 134, 135, 139, 142, 139, 102,...</td>\n",
       "      <td>(224, 224)</td>\n",
       "    </tr>\n",
       "    <tr>\n",
       "      <th>4</th>\n",
       "      <td>MSI</td>\n",
       "      <td>MSI_4.jpg</td>\n",
       "      <td>[[128, 160, 172, 204, 192, 147, 146, 136, 127,...</td>\n",
       "      <td>(224, 224)</td>\n",
       "    </tr>\n",
       "  </tbody>\n",
       "</table>\n",
       "</div>"
      ],
      "text/plain": [
       "  label      image                                        image_array  \\\n",
       "0   MSI  MSI_0.jpg  [[154, 179, 144, 124, 152, 146, 167, 201, 180,...   \n",
       "1   MSI  MSI_1.jpg  [[160, 146, 134, 96, 67, 69, 78, 96, 124, 155,...   \n",
       "2   MSI  MSI_2.jpg  [[246, 241, 236, 216, 173, 164, 158, 162, 164,...   \n",
       "3   MSI  MSI_3.jpg  [[123, 151, 178, 134, 135, 139, 142, 139, 102,...   \n",
       "4   MSI  MSI_4.jpg  [[128, 160, 172, 204, 192, 147, 146, 136, 127,...   \n",
       "\n",
       "        shape  \n",
       "0  (224, 224)  \n",
       "1  (224, 224)  \n",
       "2  (224, 224)  \n",
       "3  (224, 224)  \n",
       "4  (224, 224)  "
      ]
     },
     "metadata": {},
     "output_type": "display_data"
    }
   ],
   "source": [
    "column_name = \"image_array\"\n",
    "subset = addColumn_shape(subset, \"image_array\")"
   ]
  },
  {
   "cell_type": "code",
   "execution_count": 6,
   "metadata": {},
   "outputs": [
    {
     "name": "stdout",
     "output_type": "stream",
     "text": [
      "All images are the same size: (224, 224)\n"
     ]
    }
   ],
   "source": [
    "column_name = \"shape\"\n",
    "#debug = False\n",
    "checkSize(subset, column_name, debug)"
   ]
  },
  {
   "cell_type": "markdown",
   "metadata": {},
   "source": [
    "**Guardar dataframe con los arrays y el label**"
   ]
  },
  {
   "cell_type": "code",
   "execution_count": 7,
   "metadata": {},
   "outputs": [
    {
     "data": {
      "text/html": [
       "<div>\n",
       "<style scoped>\n",
       "    .dataframe tbody tr th:only-of-type {\n",
       "        vertical-align: middle;\n",
       "    }\n",
       "\n",
       "    .dataframe tbody tr th {\n",
       "        vertical-align: top;\n",
       "    }\n",
       "\n",
       "    .dataframe thead th {\n",
       "        text-align: right;\n",
       "    }\n",
       "</style>\n",
       "<table border=\"1\" class=\"dataframe\">\n",
       "  <thead>\n",
       "    <tr style=\"text-align: right;\">\n",
       "      <th></th>\n",
       "      <th>label</th>\n",
       "      <th>image_array</th>\n",
       "    </tr>\n",
       "  </thead>\n",
       "  <tbody>\n",
       "    <tr>\n",
       "      <th>0</th>\n",
       "      <td>MSI</td>\n",
       "      <td>[[154, 179, 144, 124, 152, 146, 167, 201, 180,...</td>\n",
       "    </tr>\n",
       "    <tr>\n",
       "      <th>1</th>\n",
       "      <td>MSI</td>\n",
       "      <td>[[160, 146, 134, 96, 67, 69, 78, 96, 124, 155,...</td>\n",
       "    </tr>\n",
       "    <tr>\n",
       "      <th>2</th>\n",
       "      <td>MSI</td>\n",
       "      <td>[[246, 241, 236, 216, 173, 164, 158, 162, 164,...</td>\n",
       "    </tr>\n",
       "    <tr>\n",
       "      <th>3</th>\n",
       "      <td>MSI</td>\n",
       "      <td>[[123, 151, 178, 134, 135, 139, 142, 139, 102,...</td>\n",
       "    </tr>\n",
       "    <tr>\n",
       "      <th>4</th>\n",
       "      <td>MSI</td>\n",
       "      <td>[[128, 160, 172, 204, 192, 147, 146, 136, 127,...</td>\n",
       "    </tr>\n",
       "  </tbody>\n",
       "</table>\n",
       "</div>"
      ],
      "text/plain": [
       "  label                                        image_array\n",
       "0   MSI  [[154, 179, 144, 124, 152, 146, 167, 201, 180,...\n",
       "1   MSI  [[160, 146, 134, 96, 67, 69, 78, 96, 124, 155,...\n",
       "2   MSI  [[246, 241, 236, 216, 173, 164, 158, 162, 164,...\n",
       "3   MSI  [[123, 151, 178, 134, 135, 139, 142, 139, 102,...\n",
       "4   MSI  [[128, 160, 172, 204, 192, 147, 146, 136, 127,..."
      ]
     },
     "metadata": {},
     "output_type": "display_data"
    }
   ],
   "source": [
    "column_names = [\"label\",\"image_array\"]\n",
    "name_file = \"final_subset\"\n",
    "#debug = False\n",
    "saveDFtoPickle(subset, column_names, name_file, debug)"
   ]
  }
 ],
 "metadata": {
  "kernelspec": {
   "display_name": "Python 3",
   "language": "python",
   "name": "python3"
  },
  "language_info": {
   "codemirror_mode": {
    "name": "ipython",
    "version": 3
   },
   "file_extension": ".py",
   "mimetype": "text/x-python",
   "name": "python",
   "nbconvert_exporter": "python",
   "pygments_lexer": "ipython3",
   "version": "3.7.5"
  }
 },
 "nbformat": 4,
 "nbformat_minor": 4
}
