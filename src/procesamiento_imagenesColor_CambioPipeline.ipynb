{
 "cells": [
  {
   "cell_type": "code",
   "execution_count": 1,
   "metadata": {},
   "outputs": [],
   "source": [
    "from PIL import Image\n",
    "import pandas as pd\n",
    "import glob\n",
    "import re\n",
    "import matplotlib.pyplot as plt\n",
    "import cv2\n",
    "import os\n",
    "from df_array_image import *"
   ]
  },
  {
   "cell_type": "markdown",
   "metadata": {},
   "source": [
    "**Empiezo con el subconjunto de 4000 imagénes**"
   ]
  },
  {
   "cell_type": "code",
   "execution_count": 2,
   "metadata": {},
   "outputs": [
    {
     "data": {
      "text/html": [
       "<div>\n",
       "<style scoped>\n",
       "    .dataframe tbody tr th:only-of-type {\n",
       "        vertical-align: middle;\n",
       "    }\n",
       "\n",
       "    .dataframe tbody tr th {\n",
       "        vertical-align: top;\n",
       "    }\n",
       "\n",
       "    .dataframe thead th {\n",
       "        text-align: right;\n",
       "    }\n",
       "</style>\n",
       "<table border=\"1\" class=\"dataframe\">\n",
       "  <thead>\n",
       "    <tr style=\"text-align: right;\">\n",
       "      <th></th>\n",
       "      <th>Unnamed: 0.1</th>\n",
       "      <th>label</th>\n",
       "      <th>image</th>\n",
       "    </tr>\n",
       "  </thead>\n",
       "  <tbody>\n",
       "    <tr>\n",
       "      <th>0</th>\n",
       "      <td>0</td>\n",
       "      <td>MSI</td>\n",
       "      <td>MSI_0.jpg</td>\n",
       "    </tr>\n",
       "    <tr>\n",
       "      <th>1</th>\n",
       "      <td>1</td>\n",
       "      <td>MSI</td>\n",
       "      <td>MSI_1.jpg</td>\n",
       "    </tr>\n",
       "    <tr>\n",
       "      <th>2</th>\n",
       "      <td>2</td>\n",
       "      <td>MSI</td>\n",
       "      <td>MSI_2.jpg</td>\n",
       "    </tr>\n",
       "    <tr>\n",
       "      <th>3</th>\n",
       "      <td>3</td>\n",
       "      <td>MSI</td>\n",
       "      <td>MSI_3.jpg</td>\n",
       "    </tr>\n",
       "    <tr>\n",
       "      <th>4</th>\n",
       "      <td>4</td>\n",
       "      <td>MSI</td>\n",
       "      <td>MSI_4.jpg</td>\n",
       "    </tr>\n",
       "  </tbody>\n",
       "</table>\n",
       "</div>"
      ],
      "text/plain": [
       "   Unnamed: 0.1 label      image\n",
       "0             0   MSI  MSI_0.jpg\n",
       "1             1   MSI  MSI_1.jpg\n",
       "2             2   MSI  MSI_2.jpg\n",
       "3             3   MSI  MSI_3.jpg\n",
       "4             4   MSI  MSI_4.jpg"
      ]
     },
     "metadata": {},
     "output_type": "display_data"
    }
   ],
   "source": [
    "path_csv = \"../output/df8mil.csv\"\n",
    "subset = open_removeUnnamed_df(path_csv)"
   ]
  },
  {
   "cell_type": "code",
   "execution_count": 3,
   "metadata": {},
   "outputs": [],
   "source": [
    "subset= pd.read_csv(path_csv)"
   ]
  },
  {
   "cell_type": "code",
   "execution_count": 4,
   "metadata": {},
   "outputs": [
    {
     "data": {
      "text/html": [
       "<div>\n",
       "<style scoped>\n",
       "    .dataframe tbody tr th:only-of-type {\n",
       "        vertical-align: middle;\n",
       "    }\n",
       "\n",
       "    .dataframe tbody tr th {\n",
       "        vertical-align: top;\n",
       "    }\n",
       "\n",
       "    .dataframe thead th {\n",
       "        text-align: right;\n",
       "    }\n",
       "</style>\n",
       "<table border=\"1\" class=\"dataframe\">\n",
       "  <thead>\n",
       "    <tr style=\"text-align: right;\">\n",
       "      <th></th>\n",
       "      <th>Unnamed: 0</th>\n",
       "      <th>Unnamed: 0.1</th>\n",
       "      <th>label</th>\n",
       "      <th>image</th>\n",
       "    </tr>\n",
       "  </thead>\n",
       "  <tbody>\n",
       "    <tr>\n",
       "      <th>0</th>\n",
       "      <td>0</td>\n",
       "      <td>0</td>\n",
       "      <td>MSI</td>\n",
       "      <td>MSI_0.jpg</td>\n",
       "    </tr>\n",
       "    <tr>\n",
       "      <th>1</th>\n",
       "      <td>1</td>\n",
       "      <td>1</td>\n",
       "      <td>MSI</td>\n",
       "      <td>MSI_1.jpg</td>\n",
       "    </tr>\n",
       "    <tr>\n",
       "      <th>2</th>\n",
       "      <td>2</td>\n",
       "      <td>2</td>\n",
       "      <td>MSI</td>\n",
       "      <td>MSI_2.jpg</td>\n",
       "    </tr>\n",
       "    <tr>\n",
       "      <th>3</th>\n",
       "      <td>3</td>\n",
       "      <td>3</td>\n",
       "      <td>MSI</td>\n",
       "      <td>MSI_3.jpg</td>\n",
       "    </tr>\n",
       "    <tr>\n",
       "      <th>4</th>\n",
       "      <td>4</td>\n",
       "      <td>4</td>\n",
       "      <td>MSI</td>\n",
       "      <td>MSI_4.jpg</td>\n",
       "    </tr>\n",
       "  </tbody>\n",
       "</table>\n",
       "</div>"
      ],
      "text/plain": [
       "   Unnamed: 0  Unnamed: 0.1 label      image\n",
       "0           0             0   MSI  MSI_0.jpg\n",
       "1           1             1   MSI  MSI_1.jpg\n",
       "2           2             2   MSI  MSI_2.jpg\n",
       "3           3             3   MSI  MSI_3.jpg\n",
       "4           4             4   MSI  MSI_4.jpg"
      ]
     },
     "execution_count": 4,
     "metadata": {},
     "output_type": "execute_result"
    }
   ],
   "source": [
    "subset.head()"
   ]
  },
  {
   "cell_type": "code",
   "execution_count": 5,
   "metadata": {},
   "outputs": [
    {
     "data": {
      "text/html": [
       "<div>\n",
       "<style scoped>\n",
       "    .dataframe tbody tr th:only-of-type {\n",
       "        vertical-align: middle;\n",
       "    }\n",
       "\n",
       "    .dataframe tbody tr th {\n",
       "        vertical-align: top;\n",
       "    }\n",
       "\n",
       "    .dataframe thead th {\n",
       "        text-align: right;\n",
       "    }\n",
       "</style>\n",
       "<table border=\"1\" class=\"dataframe\">\n",
       "  <thead>\n",
       "    <tr style=\"text-align: right;\">\n",
       "      <th></th>\n",
       "      <th>label</th>\n",
       "      <th>image</th>\n",
       "    </tr>\n",
       "  </thead>\n",
       "  <tbody>\n",
       "    <tr>\n",
       "      <th>0</th>\n",
       "      <td>MSI</td>\n",
       "      <td>MSI_0.jpg</td>\n",
       "    </tr>\n",
       "    <tr>\n",
       "      <th>1</th>\n",
       "      <td>MSI</td>\n",
       "      <td>MSI_1.jpg</td>\n",
       "    </tr>\n",
       "    <tr>\n",
       "      <th>2</th>\n",
       "      <td>MSI</td>\n",
       "      <td>MSI_2.jpg</td>\n",
       "    </tr>\n",
       "    <tr>\n",
       "      <th>3</th>\n",
       "      <td>MSI</td>\n",
       "      <td>MSI_3.jpg</td>\n",
       "    </tr>\n",
       "    <tr>\n",
       "      <th>4</th>\n",
       "      <td>MSI</td>\n",
       "      <td>MSI_4.jpg</td>\n",
       "    </tr>\n",
       "  </tbody>\n",
       "</table>\n",
       "</div>"
      ],
      "text/plain": [
       "  label      image\n",
       "0   MSI  MSI_0.jpg\n",
       "1   MSI  MSI_1.jpg\n",
       "2   MSI  MSI_2.jpg\n",
       "3   MSI  MSI_3.jpg\n",
       "4   MSI  MSI_4.jpg"
      ]
     },
     "execution_count": 5,
     "metadata": {},
     "output_type": "execute_result"
    }
   ],
   "source": [
    "subset.drop(columns=[\"Unnamed: 0\",\"Unnamed: 0.1\"],inplace=True)\n",
    "subset.head()"
   ]
  },
  {
   "cell_type": "markdown",
   "metadata": {},
   "source": [
    "**Para las imágenes a color todo igual, lo unico es establecer el debug a True**"
   ]
  },
  {
   "cell_type": "code",
   "execution_count": 6,
   "metadata": {},
   "outputs": [],
   "source": [
    "# Para ello debug=True\n",
    "debug = True"
   ]
  },
  {
   "cell_type": "code",
   "execution_count": 7,
   "metadata": {},
   "outputs": [
    {
     "name": "stdout",
     "output_type": "stream",
     "text": [
      "Column with arrays from images in RGB has been added\n"
     ]
    },
    {
     "data": {
      "text/html": [
       "<div>\n",
       "<style scoped>\n",
       "    .dataframe tbody tr th:only-of-type {\n",
       "        vertical-align: middle;\n",
       "    }\n",
       "\n",
       "    .dataframe tbody tr th {\n",
       "        vertical-align: top;\n",
       "    }\n",
       "\n",
       "    .dataframe thead th {\n",
       "        text-align: right;\n",
       "    }\n",
       "</style>\n",
       "<table border=\"1\" class=\"dataframe\">\n",
       "  <thead>\n",
       "    <tr style=\"text-align: right;\">\n",
       "      <th></th>\n",
       "      <th>label</th>\n",
       "      <th>image</th>\n",
       "      <th>image_array</th>\n",
       "    </tr>\n",
       "  </thead>\n",
       "  <tbody>\n",
       "    <tr>\n",
       "      <th>0</th>\n",
       "      <td>MSI</td>\n",
       "      <td>MSI_0.jpg</td>\n",
       "      <td>[[[207, 131, 178], [216, 161, 201], [178, 126,...</td>\n",
       "    </tr>\n",
       "    <tr>\n",
       "      <th>1</th>\n",
       "      <td>MSI</td>\n",
       "      <td>MSI_1.jpg</td>\n",
       "      <td>[[[216, 136, 187], [205, 121, 173], [195, 108,...</td>\n",
       "    </tr>\n",
       "    <tr>\n",
       "      <th>2</th>\n",
       "      <td>MSI</td>\n",
       "      <td>MSI_2.jpg</td>\n",
       "      <td>[[[254, 246, 244], [253, 238, 243], [255, 229,...</td>\n",
       "    </tr>\n",
       "    <tr>\n",
       "      <th>3</th>\n",
       "      <td>MSI</td>\n",
       "      <td>MSI_3.jpg</td>\n",
       "      <td>[[[159, 101, 152], [186, 129, 182], [210, 155,...</td>\n",
       "    </tr>\n",
       "    <tr>\n",
       "      <th>4</th>\n",
       "      <td>MSI</td>\n",
       "      <td>MSI_4.jpg</td>\n",
       "      <td>[[[173, 105, 156], [203, 141, 182], [203, 159,...</td>\n",
       "    </tr>\n",
       "  </tbody>\n",
       "</table>\n",
       "</div>"
      ],
      "text/plain": [
       "  label      image                                        image_array\n",
       "0   MSI  MSI_0.jpg  [[[207, 131, 178], [216, 161, 201], [178, 126,...\n",
       "1   MSI  MSI_1.jpg  [[[216, 136, 187], [205, 121, 173], [195, 108,...\n",
       "2   MSI  MSI_2.jpg  [[[254, 246, 244], [253, 238, 243], [255, 229,...\n",
       "3   MSI  MSI_3.jpg  [[[159, 101, 152], [186, 129, 182], [210, 155,...\n",
       "4   MSI  MSI_4.jpg  [[[173, 105, 156], [203, 141, 182], [203, 159,..."
      ]
     },
     "metadata": {},
     "output_type": "display_data"
    }
   ],
   "source": [
    "column_name = \"image\"\n",
    "path_images = \"../input/biopsy_images\"\n",
    "#debug = False\n",
    "subset = addColumn_imageArray(subset, column_name, path_images, debug)"
   ]
  },
  {
   "cell_type": "markdown",
   "metadata": {},
   "source": [
    "**Checkear que los arrays son todos del mismo tamaño**"
   ]
  },
  {
   "cell_type": "code",
   "execution_count": 8,
   "metadata": {},
   "outputs": [
    {
     "name": "stdout",
     "output_type": "stream",
     "text": [
      "Column with image sizes has been added\n"
     ]
    },
    {
     "data": {
      "text/html": [
       "<div>\n",
       "<style scoped>\n",
       "    .dataframe tbody tr th:only-of-type {\n",
       "        vertical-align: middle;\n",
       "    }\n",
       "\n",
       "    .dataframe tbody tr th {\n",
       "        vertical-align: top;\n",
       "    }\n",
       "\n",
       "    .dataframe thead th {\n",
       "        text-align: right;\n",
       "    }\n",
       "</style>\n",
       "<table border=\"1\" class=\"dataframe\">\n",
       "  <thead>\n",
       "    <tr style=\"text-align: right;\">\n",
       "      <th></th>\n",
       "      <th>label</th>\n",
       "      <th>image</th>\n",
       "      <th>image_array</th>\n",
       "      <th>shape</th>\n",
       "    </tr>\n",
       "  </thead>\n",
       "  <tbody>\n",
       "    <tr>\n",
       "      <th>0</th>\n",
       "      <td>MSI</td>\n",
       "      <td>MSI_0.jpg</td>\n",
       "      <td>[[[207, 131, 178], [216, 161, 201], [178, 126,...</td>\n",
       "      <td>(224, 224, 3)</td>\n",
       "    </tr>\n",
       "    <tr>\n",
       "      <th>1</th>\n",
       "      <td>MSI</td>\n",
       "      <td>MSI_1.jpg</td>\n",
       "      <td>[[[216, 136, 187], [205, 121, 173], [195, 108,...</td>\n",
       "      <td>(224, 224, 3)</td>\n",
       "    </tr>\n",
       "    <tr>\n",
       "      <th>2</th>\n",
       "      <td>MSI</td>\n",
       "      <td>MSI_2.jpg</td>\n",
       "      <td>[[[254, 246, 244], [253, 238, 243], [255, 229,...</td>\n",
       "      <td>(224, 224, 3)</td>\n",
       "    </tr>\n",
       "    <tr>\n",
       "      <th>3</th>\n",
       "      <td>MSI</td>\n",
       "      <td>MSI_3.jpg</td>\n",
       "      <td>[[[159, 101, 152], [186, 129, 182], [210, 155,...</td>\n",
       "      <td>(224, 224, 3)</td>\n",
       "    </tr>\n",
       "    <tr>\n",
       "      <th>4</th>\n",
       "      <td>MSI</td>\n",
       "      <td>MSI_4.jpg</td>\n",
       "      <td>[[[173, 105, 156], [203, 141, 182], [203, 159,...</td>\n",
       "      <td>(224, 224, 3)</td>\n",
       "    </tr>\n",
       "  </tbody>\n",
       "</table>\n",
       "</div>"
      ],
      "text/plain": [
       "  label      image                                        image_array  \\\n",
       "0   MSI  MSI_0.jpg  [[[207, 131, 178], [216, 161, 201], [178, 126,...   \n",
       "1   MSI  MSI_1.jpg  [[[216, 136, 187], [205, 121, 173], [195, 108,...   \n",
       "2   MSI  MSI_2.jpg  [[[254, 246, 244], [253, 238, 243], [255, 229,...   \n",
       "3   MSI  MSI_3.jpg  [[[159, 101, 152], [186, 129, 182], [210, 155,...   \n",
       "4   MSI  MSI_4.jpg  [[[173, 105, 156], [203, 141, 182], [203, 159,...   \n",
       "\n",
       "           shape  \n",
       "0  (224, 224, 3)  \n",
       "1  (224, 224, 3)  \n",
       "2  (224, 224, 3)  \n",
       "3  (224, 224, 3)  \n",
       "4  (224, 224, 3)  "
      ]
     },
     "metadata": {},
     "output_type": "display_data"
    }
   ],
   "source": [
    "column_name = \"image_array\"\n",
    "subset = addColumn_shape(subset, \"image_array\")"
   ]
  },
  {
   "cell_type": "code",
   "execution_count": 9,
   "metadata": {},
   "outputs": [
    {
     "name": "stdout",
     "output_type": "stream",
     "text": [
      "All images are the same size: (224, 224, 3)\n"
     ]
    }
   ],
   "source": [
    "column_name = \"shape\"\n",
    "#debug = False\n",
    "checkSize(subset, column_name, debug)"
   ]
  },
  {
   "cell_type": "markdown",
   "metadata": {},
   "source": [
    "**Guardar dataframe con los arrays y el label**"
   ]
  },
  {
   "cell_type": "code",
   "execution_count": 10,
   "metadata": {},
   "outputs": [
    {
     "data": {
      "text/html": [
       "<div>\n",
       "<style scoped>\n",
       "    .dataframe tbody tr th:only-of-type {\n",
       "        vertical-align: middle;\n",
       "    }\n",
       "\n",
       "    .dataframe tbody tr th {\n",
       "        vertical-align: top;\n",
       "    }\n",
       "\n",
       "    .dataframe thead th {\n",
       "        text-align: right;\n",
       "    }\n",
       "</style>\n",
       "<table border=\"1\" class=\"dataframe\">\n",
       "  <thead>\n",
       "    <tr style=\"text-align: right;\">\n",
       "      <th></th>\n",
       "      <th>label</th>\n",
       "      <th>image_array</th>\n",
       "    </tr>\n",
       "  </thead>\n",
       "  <tbody>\n",
       "    <tr>\n",
       "      <th>0</th>\n",
       "      <td>MSI</td>\n",
       "      <td>[[[207, 131, 178], [216, 161, 201], [178, 126,...</td>\n",
       "    </tr>\n",
       "    <tr>\n",
       "      <th>1</th>\n",
       "      <td>MSI</td>\n",
       "      <td>[[[216, 136, 187], [205, 121, 173], [195, 108,...</td>\n",
       "    </tr>\n",
       "    <tr>\n",
       "      <th>2</th>\n",
       "      <td>MSI</td>\n",
       "      <td>[[[254, 246, 244], [253, 238, 243], [255, 229,...</td>\n",
       "    </tr>\n",
       "    <tr>\n",
       "      <th>3</th>\n",
       "      <td>MSI</td>\n",
       "      <td>[[[159, 101, 152], [186, 129, 182], [210, 155,...</td>\n",
       "    </tr>\n",
       "    <tr>\n",
       "      <th>4</th>\n",
       "      <td>MSI</td>\n",
       "      <td>[[[173, 105, 156], [203, 141, 182], [203, 159,...</td>\n",
       "    </tr>\n",
       "  </tbody>\n",
       "</table>\n",
       "</div>"
      ],
      "text/plain": [
       "  label                                        image_array\n",
       "0   MSI  [[[207, 131, 178], [216, 161, 201], [178, 126,...\n",
       "1   MSI  [[[216, 136, 187], [205, 121, 173], [195, 108,...\n",
       "2   MSI  [[[254, 246, 244], [253, 238, 243], [255, 229,...\n",
       "3   MSI  [[[159, 101, 152], [186, 129, 182], [210, 155,...\n",
       "4   MSI  [[[173, 105, 156], [203, 141, 182], [203, 159,..."
      ]
     },
     "metadata": {},
     "output_type": "display_data"
    }
   ],
   "source": [
    "column_names = [\"label\",\"image_array\"]\n",
    "name_file = \"final_subset8mil\"\n",
    "#debug = False\n",
    "saveDFtoPickle(subset, column_names, name_file, debug)"
   ]
  },
  {
   "cell_type": "code",
   "execution_count": null,
   "metadata": {},
   "outputs": [],
   "source": []
  }
 ],
 "metadata": {
  "kernelspec": {
   "display_name": "Python 3",
   "language": "python",
   "name": "python3"
  },
  "language_info": {
   "codemirror_mode": {
    "name": "ipython",
    "version": 3
   },
   "file_extension": ".py",
   "mimetype": "text/x-python",
   "name": "python",
   "nbconvert_exporter": "python",
   "pygments_lexer": "ipython3",
   "version": "3.7.5"
  }
 },
 "nbformat": 4,
 "nbformat_minor": 4
}
