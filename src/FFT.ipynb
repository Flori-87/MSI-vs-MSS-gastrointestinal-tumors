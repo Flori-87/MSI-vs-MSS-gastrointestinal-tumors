{
  "nbformat": 4,
  "nbformat_minor": 0,
  "metadata": {
    "colab": {
      "name": "HematStanNorm.ipynb",
      "provenance": [],
      "collapsed_sections": []
    },
    "kernelspec": {
      "name": "python3",
      "display_name": "Python 3"
    },
    "accelerator": "GPU"
  },
  "cells": [
    {
      "cell_type": "code",
      "metadata": {
        "id": "8oy8PYZcIM9j",
        "colab_type": "code",
        "outputId": "84381c53-4e8b-407d-d217-6933ea350d5e",
        "colab": {
          "base_uri": "https://localhost:8080/",
          "height": 34
        }
      },
      "source": [
        "from os.path import join\n",
        "from google.colab import drive\n",
        "# Montar el DRIVE\n",
        "ROOT = \"/content/drive\"\n",
        "drive.mount(ROOT)# Apuntar a la carpeta de trabajo\n",
        "PROJ = \"My Drive/MSI-MSS_project\" # This is a custom path.\n",
        "PROJECT_PATH = join(ROOT, PROJ)"
      ],
      "execution_count": 0,
      "outputs": [
        {
          "output_type": "stream",
          "text": [
            "Drive already mounted at /content/drive; to attempt to forcibly remount, call drive.mount(\"/content/drive\", force_remount=True).\n"
          ],
          "name": "stdout"
        }
      ]
    },
    {
      "cell_type": "code",
      "metadata": {
        "id": "7miUjGqrIevV",
        "colab_type": "code",
        "colab": {}
      },
      "source": [
        "import pandas as pd\n",
        "import numpy as np\n",
        "from sklearn.ensemble import RandomForestClassifier\n",
        "from sklearn.model_selection import train_test_split\n",
        "from sklearn.metrics import accuracy_score, precision_score, recall_score, f1_score\n",
        "from scipy.fftpack import fft\n",
        "from sklearn.metrics import roc_auc_score\n",
        "from sklearn.metrics import roc_curve\n",
        "import matplotlib.pyplot as plt\n",
        "import cv2\n",
        "from skimage import data\n",
        "from skimage.color import rgb2hed\n",
        "from matplotlib.colors import LinearSegmentedColormap\n",
        "from skimage.exposure import rescale_intensity\n",
        "from PIL import Image\n",
        "from google.colab.patches import cv2_imshow"
      ],
      "execution_count": 0,
      "outputs": []
    },
    {
      "cell_type": "code",
      "metadata": {
        "id": "k6TyPio7In_y",
        "colab_type": "code",
        "colab": {}
      },
      "source": [
        "set_completo = pd.read_pickle(join(PROJECT_PATH,'final_subset_Color.pkl'))"
      ],
      "execution_count": 0,
      "outputs": []
    },
    {
      "cell_type": "code",
      "metadata": {
        "id": "cYoiUjShrdQ9",
        "colab_type": "code",
        "colab": {}
      },
      "source": [
        "set_completo[\"label\"] = np.where((set_completo[\"label\"]==\"MSI\"),0,1)"
      ],
      "execution_count": 0,
      "outputs": []
    },
    {
      "cell_type": "code",
      "metadata": {
        "id": "QWhx6TX-rdV8",
        "colab_type": "code",
        "outputId": "96f8d239-0d0e-4711-9bb6-2b22ac642716",
        "colab": {
          "base_uri": "https://localhost:8080/",
          "height": 69
        }
      },
      "source": [
        "set_completo[\"label\"].value_counts()"
      ],
      "execution_count": 0,
      "outputs": [
        {
          "output_type": "execute_result",
          "data": {
            "text/plain": [
              "1    2000\n",
              "0    2000\n",
              "Name: label, dtype: int64"
            ]
          },
          "metadata": {
            "tags": []
          },
          "execution_count": 95
        }
      ]
    },
    {
      "cell_type": "code",
      "metadata": {
        "id": "EunzkRlZxp86",
        "colab_type": "code",
        "colab": {}
      },
      "source": [
        "def sizeImage(series_value, size=(100,100)):\n",
        "    return cv2.resize(series_value, size, interpolation=cv2.INTER_NEAREST) "
      ],
      "execution_count": 0,
      "outputs": []
    },
    {
      "cell_type": "code",
      "metadata": {
        "id": "VBQvb9Gkxfhk",
        "colab_type": "code",
        "colab": {}
      },
      "source": [
        "set_completo[\"image_resiz\"] = set_completo[\"image_array\"].apply(sizeImage)\n",
        "#set_completo[\"resize\"] = set_completo[\"image_array_Float\"]"
      ],
      "execution_count": 0,
      "outputs": []
    },
    {
      "cell_type": "code",
      "metadata": {
        "id": "EHiPCp4WrdhJ",
        "colab_type": "code",
        "colab": {}
      },
      "source": [
        "def fftransform(array):\n",
        "    '''fft to all the array images (column in this case)'''\n",
        "    return np.abs(fft(array,5, axis=-1))"
      ],
      "execution_count": 0,
      "outputs": []
    },
    {
      "cell_type": "code",
      "metadata": {
        "id": "RpVSiS1ordlB",
        "colab_type": "code",
        "colab": {}
      },
      "source": [
        "set_completo[\"fft\"] = set_completo[\"image_resiz\"].apply(fftransform)\n"
      ],
      "execution_count": 0,
      "outputs": []
    },
    {
      "cell_type": "code",
      "metadata": {
        "id": "lD616AKTL5in",
        "colab_type": "code",
        "outputId": "4382d80b-623b-44ae-ff9d-8f17d5e10592",
        "colab": {
          "base_uri": "https://localhost:8080/",
          "height": 34
        }
      },
      "source": [
        "\"\"\"\n",
        "def quitar(value):\n",
        "  return value[:,:,0]\"\"\""
      ],
      "execution_count": 0,
      "outputs": [
        {
          "output_type": "execute_result",
          "data": {
            "text/plain": [
              "'\\ndef quitar(value):\\n  return value[:,:,0]'"
            ]
          },
          "metadata": {
            "tags": []
          },
          "execution_count": 100
        }
      ]
    },
    {
      "cell_type": "code",
      "metadata": {
        "id": "dVr53leFMHxp",
        "colab_type": "code",
        "colab": {}
      },
      "source": [
        "#set_completo[\"fftsinuno\"] = set_completo[\"fft\"].apply(quitar)"
      ],
      "execution_count": 0,
      "outputs": []
    },
    {
      "cell_type": "code",
      "metadata": {
        "id": "tdEvxDTqUSEx",
        "colab_type": "code",
        "colab": {}
      },
      "source": [
        "#def norm(value):\n",
        "  #return value/np.amax(value)"
      ],
      "execution_count": 0,
      "outputs": []
    },
    {
      "cell_type": "code",
      "metadata": {
        "id": "UHrMYTe5xftZ",
        "colab_type": "code",
        "colab": {}
      },
      "source": [
        "\n",
        "#= set_completo[\"fftsinuno\"].apply(norm)"
      ],
      "execution_count": 0,
      "outputs": []
    },
    {
      "cell_type": "code",
      "metadata": {
        "id": "f2qK_Ve8rddR",
        "colab_type": "code",
        "colab": {}
      },
      "source": [
        "X=np.asarray(list(set_completo['fft']))\n",
        "X = X.reshape(X.shape[0], -1)\n",
        "y=np.asarray(set_completo['label'])"
      ],
      "execution_count": 0,
      "outputs": []
    },
    {
      "cell_type": "code",
      "metadata": {
        "id": "mDMshwOBrdbm",
        "colab_type": "code",
        "colab": {}
      },
      "source": [
        "X_train, X_test, y_train, y_test = train_test_split(X, y, test_size=0.2)"
      ],
      "execution_count": 0,
      "outputs": []
    },
    {
      "cell_type": "code",
      "metadata": {
        "id": "Y2ToqeJ3Jwpm",
        "colab_type": "code",
        "outputId": "a969f963-6a44-47e8-f1f7-aa2ed040a708",
        "colab": {
          "base_uri": "https://localhost:8080/",
          "height": 34
        }
      },
      "source": [
        "X_train.shape"
      ],
      "execution_count": 0,
      "outputs": [
        {
          "output_type": "execute_result",
          "data": {
            "text/plain": [
              "(3200, 50000)"
            ]
          },
          "metadata": {
            "tags": []
          },
          "execution_count": 103
        }
      ]
    },
    {
      "cell_type": "code",
      "metadata": {
        "id": "G1AhdmahrdUG",
        "colab_type": "code",
        "colab": {}
      },
      "source": [
        "model = RandomForestClassifier(random_state=42, max_features='auto', n_estimators= 500, max_depth=8, criterion='entropy')"
      ],
      "execution_count": 0,
      "outputs": []
    },
    {
      "cell_type": "code",
      "metadata": {
        "id": "f9w3iL61uodG",
        "colab_type": "code",
        "outputId": "a6d040cf-9494-4c47-dc10-4c38d64932f7",
        "colab": {
          "base_uri": "https://localhost:8080/",
          "height": 156
        }
      },
      "source": [
        "model.fit(X_train, y_train)"
      ],
      "execution_count": 0,
      "outputs": [
        {
          "output_type": "execute_result",
          "data": {
            "text/plain": [
              "RandomForestClassifier(bootstrap=True, ccp_alpha=0.0, class_weight=None,\n",
              "                       criterion='entropy', max_depth=8, max_features='auto',\n",
              "                       max_leaf_nodes=None, max_samples=None,\n",
              "                       min_impurity_decrease=0.0, min_impurity_split=None,\n",
              "                       min_samples_leaf=1, min_samples_split=2,\n",
              "                       min_weight_fraction_leaf=0.0, n_estimators=500,\n",
              "                       n_jobs=None, oob_score=False, random_state=42, verbose=0,\n",
              "                       warm_start=False)"
            ]
          },
          "metadata": {
            "tags": []
          },
          "execution_count": 105
        }
      ]
    },
    {
      "cell_type": "code",
      "metadata": {
        "id": "awUesSfKuogO",
        "colab_type": "code",
        "colab": {}
      },
      "source": [
        "y_pred=model.predict(X_test)"
      ],
      "execution_count": 0,
      "outputs": []
    },
    {
      "cell_type": "code",
      "metadata": {
        "id": "7yk-CWvhuoi4",
        "colab_type": "code",
        "outputId": "9ce19a51-244e-4fb7-b21a-a5a252932fb0",
        "colab": {
          "base_uri": "https://localhost:8080/",
          "height": 139
        }
      },
      "source": [
        "print(\"Accuracy\", accuracy_score(y_test, y_pred))\n",
        "print(\"Precision\", precision_score(y_test, y_pred))\n",
        "print(\"Precision\", precision_score(y_test, y_pred, average='weighted'))\n",
        "print(\"Recall\", recall_score(y_test, y_pred))\n",
        "print(\"Recall\", recall_score(y_test, y_pred, average='weighted'))\n",
        "print(\"F1Score\",f1_score(y_test, y_pred),\"\\n\")"
      ],
      "execution_count": 0,
      "outputs": [
        {
          "output_type": "stream",
          "text": [
            "Accuracy 0.51375\n",
            "Precision 0.5163636363636364\n",
            "Precision 0.5143623376623377\n",
            "Recall 0.35678391959798994\n",
            "Recall 0.51375\n",
            "F1Score 0.42199108469539376 \n",
            "\n"
          ],
          "name": "stdout"
        }
      ]
    },
    {
      "cell_type": "code",
      "metadata": {
        "id": "IlLOtwMluol2",
        "colab_type": "code",
        "outputId": "477d81d8-d32c-4f8d-dcc5-d4f10d2bd34b",
        "colab": {
          "base_uri": "https://localhost:8080/",
          "height": 472
        }
      },
      "source": [
        "y_score = model.predict_proba(X_test)\n",
        "\n",
        "#print(y_score)\n",
        "roc = roc_curve(y_test, y_score[:,0])\n",
        "display(pd.DataFrame({\n",
        "    \"gt\":y_test,\n",
        "    \"predicted\":y_pred,\n",
        "    \"proba MSI\":y_score[:,0],\n",
        "    \"proba MSS\":y_score[:,1]\n",
        "}).head())\n",
        "\n",
        "plt.plot(roc[0],roc[1])\n",
        "plt.legend([\"AUC: {}\".format(round(roc_auc_score(y_test, y_score[:,0]),2))])"
      ],
      "execution_count": 0,
      "outputs": [
        {
          "output_type": "display_data",
          "data": {
            "text/html": [
              "<div>\n",
              "<style scoped>\n",
              "    .dataframe tbody tr th:only-of-type {\n",
              "        vertical-align: middle;\n",
              "    }\n",
              "\n",
              "    .dataframe tbody tr th {\n",
              "        vertical-align: top;\n",
              "    }\n",
              "\n",
              "    .dataframe thead th {\n",
              "        text-align: right;\n",
              "    }\n",
              "</style>\n",
              "<table border=\"1\" class=\"dataframe\">\n",
              "  <thead>\n",
              "    <tr style=\"text-align: right;\">\n",
              "      <th></th>\n",
              "      <th>gt</th>\n",
              "      <th>predicted</th>\n",
              "      <th>proba MSI</th>\n",
              "      <th>proba MSS</th>\n",
              "    </tr>\n",
              "  </thead>\n",
              "  <tbody>\n",
              "    <tr>\n",
              "      <th>0</th>\n",
              "      <td>0</td>\n",
              "      <td>1</td>\n",
              "      <td>0.469813</td>\n",
              "      <td>0.530187</td>\n",
              "    </tr>\n",
              "    <tr>\n",
              "      <th>1</th>\n",
              "      <td>0</td>\n",
              "      <td>0</td>\n",
              "      <td>0.550707</td>\n",
              "      <td>0.449293</td>\n",
              "    </tr>\n",
              "    <tr>\n",
              "      <th>2</th>\n",
              "      <td>1</td>\n",
              "      <td>0</td>\n",
              "      <td>0.519221</td>\n",
              "      <td>0.480779</td>\n",
              "    </tr>\n",
              "    <tr>\n",
              "      <th>3</th>\n",
              "      <td>1</td>\n",
              "      <td>0</td>\n",
              "      <td>0.500730</td>\n",
              "      <td>0.499270</td>\n",
              "    </tr>\n",
              "    <tr>\n",
              "      <th>4</th>\n",
              "      <td>1</td>\n",
              "      <td>0</td>\n",
              "      <td>0.522838</td>\n",
              "      <td>0.477162</td>\n",
              "    </tr>\n",
              "  </tbody>\n",
              "</table>\n",
              "</div>"
            ],
            "text/plain": [
              "   gt  predicted  proba MSI  proba MSS\n",
              "0   0          1   0.469813   0.530187\n",
              "1   0          0   0.550707   0.449293\n",
              "2   1          0   0.519221   0.480779\n",
              "3   1          0   0.500730   0.499270\n",
              "4   1          0   0.522838   0.477162"
            ]
          },
          "metadata": {
            "tags": []
          }
        },
        {
          "output_type": "execute_result",
          "data": {
            "text/plain": [
              "<matplotlib.legend.Legend at 0x7f268620d5c0>"
            ]
          },
          "metadata": {
            "tags": []
          },
          "execution_count": 108
        },
        {
          "output_type": "display_data",
          "data": {
            "image/png": "[encoded data removed]",
            "text/plain": [
              "<Figure size 432x288 with 1 Axes>"
            ]
          },
          "metadata": {
            "tags": [],
            "needs_background": "light"
          }
        }
      ]
    },
    {
      "cell_type": "code",
      "metadata": {
        "id": "sjtEFdT7uoqS",
        "colab_type": "code",
        "outputId": "9bedc964-fb05-4a7c-b685-36bee8464192",
        "colab": {
          "base_uri": "https://localhost:8080/",
          "height": 143
        }
      },
      "source": [
        "pd.crosstab(y_test, y_pred, rownames=['Actual Result'], colnames=['Predicted Result'])"
      ],
      "execution_count": 0,
      "outputs": [
        {
          "output_type": "execute_result",
          "data": {
            "text/html": [
              "<div>\n",
              "<style scoped>\n",
              "    .dataframe tbody tr th:only-of-type {\n",
              "        vertical-align: middle;\n",
              "    }\n",
              "\n",
              "    .dataframe tbody tr th {\n",
              "        vertical-align: top;\n",
              "    }\n",
              "\n",
              "    .dataframe thead th {\n",
              "        text-align: right;\n",
              "    }\n",
              "</style>\n",
              "<table border=\"1\" class=\"dataframe\">\n",
              "  <thead>\n",
              "    <tr style=\"text-align: right;\">\n",
              "      <th>Predicted Result</th>\n",
              "      <th>0</th>\n",
              "      <th>1</th>\n",
              "    </tr>\n",
              "    <tr>\n",
              "      <th>Actual Result</th>\n",
              "      <th></th>\n",
              "      <th></th>\n",
              "    </tr>\n",
              "  </thead>\n",
              "  <tbody>\n",
              "    <tr>\n",
              "      <th>0</th>\n",
              "      <td>269</td>\n",
              "      <td>133</td>\n",
              "    </tr>\n",
              "    <tr>\n",
              "      <th>1</th>\n",
              "      <td>256</td>\n",
              "      <td>142</td>\n",
              "    </tr>\n",
              "  </tbody>\n",
              "</table>\n",
              "</div>"
            ],
            "text/plain": [
              "Predicted Result    0    1\n",
              "Actual Result             \n",
              "0                 269  133\n",
              "1                 256  142"
            ]
          },
          "metadata": {
            "tags": []
          },
          "execution_count": 109
        }
      ]
    },
    {
      "cell_type": "code",
      "metadata": {
        "id": "PQlEgPsIE93u",
        "colab_type": "code",
        "colab": {}
      },
      "source": [
        ""
      ],
      "execution_count": 0,
      "outputs": []
    }
  ]
}