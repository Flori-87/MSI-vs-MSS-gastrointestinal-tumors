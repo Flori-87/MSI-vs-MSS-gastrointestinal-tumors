{
 "cells": [
  {
   "cell_type": "code",
   "execution_count": 70,
   "metadata": {},
   "outputs": [],
   "source": [
    "import glob\n",
    "import pandas as pd\n",
    "import os\n",
    "import re\n",
    "import shutil"
   ]
  },
  {
   "cell_type": "code",
   "execution_count": null,
   "metadata": {},
   "outputs": [],
   "source": [
    "\"\"\"\n",
    "# Obtain pathnames of each image\n",
    "path = \"/home/flori/ironhack/projects/final-project\"\n",
    "\n",
    "fullpath_MSI = f\"{path}/MSIMUT_JPEG/*.jpg\"\n",
    "fullpath_MSS = f\"{path}/MSS_JPEG/*.jpg\"\n",
    "print(fullpath_MSI)\n",
    "print(fullpath_MSS)\n",
    "\n",
    "MSIfiles = glob.glob(fullpath_MSI)\n",
    "MSSfiles = glob.glob(fullpath_MSS)\n",
    "\"\"\""
   ]
  },
  {
   "cell_type": "code",
   "execution_count": null,
   "metadata": {},
   "outputs": [],
   "source": [
    "\"\"\"Two ways to rename files\n",
    "import shutil\n",
    "shutil.move('a.txt', 'b.kml')\n",
    "\n",
    "\n",
    "old_file = os.path.join(\"/home/flori/ironhack/projects/final-project/MSIMUT_JPEG\", \"blk-AAADECQEWVSD-TCGA-CM-4746-01Z-00-DX1.jpg\")\n",
    "new_file = os.path.join(\"../input/biopsy_images\", \"MSI/1.jpg\")\n",
    "os.rename(old_file, new_file)\n",
    "\"\"\""
   ]
  },
  {
   "cell_type": "code",
   "execution_count": 4,
   "metadata": {},
   "outputs": [
    {
     "ename": "FileNotFoundError",
     "evalue": "[Errno 2] No such file or directory: '/home/flori/ironhack/projects/final-project/MSIMUT_JPEG/blk-AAADECQEWVSD-TCGA-CM-4746-01Z-00-DX1.jpg' -> '../input/biopsy_images/MSI/1.jpg'",
     "output_type": "error",
     "traceback": [
      "\u001b[0;31m---------------------------------------------------------------------------\u001b[0m",
      "\u001b[0;31mFileNotFoundError\u001b[0m                         Traceback (most recent call last)",
      "\u001b[0;32m<ipython-input-4-0ec80189fe52>\u001b[0m in \u001b[0;36m<module>\u001b[0;34m()\u001b[0m\n\u001b[1;32m      2\u001b[0m \u001b[0mold_file\u001b[0m \u001b[0;34m=\u001b[0m \u001b[0mos\u001b[0m\u001b[0;34m.\u001b[0m\u001b[0mpath\u001b[0m\u001b[0;34m.\u001b[0m\u001b[0mjoin\u001b[0m\u001b[0;34m(\u001b[0m\u001b[0;34m\"/home/flori/ironhack/projects/final-project/MSIMUT_JPEG\"\u001b[0m\u001b[0;34m,\u001b[0m \u001b[0;34m\"blk-AAADECQEWVSD-TCGA-CM-4746-01Z-00-DX1.jpg\"\u001b[0m\u001b[0;34m)\u001b[0m\u001b[0;34m\u001b[0m\u001b[0;34m\u001b[0m\u001b[0m\n\u001b[1;32m      3\u001b[0m \u001b[0mnew_file\u001b[0m \u001b[0;34m=\u001b[0m \u001b[0mos\u001b[0m\u001b[0;34m.\u001b[0m\u001b[0mpath\u001b[0m\u001b[0;34m.\u001b[0m\u001b[0mjoin\u001b[0m\u001b[0;34m(\u001b[0m\u001b[0;34m\"../input/biopsy_images\"\u001b[0m\u001b[0;34m,\u001b[0m \u001b[0;34m\"MSI/1.jpg\"\u001b[0m\u001b[0;34m)\u001b[0m\u001b[0;34m\u001b[0m\u001b[0;34m\u001b[0m\u001b[0m\n\u001b[0;32m----> 4\u001b[0;31m \u001b[0mos\u001b[0m\u001b[0;34m.\u001b[0m\u001b[0mrename\u001b[0m\u001b[0;34m(\u001b[0m\u001b[0mold_file\u001b[0m\u001b[0;34m,\u001b[0m \u001b[0mnew_file\u001b[0m\u001b[0;34m)\u001b[0m\u001b[0;34m\u001b[0m\u001b[0;34m\u001b[0m\u001b[0m\n\u001b[0m",
      "\u001b[0;31mFileNotFoundError\u001b[0m: [Errno 2] No such file or directory: '/home/flori/ironhack/projects/final-project/MSIMUT_JPEG/blk-AAADECQEWVSD-TCGA-CM-4746-01Z-00-DX1.jpg' -> '../input/biopsy_images/MSI/1.jpg'"
     ]
    }
   ],
   "source": [
    "\"\"\"\n",
    "No puedo cambiar y mover el archivo a la vez\n",
    "#rename files and move them\n",
    "old_file = os.path.join(\"/home/flori/ironhack/projects/final-project/MSIMUT_JPEG\", \"blk-AAADECQEWVSD-TCGA-CM-4746-01Z-00-DX1.jpg\")\n",
    "new_file = os.path.join(\"../input/biopsy_images\", \"MSI/1.jpg\")\n",
    "os.rename(old_file, new_file)\n",
    "\"\"\""
   ]
  },
  {
   "cell_type": "code",
   "execution_count": 3,
   "metadata": {},
   "outputs": [
    {
     "name": "stdout",
     "output_type": "stream",
     "text": [
      "/home/flori/ironhack/projects/final-project/MSIMUT_JPEG/*.jpg\n",
      "/home/flori/ironhack/projects/final-project/MSS_JPEG/*.jpg\n"
     ]
    }
   ],
   "source": [
    "# First rename, the copy with shutil\n",
    "# Obtain pathnames of each image\n",
    "path = \"/home/flori/ironhack/projects/final-project\"\n",
    "\n",
    "fullpath_MSI = f\"{path}/MSIMUT_JPEG/*.jpg\"\n",
    "fullpath_MSS = f\"{path}/MSS_JPEG/*.jpg\"\n",
    "print(fullpath_MSI)\n",
    "print(fullpath_MSS)\n",
    "\n",
    "MSIfiles = glob.glob(fullpath_MSI)\n",
    "MSSfiles = glob.glob(fullpath_MSS)"
   ]
  },
  {
   "cell_type": "code",
   "execution_count": 4,
   "metadata": {},
   "outputs": [
    {
     "name": "stdout",
     "output_type": "stream",
     "text": [
      "/home/flori/ironhack/projects/final-project/MSIMUT_JPEG/blk-DIIMCHYEWATG-TCGA-AA-3715-01Z-00-DX1.jpg\n"
     ]
    }
   ],
   "source": [
    "print(MSIfiles[0])"
   ]
  },
  {
   "cell_type": "code",
   "execution_count": 5,
   "metadata": {},
   "outputs": [
    {
     "data": {
      "text/plain": [
       "75039"
      ]
     },
     "metadata": {},
     "output_type": "display_data"
    },
    {
     "data": {
      "text/plain": [
       "117273"
      ]
     },
     "metadata": {},
     "output_type": "display_data"
    }
   ],
   "source": [
    "display(len(MSIfiles), len(MSSfiles))"
   ]
  },
  {
   "cell_type": "code",
   "execution_count": 24,
   "metadata": {},
   "outputs": [],
   "source": [
    "\"\"\"\n",
    "def checkNameFile(nameFiles, pattern, nameFolder):\n",
    "    # check if all files contain the sequence \"blk-\"\n",
    "    name_list = []\n",
    "    for name in nameFiles:\n",
    "        name_list.append(re.search(pattern, name).group())\n",
    "    return print(f\"The number of files in {nameFolder} whose name contains the sequence {pattern} is {len(name_list)}\")\n",
    "    \n",
    "\"\"\""
   ]
  },
  {
   "cell_type": "code",
   "execution_count": 25,
   "metadata": {},
   "outputs": [
    {
     "name": "stdout",
     "output_type": "stream",
     "text": [
      "The number of files in MSIfiles whose name contains the sequence MSIMUT_JPEG/blk- is 75039\n",
      "The number of files in MSSfiles whose name contains the sequence MSS_JPEG/blk- is 117273\n"
     ]
    }
   ],
   "source": [
    "\"\"\"\n",
    "checkNameFile(MSIfiles, r'MSIMUT_JPEG/blk-', \"MSIfiles\")\n",
    "checkNameFile(MSSfiles, r'MSS_JPEG/blk-', \"MSSfiles\")\n",
    "\"\"\""
   ]
  },
  {
   "cell_type": "code",
   "execution_count": 33,
   "metadata": {},
   "outputs": [],
   "source": [
    "\"\"\"\n",
    "# All files contain the pattern \"*_JPEG/blk-\". Use this sequence to rename files\n",
    "# \n",
    "def renameFiles(nameFiles, name):\n",
    "    for i in range(len(nameFiles)):\n",
    "        old_name = os.path.join(nameFiles[i].split(\"/blk-\")[0], nameFiles[i].split(\"_JPEG/\")[1])\n",
    "        print(old_name)\n",
    "        new_name = os.path.join(nameFiles[i].split(\"/blk-\")[0], f'{name}_{str(i)}.jpg')\n",
    "        print(new_name)\n",
    "        os.rename(old_name, new_name)\n",
    "    return print(\"File names changed\")\n",
    "\"\"\""
   ]
  },
  {
   "cell_type": "code",
   "execution_count": 55,
   "metadata": {},
   "outputs": [
    {
     "name": "stdout",
     "output_type": "stream",
     "text": [
      "['blk-AAADECQEWVSD-TCGA-CM-4746-01Z-00-DX1.jpg', 'blk-AAAFIYHTSVIE-TCGA-G4-6309-01Z-00-DX1.jpg', 'blk-AAADTPTGAKQV-TCGA-A6-3809-01Z-00-DX1.jpg']\n"
     ]
    }
   ],
   "source": [
    "#Creo que con listdir es más sencillo y limpio, voy a intentarlo. Voy a probarlo sobre una carpeta de prueba con solo 3 archivos\n",
    "path = \"/home/flori/ironhack/projects/final-project/prueba_cambio_nombre\"\n",
    "pruebafiles = os.listdir(path)\n",
    "print(pruebafiles)"
   ]
  },
  {
   "cell_type": "code",
   "execution_count": 56,
   "metadata": {},
   "outputs": [],
   "source": [
    "def renameFiles(path, files, nameFile):\n",
    "    count = 0\n",
    "    for i in range(len(files)):\n",
    "        if re.search(fr\"^{nameFile}\", files[i])==None:\n",
    "            old_name = os.path.join(path, files[i])\n",
    "            new_name = os.path.join(path, f'{nameFile}_{str(i)}.jpg')\n",
    "            os.rename(old_name, new_name)\n",
    "            count += 1\n",
    "    return f\"Number of files that have been renamed: {count}\""
   ]
  },
  {
   "cell_type": "code",
   "execution_count": 57,
   "metadata": {},
   "outputs": [
    {
     "data": {
      "text/plain": [
       "'Number of files that have been renamed: 3'"
      ]
     },
     "execution_count": 57,
     "metadata": {},
     "output_type": "execute_result"
    }
   ],
   "source": [
    "renameFiles(path, pruebafiles, \"MSI\")"
   ]
  },
  {
   "cell_type": "code",
   "execution_count": 58,
   "metadata": {},
   "outputs": [
    {
     "name": "stdout",
     "output_type": "stream",
     "text": [
      "['MSI_1.jpg', 'MSI_2.jpg', 'MSI_0.jpg']\n"
     ]
    }
   ],
   "source": [
    "pruebafiles = os.listdir(path)\n",
    "print(pruebafiles)"
   ]
  },
  {
   "cell_type": "code",
   "execution_count": null,
   "metadata": {},
   "outputs": [],
   "source": [
    "#Funciona bien con esta carpeta de 3 archivos. Voy probar con las carpetas que contienen las imagenes"
   ]
  },
  {
   "cell_type": "code",
   "execution_count": 60,
   "metadata": {},
   "outputs": [
    {
     "name": "stdout",
     "output_type": "stream",
     "text": [
      "75039 blk-DIIMCHYEWATG-TCGA-AA-3715-01Z-00-DX1.jpg\n",
      "117273 blk-WAIVQLAAWVDN-TCGA-CA-6718-01Z-00-DX1.jpg\n"
     ]
    }
   ],
   "source": [
    "# cambio nombre a todos los archivos de MSI y MSS\n",
    "path_comun = \"/home/flori/ironhack/projects/final-project\"\n",
    "pathMSI = f\"{path_comun}/MSIMUT_JPEG\"\n",
    "pathMSS = f\"{path_comun}/MSS_JPEG\"\n",
    "MSIfiles = os.listdir(pathMSI)\n",
    "MSSfiles = os.listdir(pathMSS)\n",
    "print(len(MSIfiles),MSIfiles[0])\n",
    "print(len(MSSfiles),MSSfiles[0])"
   ]
  },
  {
   "cell_type": "code",
   "execution_count": 61,
   "metadata": {},
   "outputs": [
    {
     "data": {
      "text/plain": [
       "'Number of files that have been renamed: 117273'"
      ]
     },
     "execution_count": 61,
     "metadata": {},
     "output_type": "execute_result"
    }
   ],
   "source": [
    "renameFiles(pathMSI, MSIfiles, \"MSI\")\n",
    "renameFiles(pathMSS, MSSfiles, \"MSS\")"
   ]
  },
  {
   "cell_type": "code",
   "execution_count": 2,
   "metadata": {},
   "outputs": [],
   "source": [
    "# create a new folder which will contain all images. Each image will be renamed such as MSI/1 or MSS/2\n",
    "new_path = \"../input/biopsy_images\"\n",
    "if not os.path.isdir(new_path):\n",
    "    os.makedirs(new_path)"
   ]
  },
  {
   "cell_type": "code",
   "execution_count": 68,
   "metadata": {},
   "outputs": [],
   "source": [
    "# Una vez cambiados los nombres de los archivos vamos a moverlos a la nueva carpeta creada \n",
    "# shutil.move mueve el archivo desde una ubicación a otra\n",
    "#Voy a probar de nuevo con la carpeta de prueba\n",
    "\n",
    "def moveFiles(old_path,files_in_path, new_path):\n",
    "    count = 0\n",
    "    for file in files_in_path:\n",
    "        shutil.move(os.path.join(old_path, file), os.path.join(new_path, file))\n",
    "        count += 1\n",
    "    return print(f\"Number of files that have been moved: {count}\")"
   ]
  },
  {
   "cell_type": "code",
   "execution_count": 66,
   "metadata": {},
   "outputs": [
    {
     "name": "stdout",
     "output_type": "stream",
     "text": [
      "['MSI_1.jpg', 'MSI_2.jpg', 'MSI_0.jpg']\n"
     ]
    }
   ],
   "source": [
    "path = \"/home/flori/ironhack/projects/final-project/prueba_cambio_carpeta\"\n",
    "pruebafiles = os.listdir(path)\n",
    "print(pruebafiles)"
   ]
  },
  {
   "cell_type": "code",
   "execution_count": 71,
   "metadata": {},
   "outputs": [
    {
     "name": "stdout",
     "output_type": "stream",
     "text": [
      "Number of files that have been moved: 3\n"
     ]
    }
   ],
   "source": [
    "moveFiles(path, pruebafiles, new_path)"
   ]
  },
  {
   "cell_type": "code",
   "execution_count": 72,
   "metadata": {},
   "outputs": [
    {
     "name": "stdout",
     "output_type": "stream",
     "text": [
      "[]\n"
     ]
    }
   ],
   "source": [
    "pruebafiles = os.listdir(path)\n",
    "print(pruebafiles)"
   ]
  },
  {
   "cell_type": "code",
   "execution_count": 73,
   "metadata": {},
   "outputs": [
    {
     "name": "stdout",
     "output_type": "stream",
     "text": [
      "['MSI_1.jpg', 'MSI_2.jpg', 'MSI_0.jpg']\n"
     ]
    }
   ],
   "source": [
    "pruebafiles = os.listdir(new_path)\n",
    "print(pruebafiles)"
   ]
  },
  {
   "cell_type": "code",
   "execution_count": null,
   "metadata": {},
   "outputs": [],
   "source": [
    "\"\"\"\n",
    "pics = dict()\n",
    "for image in MSIfiles:\n",
    "    label = image.split(\"/\")[-2]\n",
    "    pic = image.split(\"/\")[-2]+\"/\"+foto.split(\"/\")[-1]\n",
    "    if label in pics:\n",
    "        pics[label].append(pic)\n",
    "    else:\n",
    "        pics[label] = [pic]\n",
    "\"\"\""
   ]
  }
 ],
 "metadata": {
  "kernelspec": {
   "display_name": "Python 3",
   "language": "python",
   "name": "python3"
  },
  "language_info": {
   "codemirror_mode": {
    "name": "ipython",
    "version": 3
   },
   "file_extension": ".py",
   "mimetype": "text/x-python",
   "name": "python",
   "nbconvert_exporter": "python",
   "pygments_lexer": "ipython3",
   "version": "3.7.5"
  }
 },
 "nbformat": 4,
 "nbformat_minor": 4
}
