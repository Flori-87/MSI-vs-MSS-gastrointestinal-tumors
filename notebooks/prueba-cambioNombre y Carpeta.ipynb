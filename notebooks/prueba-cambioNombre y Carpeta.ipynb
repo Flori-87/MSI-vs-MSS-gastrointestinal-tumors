{
 "cells": [
  {
   "cell_type": "code",
   "execution_count": 10,
   "metadata": {},
   "outputs": [],
   "source": [
    "import glob\n",
    "import pandas as pd\n",
    "import os\n",
    "import re"
   ]
  },
  {
   "cell_type": "code",
   "execution_count": 3,
   "metadata": {},
   "outputs": [],
   "source": [
    "# create a new folder which will contain all images. Each image will be renamed such as MSI/1 or MSS/2\n",
    "new_path = \"../input/biopsy_images\"\n",
    "if not os.path.isdir(new_path):\n",
    "    os.makedirs(new_path)"
   ]
  },
  {
   "cell_type": "code",
   "execution_count": null,
   "metadata": {},
   "outputs": [],
   "source": [
    "\"\"\"\n",
    "# Obtain pathnames of each image\n",
    "path = \"/home/flori/ironhack/projects/final-project\"\n",
    "\n",
    "fullpath_MSI = f\"{path}/MSIMUT_JPEG/*.jpg\"\n",
    "fullpath_MSS = f\"{path}/MSS_JPEG/*.jpg\"\n",
    "print(fullpath_MSI)\n",
    "print(fullpath_MSS)\n",
    "\n",
    "MSIfiles = glob.glob(fullpath_MSI)\n",
    "MSSfiles = glob.glob(fullpath_MSS)\n",
    "\"\"\""
   ]
  },
  {
   "cell_type": "code",
   "execution_count": null,
   "metadata": {},
   "outputs": [],
   "source": [
    "\"\"\"Two ways to rename files\n",
    "import shutil\n",
    "shutil.move('a.txt', 'b.kml')\n",
    "\n",
    "\n",
    "old_file = os.path.join(\"/home/flori/ironhack/projects/final-project/MSIMUT_JPEG\", \"blk-AAADECQEWVSD-TCGA-CM-4746-01Z-00-DX1.jpg\")\n",
    "new_file = os.path.join(\"../input/biopsy_images\", \"MSI/1.jpg\")\n",
    "os.rename(old_file, new_file)\n",
    "\"\"\""
   ]
  },
  {
   "cell_type": "code",
   "execution_count": 4,
   "metadata": {},
   "outputs": [
    {
     "ename": "FileNotFoundError",
     "evalue": "[Errno 2] No such file or directory: '/home/flori/ironhack/projects/final-project/MSIMUT_JPEG/blk-AAADECQEWVSD-TCGA-CM-4746-01Z-00-DX1.jpg' -> '../input/biopsy_images/MSI/1.jpg'",
     "output_type": "error",
     "traceback": [
      "\u001b[0;31m---------------------------------------------------------------------------\u001b[0m",
      "\u001b[0;31mFileNotFoundError\u001b[0m                         Traceback (most recent call last)",
      "\u001b[0;32m<ipython-input-4-0ec80189fe52>\u001b[0m in \u001b[0;36m<module>\u001b[0;34m()\u001b[0m\n\u001b[1;32m      2\u001b[0m \u001b[0mold_file\u001b[0m \u001b[0;34m=\u001b[0m \u001b[0mos\u001b[0m\u001b[0;34m.\u001b[0m\u001b[0mpath\u001b[0m\u001b[0;34m.\u001b[0m\u001b[0mjoin\u001b[0m\u001b[0;34m(\u001b[0m\u001b[0;34m\"/home/flori/ironhack/projects/final-project/MSIMUT_JPEG\"\u001b[0m\u001b[0;34m,\u001b[0m \u001b[0;34m\"blk-AAADECQEWVSD-TCGA-CM-4746-01Z-00-DX1.jpg\"\u001b[0m\u001b[0;34m)\u001b[0m\u001b[0;34m\u001b[0m\u001b[0;34m\u001b[0m\u001b[0m\n\u001b[1;32m      3\u001b[0m \u001b[0mnew_file\u001b[0m \u001b[0;34m=\u001b[0m \u001b[0mos\u001b[0m\u001b[0;34m.\u001b[0m\u001b[0mpath\u001b[0m\u001b[0;34m.\u001b[0m\u001b[0mjoin\u001b[0m\u001b[0;34m(\u001b[0m\u001b[0;34m\"../input/biopsy_images\"\u001b[0m\u001b[0;34m,\u001b[0m \u001b[0;34m\"MSI/1.jpg\"\u001b[0m\u001b[0;34m)\u001b[0m\u001b[0;34m\u001b[0m\u001b[0;34m\u001b[0m\u001b[0m\n\u001b[0;32m----> 4\u001b[0;31m \u001b[0mos\u001b[0m\u001b[0;34m.\u001b[0m\u001b[0mrename\u001b[0m\u001b[0;34m(\u001b[0m\u001b[0mold_file\u001b[0m\u001b[0;34m,\u001b[0m \u001b[0mnew_file\u001b[0m\u001b[0;34m)\u001b[0m\u001b[0;34m\u001b[0m\u001b[0;34m\u001b[0m\u001b[0m\n\u001b[0m",
      "\u001b[0;31mFileNotFoundError\u001b[0m: [Errno 2] No such file or directory: '/home/flori/ironhack/projects/final-project/MSIMUT_JPEG/blk-AAADECQEWVSD-TCGA-CM-4746-01Z-00-DX1.jpg' -> '../input/biopsy_images/MSI/1.jpg'"
     ]
    }
   ],
   "source": [
    "\"\"\"\n",
    "No puedo cambiar y mover el archivo a la vez\n",
    "#rename files and move them\n",
    "old_file = os.path.join(\"/home/flori/ironhack/projects/final-project/MSIMUT_JPEG\", \"blk-AAADECQEWVSD-TCGA-CM-4746-01Z-00-DX1.jpg\")\n",
    "new_file = os.path.join(\"../input/biopsy_images\", \"MSI/1.jpg\")\n",
    "os.rename(old_file, new_file)\n",
    "\"\"\""
   ]
  },
  {
   "cell_type": "code",
   "execution_count": 5,
   "metadata": {},
   "outputs": [
    {
     "name": "stdout",
     "output_type": "stream",
     "text": [
      "/home/flori/ironhack/projects/final-project/MSIMUT_JPEG/*.jpg\n",
      "/home/flori/ironhack/projects/final-project/MSS_JPEG/*.jpg\n"
     ]
    }
   ],
   "source": [
    "# First rename, the copy with shutil\n",
    "# Obtain pathnames of each image\n",
    "path = \"/home/flori/ironhack/projects/final-project\"\n",
    "\n",
    "fullpath_MSI = f\"{path}/MSIMUT_JPEG/*.jpg\"\n",
    "fullpath_MSS = f\"{path}/MSS_JPEG/*.jpg\"\n",
    "print(fullpath_MSI)\n",
    "print(fullpath_MSS)\n",
    "\n",
    "MSIfiles = glob.glob(fullpath_MSI)\n",
    "MSSfiles = glob.glob(fullpath_MSS)"
   ]
  },
  {
   "cell_type": "code",
   "execution_count": 6,
   "metadata": {},
   "outputs": [
    {
     "name": "stdout",
     "output_type": "stream",
     "text": [
      "/home/flori/ironhack/projects/final-project/MSIMUT_JPEG/blk-DIIMCHYEWATG-TCGA-AA-3715-01Z-00-DX1.jpg\n"
     ]
    }
   ],
   "source": [
    "print(MSIfiles[0])"
   ]
  },
  {
   "cell_type": "code",
   "execution_count": 8,
   "metadata": {},
   "outputs": [
    {
     "data": {
      "text/plain": [
       "75039"
      ]
     },
     "metadata": {},
     "output_type": "display_data"
    },
    {
     "data": {
      "text/plain": [
       "117273"
      ]
     },
     "metadata": {},
     "output_type": "display_data"
    }
   ],
   "source": [
    "display(len(MSIfiles), len(MSSfiles))"
   ]
  },
  {
   "cell_type": "code",
   "execution_count": 24,
   "metadata": {},
   "outputs": [],
   "source": [
    "\"\"\"\n",
    "def checkNameFile(nameFiles, pattern, nameFolder):\n",
    "    # check if all files contain the sequence \"blk-\"\n",
    "    name_list = []\n",
    "    for name in nameFiles:\n",
    "        name_list.append(re.search(pattern, name).group())\n",
    "    return print(f\"The number of files in {nameFolder} whose name contains the sequence {pattern} is {len(name_list)}\")\n",
    "    \n",
    "\"\"\""
   ]
  },
  {
   "cell_type": "code",
   "execution_count": 25,
   "metadata": {},
   "outputs": [
    {
     "name": "stdout",
     "output_type": "stream",
     "text": [
      "The number of files in MSIfiles whose name contains the sequence MSIMUT_JPEG/blk- is 75039\n",
      "The number of files in MSSfiles whose name contains the sequence MSS_JPEG/blk- is 117273\n"
     ]
    }
   ],
   "source": [
    "\"\"\"\n",
    "checkNameFile(MSIfiles, r'MSIMUT_JPEG/blk-', \"MSIfiles\")\n",
    "checkNameFile(MSSfiles, r'MSS_JPEG/blk-', \"MSSfiles\")\n",
    "\"\"\""
   ]
  },
  {
   "cell_type": "code",
   "execution_count": 33,
   "metadata": {},
   "outputs": [],
   "source": [
    "\"\"\"\n",
    "# All files contain the pattern \"*_JPEG/blk-\". Use this sequence to rename files\n",
    "# \n",
    "def renameFiles(nameFiles, name):\n",
    "    for i in range(len(nameFiles)):\n",
    "        old_name = os.path.join(nameFiles[i].split(\"/blk-\")[0], nameFiles[i].split(\"_JPEG/\")[1])\n",
    "        print(old_name)\n",
    "        new_name = os.path.join(nameFiles[i].split(\"/blk-\")[0], f'{name}_{str(i)}.jpg')\n",
    "        print(new_name)\n",
    "        os.rename(old_name, new_name)\n",
    "    return print(\"File names changed\")\n",
    "\"\"\""
   ]
  },
  {
   "cell_type": "code",
   "execution_count": 40,
   "metadata": {},
   "outputs": [
    {
     "name": "stdout",
     "output_type": "stream",
     "text": [
      "blk-DIIMCHYEWATG-TCGA-AA-3715-01Z-00-DX1.jpg\n",
      "blk-WAIVQLAAWVDN-TCGA-CA-6718-01Z-00-DX1.jpg\n"
     ]
    }
   ],
   "source": [
    "#Creo que con listdir es más sencillo y limpio, voy a intentarlo\n",
    "path_comun = \"/home/flori/ironhack/projects/final-project\"\n",
    "pathMSI = f\"{path}/MSIMUT_JPEG\"\n",
    "pathMSS = f\"{path}/MSS_JPEG\"\n",
    "MSIfiles = os.listdir(pathMSI)\n",
    "MSSfiles = os.listdir(pathMSS)\n",
    "print(MSIfiles[0])\n",
    "print(MSSfiles[0])"
   ]
  },
  {
   "cell_type": "code",
   "execution_count": 44,
   "metadata": {},
   "outputs": [],
   "source": [
    "def renameFiles(path, files, new_name):\n",
    "    for i in range(len(files)):\n",
    "        old_name = os.path.join(path, files[i])\n",
    "        if not re.compile(new_name, file[i]):\n",
    "            new_name = os.path.join(path, f'{new_name}_{str(i)}.jpg')\n",
    "            os.rename(old_name, new_name)\n",
    "    return print(\"File names changed\")"
   ]
  },
  {
   "cell_type": "code",
   "execution_count": 45,
   "metadata": {},
   "outputs": [
    {
     "ename": "FileNotFoundError",
     "evalue": "[Errno 2] No such file or directory: '/home/flori/ironhack/projects/final-project/MSIMUT_JPEG/blk-DIIMCHYEWATG-TCGA-AA-3715-01Z-00-DX1.jpg' -> '/home/flori/ironhack/projects/final-project/MSIMUT_JPEG/MSI_0.jpg'",
     "output_type": "error",
     "traceback": [
      "\u001b[0;31m---------------------------------------------------------------------------\u001b[0m",
      "\u001b[0;31mFileNotFoundError\u001b[0m                         Traceback (most recent call last)",
      "\u001b[0;32m<ipython-input-45-ec3b59c5c3de>\u001b[0m in \u001b[0;36m<module>\u001b[0;34m()\u001b[0m\n\u001b[0;32m----> 1\u001b[0;31m \u001b[0mrenameFiles\u001b[0m\u001b[0;34m(\u001b[0m\u001b[0mpathMSI\u001b[0m\u001b[0;34m,\u001b[0m \u001b[0mMSIfiles\u001b[0m\u001b[0;34m,\u001b[0m \u001b[0;34m\"MSI\"\u001b[0m\u001b[0;34m)\u001b[0m\u001b[0;34m\u001b[0m\u001b[0;34m\u001b[0m\u001b[0m\n\u001b[0m\u001b[1;32m      2\u001b[0m \u001b[0mrenameFiles\u001b[0m\u001b[0;34m(\u001b[0m\u001b[0mpathMSS\u001b[0m\u001b[0;34m,\u001b[0m \u001b[0mMSSfiles\u001b[0m\u001b[0;34m,\u001b[0m \u001b[0;34m\"MSS\"\u001b[0m\u001b[0;34m)\u001b[0m\u001b[0;34m\u001b[0m\u001b[0;34m\u001b[0m\u001b[0m\n",
      "\u001b[0;32m<ipython-input-44-12ed9f5f0638>\u001b[0m in \u001b[0;36mrenameFiles\u001b[0;34m(path, files, new_name)\u001b[0m\n\u001b[1;32m      3\u001b[0m         \u001b[0mold_name\u001b[0m \u001b[0;34m=\u001b[0m \u001b[0mos\u001b[0m\u001b[0;34m.\u001b[0m\u001b[0mpath\u001b[0m\u001b[0;34m.\u001b[0m\u001b[0mjoin\u001b[0m\u001b[0;34m(\u001b[0m\u001b[0mpath\u001b[0m\u001b[0;34m,\u001b[0m \u001b[0mfiles\u001b[0m\u001b[0;34m[\u001b[0m\u001b[0mi\u001b[0m\u001b[0;34m]\u001b[0m\u001b[0;34m)\u001b[0m\u001b[0;34m\u001b[0m\u001b[0;34m\u001b[0m\u001b[0m\n\u001b[1;32m      4\u001b[0m         \u001b[0mnew_name\u001b[0m \u001b[0;34m=\u001b[0m \u001b[0mos\u001b[0m\u001b[0;34m.\u001b[0m\u001b[0mpath\u001b[0m\u001b[0;34m.\u001b[0m\u001b[0mjoin\u001b[0m\u001b[0;34m(\u001b[0m\u001b[0mpath\u001b[0m\u001b[0;34m,\u001b[0m \u001b[0;34mf'{new_name}_{str(i)}.jpg'\u001b[0m\u001b[0;34m)\u001b[0m\u001b[0;34m\u001b[0m\u001b[0;34m\u001b[0m\u001b[0m\n\u001b[0;32m----> 5\u001b[0;31m         \u001b[0mos\u001b[0m\u001b[0;34m.\u001b[0m\u001b[0mrename\u001b[0m\u001b[0;34m(\u001b[0m\u001b[0mold_name\u001b[0m\u001b[0;34m,\u001b[0m \u001b[0mnew_name\u001b[0m\u001b[0;34m)\u001b[0m\u001b[0;34m\u001b[0m\u001b[0;34m\u001b[0m\u001b[0m\n\u001b[0m\u001b[1;32m      6\u001b[0m     \u001b[0;32mreturn\u001b[0m \u001b[0mprint\u001b[0m\u001b[0;34m(\u001b[0m\u001b[0;34m\"File names changed\"\u001b[0m\u001b[0;34m)\u001b[0m\u001b[0;34m\u001b[0m\u001b[0;34m\u001b[0m\u001b[0m\n",
      "\u001b[0;31mFileNotFoundError\u001b[0m: [Errno 2] No such file or directory: '/home/flori/ironhack/projects/final-project/MSIMUT_JPEG/blk-DIIMCHYEWATG-TCGA-AA-3715-01Z-00-DX1.jpg' -> '/home/flori/ironhack/projects/final-project/MSIMUT_JPEG/MSI_0.jpg'"
     ]
    }
   ],
   "source": [
    "renameFiles(pathMSI, MSIfiles, \"MSI\")\n",
    "renameFiles(pathMSS, MSSfiles, \"MSS\")"
   ]
  },
  {
   "cell_type": "code",
   "execution_count": null,
   "metadata": {},
   "outputs": [],
   "source": [
    "# Mueve el archivo desde la ubicación actual a la\n",
    "# carpeta \"Documentos\".\n",
    "shutil.move(\"archivo.txt\", \"Documentos/archivo.txt\")"
   ]
  },
  {
   "cell_type": "code",
   "execution_count": null,
   "metadata": {},
   "outputs": [],
   "source": [
    "\"\"\"\n",
    "pics = dict()\n",
    "for image in MSIfiles:\n",
    "    label = image.split(\"/\")[-2]\n",
    "    pic = image.split(\"/\")[-2]+\"/\"+foto.split(\"/\")[-1]\n",
    "    if label in pics:\n",
    "        pics[label].append(pic)\n",
    "    else:\n",
    "        pics[label] = [pic]\n",
    "\"\"\""
   ]
  }
 ],
 "metadata": {
  "kernelspec": {
   "display_name": "Python 3",
   "language": "python",
   "name": "python3"
  },
  "language_info": {
   "codemirror_mode": {
    "name": "ipython",
    "version": 3
   },
   "file_extension": ".py",
   "mimetype": "text/x-python",
   "name": "python",
   "nbconvert_exporter": "python",
   "pygments_lexer": "ipython3",
   "version": "3.7.5"
  }
 },
 "nbformat": 4,
 "nbformat_minor": 4
}
